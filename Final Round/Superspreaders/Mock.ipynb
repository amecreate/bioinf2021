{
 "cells": [
  {
   "cell_type": "code",
   "execution_count": 1,
   "id": "b715a3ab-6e64-4596-816b-d3707f3fa094",
   "metadata": {},
   "outputs": [],
   "source": [
    "import networkx as nx"
   ]
  },
  {
   "cell_type": "code",
   "execution_count": 24,
   "id": "f0865df6-1869-4108-bc06-a387ae5a8ee9",
   "metadata": {
    "tags": []
   },
   "outputs": [],
   "source": [
    "d = [[2],[1, 2, 1],[1, 3, 1],[3],[4, 2, 1],[4, 3, 1],[4, 5, 1],[1],[1, 5, 1],[0],[1],[4, 1, 1],[0],[0]]"
   ]
  },
  {
   "cell_type": "code",
   "execution_count": 32,
   "id": "45ed234b-ed23-4626-8ed1-a1cda4b54d6c",
   "metadata": {},
   "outputs": [],
   "source": [
    "d2 = []\n",
    "for i in d:\n",
    "    if len(i) > 1:\n",
    "        d2.append(i)"
   ]
  },
  {
   "cell_type": "code",
   "execution_count": 33,
   "id": "af6da91c-9fc8-42cf-a173-a966247b4c0b",
   "metadata": {},
   "outputs": [
    {
     "data": {
      "text/plain": [
       "[[1, 2, 1], [1, 3, 1], [4, 2, 1], [4, 3, 1], [4, 5, 1], [1, 5, 1], [4, 1, 1]]"
      ]
     },
     "execution_count": 33,
     "metadata": {},
     "output_type": "execute_result"
    }
   ],
   "source": [
    "d2"
   ]
  },
  {
   "cell_type": "code",
   "execution_count": 35,
   "id": "5c773a7c-29f0-43f4-ba9b-2de3fc6a1fe4",
   "metadata": {},
   "outputs": [],
   "source": [
    "G = nx.DiGraph()"
   ]
  },
  {
   "cell_type": "code",
   "execution_count": 36,
   "id": "1ac8afae-2a40-494f-ab46-d9aaeebcc248",
   "metadata": {},
   "outputs": [],
   "source": [
    "# initialize root\n",
    "G.add_node(1)"
   ]
  },
  {
   "cell_type": "code",
   "execution_count": 38,
   "id": "0215f303-d8b6-486b-8614-264d21258624",
   "metadata": {},
   "outputs": [],
   "source": [
    "# add edges\n",
    "for i in d2:\n",
    "    G.add_edge(i[0],i[1],weight=i[2])"
   ]
  },
  {
   "cell_type": "code",
   "execution_count": 39,
   "id": "5a1808e8-fa8c-4b3b-9c18-a5cc5f498bba",
   "metadata": {},
   "outputs": [],
   "source": [
    "import matplotlib.pyplot as plt"
   ]
  },
  {
   "cell_type": "code",
   "execution_count": 40,
   "id": "2ba74227-5207-4fbb-bf3f-eebf3314ee3b",
   "metadata": {},
   "outputs": [
    {
     "data": {
      "image/png": "[encoded data removed]",
      "text/plain": [
       "<Figure size 432x288 with 1 Axes>"
      ]
     },
     "metadata": {},
     "output_type": "display_data"
    }
   ],
   "source": [
    "nx.draw_networkx(G)"
   ]
  },
  {
   "cell_type": "code",
   "execution_count": 43,
   "id": "50a3de4a-318d-4207-b2b8-b8c535652528",
   "metadata": {},
   "outputs": [
    {
     "data": {
      "text/plain": [
       "OutDegreeView({1: 3, 2: 0, 3: 0, 4: 4, 5: 0})"
      ]
     },
     "execution_count": 43,
     "metadata": {},
     "output_type": "execute_result"
    }
   ],
   "source": [
    "# find the node with most edges\n",
    "G.out_degree(weight='weight')"
   ]
  },
  {
   "cell_type": "code",
   "execution_count": 46,
   "id": "16213447-e23a-41df-85cd-510fca5378e7",
   "metadata": {},
   "outputs": [
    {
     "data": {
      "text/plain": [
       "4"
      ]
     },
     "execution_count": 46,
     "metadata": {},
     "output_type": "execute_result"
    }
   ],
   "source": [
    "sorted(G.out_degree(weight='weight'), key=lambda x: x[1], reverse=True)[0][0]"
   ]
  },
  {
   "cell_type": "code",
   "execution_count": null,
   "id": "db7895b3-a848-4ec2-b92a-81e4299a4958",
   "metadata": {},
   "outputs": [],
   "source": []
  }
 ],
 "metadata": {
  "kernelspec": {
   "display_name": "Python 3",
   "language": "python",
   "name": "python3"
  },
  "language_info": {
   "codemirror_mode": {
    "name": "ipython",
    "version": 3
   },
   "file_extension": ".py",
   "mimetype": "text/x-python",
   "name": "python",
   "nbconvert_exporter": "python",
   "pygments_lexer": "ipython3",
   "version": "3.7.3"
  }
 },
 "nbformat": 4,
 "nbformat_minor": 5
}
