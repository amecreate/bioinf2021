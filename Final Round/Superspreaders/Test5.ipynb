{
 "cells": [
  {
   "cell_type": "code",
   "execution_count": 1,
   "id": "30c8fa85-048c-4731-9182-fa67920ae7e9",
   "metadata": {},
   "outputs": [],
   "source": [
    "with open('test5.txt') as f:\n",
    "    lines = f.readlines()"
   ]
  },
  {
   "cell_type": "code",
   "execution_count": 2,
   "id": "13a024ac-8ab9-4590-a74d-5c06316746d9",
   "metadata": {},
   "outputs": [
    {
     "data": {
      "text/plain": [
       "'10\\n'"
      ]
     },
     "execution_count": 2,
     "metadata": {},
     "output_type": "execute_result"
    }
   ],
   "source": [
    "# no. of communities\n",
    "lines[0]"
   ]
  },
  {
   "cell_type": "code",
   "execution_count": 3,
   "id": "08be0e62-ad39-4f2f-b0f0-04cbfcd7094f",
   "metadata": {},
   "outputs": [
    {
     "data": {
      "text/plain": [
       "'150000 7\\n'"
      ]
     },
     "execution_count": 3,
     "metadata": {},
     "output_type": "execute_result"
    }
   ],
   "source": [
    "# no. of ppl, days, for community 1\n",
    "lines[1]"
   ]
  },
  {
   "cell_type": "markdown",
   "id": "388c00d2-4a42-4de4-bf8d-cbe6c3ce612e",
   "metadata": {},
   "source": [
    "# Clean the list"
   ]
  },
  {
   "cell_type": "code",
   "execution_count": 4,
   "id": "b70f1296-604c-406b-be15-9be0bbc001ab",
   "metadata": {},
   "outputs": [
    {
     "name": "stdout",
     "output_type": "stream",
     "text": [
      "CPU times: user 10.1 s, sys: 360 ms, total: 10.5 s\n",
      "Wall time: 10.5 s\n"
     ]
    }
   ],
   "source": [
    "%%time\n",
    "\n",
    "# remove space, split string, change to integer\n",
    "clean = []\n",
    "for i in lines:\n",
    "    i = i.rstrip()\n",
    "    if \" \" in i:\n",
    "        clean.append([float(j) for j in i.split(' ')])\n",
    "    else:\n",
    "        clean.append([float(i)])"
   ]
  },
  {
   "cell_type": "code",
   "execution_count": 19,
   "id": "3ad07869-5342-434a-8ea2-ba0d3ee9cea4",
   "metadata": {},
   "outputs": [
    {
     "data": {
      "text/plain": [
       "[26815.0, 72331.0, 1.0]"
      ]
     },
     "execution_count": 19,
     "metadata": {},
     "output_type": "execute_result"
    }
   ],
   "source": [
    "clean[4][:3]"
   ]
  },
  {
   "cell_type": "markdown",
   "id": "42ad1b22-5dd3-4c1a-b131-dd8a69f54e63",
   "metadata": {},
   "source": [
    "# Slice each communities"
   ]
  },
  {
   "cell_type": "code",
   "execution_count": 5,
   "id": "612be86b-714e-48b8-84a0-5506c4103bcf",
   "metadata": {},
   "outputs": [],
   "source": [
    "# number of communities\n",
    "n = clean.pop(0)"
   ]
  },
  {
   "cell_type": "code",
   "execution_count": 6,
   "id": "a714d986-d5af-48c8-bb1f-82969adf2098",
   "metadata": {},
   "outputs": [
    {
     "data": {
      "text/plain": [
       "44"
      ]
     },
     "execution_count": 6,
     "metadata": {},
     "output_type": "execute_result"
    }
   ],
   "source": [
    "import gc\n",
    "gc.collect()"
   ]
  },
  {
   "cell_type": "code",
   "execution_count": 7,
   "id": "da10ee72-6d70-4170-a56b-9485f34570d2",
   "metadata": {},
   "outputs": [
    {
     "name": "stdout",
     "output_type": "stream",
     "text": [
      "CPU times: user 1.32 s, sys: 19.9 ms, total: 1.34 s\n",
      "Wall time: 1.34 s\n"
     ]
    }
   ],
   "source": [
    "%%time\n",
    "\n",
    "# put each community into a list\n",
    "communities = []\n",
    "m=-1\n",
    "for i in clean:\n",
    "    if len(i) == 2:\n",
    "        communities.append([])\n",
    "        m += 1\n",
    "        continue\n",
    "    communities[m].append(i)"
   ]
  },
  {
   "cell_type": "code",
   "execution_count": 8,
   "id": "a707f460-46e4-45ea-a6af-bf8340f7b0e5",
   "metadata": {},
   "outputs": [
    {
     "data": {
      "text/plain": [
       "10"
      ]
     },
     "execution_count": 8,
     "metadata": {},
     "output_type": "execute_result"
    }
   ],
   "source": [
    "len(communities)"
   ]
  },
  {
   "cell_type": "markdown",
   "id": "d2b422b1-c1dd-4131-87b3-9fee6c5c9c1d",
   "metadata": {},
   "source": [
    "# Use networkx to calculate degrees"
   ]
  },
  {
   "cell_type": "code",
   "execution_count": 9,
   "id": "031c19bc-5413-4b4b-869a-63c5b66d7d2f",
   "metadata": {},
   "outputs": [
    {
     "data": {
      "text/plain": [
       "66"
      ]
     },
     "execution_count": 9,
     "metadata": {},
     "output_type": "execute_result"
    }
   ],
   "source": [
    "gc.collect()"
   ]
  },
  {
   "cell_type": "code",
   "execution_count": 10,
   "id": "06f9090a-3e3a-46f4-8850-ef1d0b98d5ba",
   "metadata": {},
   "outputs": [],
   "source": [
    "import networkx as nx"
   ]
  },
  {
   "cell_type": "code",
   "execution_count": 11,
   "id": "b032bab5-052a-4240-9b80-44333ca828a8",
   "metadata": {},
   "outputs": [
    {
     "name": "stdout",
     "output_type": "stream",
     "text": [
      "CPU times: user 15.9 s, sys: 361 ms, total: 16.3 s\n",
      "Wall time: 16.3 s\n"
     ]
    }
   ],
   "source": [
    "%%time\n",
    "\n",
    "result = []\n",
    "for community in communities:\n",
    "    # initialize G for current community\n",
    "    G = nx.DiGraph()\n",
    "    G.add_node(1)\n",
    "    for case in community:\n",
    "        if len(case) == 3:\n",
    "            G.add_edge(case[0],case[1],weight=case[2])\n",
    "    superspreader = sorted(G.out_degree(weight='weight'), key=lambda x: x[1], reverse=True)[0][0]\n",
    "    result.append(str(int(superspreader)) + '\\n')"
   ]
  },
  {
   "cell_type": "code",
   "execution_count": 12,
   "id": "8702bff4-e918-4392-9ba9-fb99527810ba",
   "metadata": {},
   "outputs": [],
   "source": [
    "with open('result5.txt', 'w') as f:\n",
    "    f.writelines(result)"
   ]
  },
  {
   "cell_type": "markdown",
   "id": "aedcbc7b-0bd0-4d8d-bef6-a16ed859529d",
   "metadata": {},
   "source": [
    "# directed acyclic graph"
   ]
  },
  {
   "cell_type": "code",
   "execution_count": 20,
   "id": "112e5d82-bc65-48c1-9106-32e34224dc65",
   "metadata": {},
   "outputs": [],
   "source": [
    "G = nx.DiGraph()\n",
    "G.add_node(1)\n",
    "for i in communities[0]:\n",
    "    if len(i) == 3:\n",
    "        G.add_edge(i[0], i[1], weight=i[2])"
   ]
  },
  {
   "cell_type": "code",
   "execution_count": 22,
   "id": "ba583120-a80f-4f26-bcc5-39996771d1b3",
   "metadata": {},
   "outputs": [
    {
     "data": {
      "text/plain": [
       "False"
      ]
     },
     "execution_count": 22,
     "metadata": {},
     "output_type": "execute_result"
    }
   ],
   "source": [
    "nx.algorithms.dag.is_directed_acyclic_graph(G)"
   ]
  },
  {
   "cell_type": "code",
   "execution_count": null,
   "id": "f42c3a55-3dfe-41c2-9a19-a423afa58d90",
   "metadata": {},
   "outputs": [],
   "source": []
  }
 ],
 "metadata": {
  "kernelspec": {
   "display_name": "Python 3",
   "language": "python",
   "name": "python3"
  },
  "language_info": {
   "codemirror_mode": {
    "name": "ipython",
    "version": 3
   },
   "file_extension": ".py",
   "mimetype": "text/x-python",
   "name": "python",
   "nbconvert_exporter": "python",
   "pygments_lexer": "ipython3",
   "version": "3.7.3"
  }
 },
 "nbformat": 4,
 "nbformat_minor": 5
}
