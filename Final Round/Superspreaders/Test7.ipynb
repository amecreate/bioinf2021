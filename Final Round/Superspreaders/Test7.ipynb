{
 "cells": [
  {
   "cell_type": "code",
   "execution_count": 1,
   "id": "30c8fa85-048c-4731-9182-fa67920ae7e9",
   "metadata": {},
   "outputs": [],
   "source": [
    "with open('test7.txt') as f:\n",
    "    lines = f.readlines()"
   ]
  },
  {
   "cell_type": "code",
   "execution_count": 2,
   "id": "13a024ac-8ab9-4590-a74d-5c06316746d9",
   "metadata": {},
   "outputs": [
    {
     "data": {
      "text/plain": [
       "'5\\n'"
      ]
     },
     "execution_count": 2,
     "metadata": {},
     "output_type": "execute_result"
    }
   ],
   "source": [
    "# no. of communities\n",
    "lines[0]"
   ]
  },
  {
   "cell_type": "code",
   "execution_count": 3,
   "id": "08be0e62-ad39-4f2f-b0f0-04cbfcd7094f",
   "metadata": {},
   "outputs": [
    {
     "data": {
      "text/plain": [
       "'96000 7\\n'"
      ]
     },
     "execution_count": 3,
     "metadata": {},
     "output_type": "execute_result"
    }
   ],
   "source": [
    "# no. of ppl, days, for community 1\n",
    "lines[1]"
   ]
  },
  {
   "cell_type": "markdown",
   "id": "388c00d2-4a42-4de4-bf8d-cbe6c3ce612e",
   "metadata": {},
   "source": [
    "# Clean the list"
   ]
  },
  {
   "cell_type": "code",
   "execution_count": 4,
   "id": "285240cc-c97f-4c2e-abea-a9d843afc3b6",
   "metadata": {},
   "outputs": [],
   "source": [
    "from tqdm import tqdm"
   ]
  },
  {
   "cell_type": "code",
   "execution_count": 5,
   "id": "b70f1296-604c-406b-be15-9be0bbc001ab",
   "metadata": {},
   "outputs": [
    {
     "name": "stderr",
     "output_type": "stream",
     "text": [
      "100%|██████████| 1730441/1730441 [00:11<00:00, 153163.68it/s]"
     ]
    },
    {
     "name": "stdout",
     "output_type": "stream",
     "text": [
      "CPU times: user 10.7 s, sys: 644 ms, total: 11.4 s\n",
      "Wall time: 11.3 s\n"
     ]
    },
    {
     "name": "stderr",
     "output_type": "stream",
     "text": [
      "\n"
     ]
    }
   ],
   "source": [
    "%%time\n",
    "\n",
    "# remove space, split string, change to integer\n",
    "clean = []\n",
    "for i in tqdm(lines):\n",
    "    i = i.rstrip()\n",
    "    if \" \" in i:\n",
    "        clean.append([float(j) for j in i.split(' ')])\n",
    "    else:\n",
    "        clean.append([float(i)])"
   ]
  },
  {
   "cell_type": "markdown",
   "id": "42ad1b22-5dd3-4c1a-b131-dd8a69f54e63",
   "metadata": {},
   "source": [
    "# Slice each communities"
   ]
  },
  {
   "cell_type": "code",
   "execution_count": 6,
   "id": "612be86b-714e-48b8-84a0-5506c4103bcf",
   "metadata": {},
   "outputs": [],
   "source": [
    "# number of communities\n",
    "n = clean.pop(0)"
   ]
  },
  {
   "cell_type": "code",
   "execution_count": 7,
   "id": "a714d986-d5af-48c8-bb1f-82969adf2098",
   "metadata": {},
   "outputs": [
    {
     "data": {
      "text/plain": [
       "70"
      ]
     },
     "execution_count": 7,
     "metadata": {},
     "output_type": "execute_result"
    }
   ],
   "source": [
    "import gc\n",
    "gc.collect()"
   ]
  },
  {
   "cell_type": "code",
   "execution_count": 8,
   "id": "da10ee72-6d70-4170-a56b-9485f34570d2",
   "metadata": {},
   "outputs": [
    {
     "name": "stdout",
     "output_type": "stream",
     "text": [
      "CPU times: user 1.04 s, sys: 19.4 ms, total: 1.06 s\n",
      "Wall time: 1.06 s\n"
     ]
    }
   ],
   "source": [
    "%%time\n",
    "\n",
    "# put each community into a list\n",
    "communities = []\n",
    "m=-1\n",
    "for i in clean:\n",
    "    if len(i) == 2:\n",
    "        communities.append([])\n",
    "        m += 1\n",
    "        continue\n",
    "    communities[m].append(i)"
   ]
  },
  {
   "cell_type": "code",
   "execution_count": 9,
   "id": "a707f460-46e4-45ea-a6af-bf8340f7b0e5",
   "metadata": {},
   "outputs": [
    {
     "data": {
      "text/plain": [
       "5"
      ]
     },
     "execution_count": 9,
     "metadata": {},
     "output_type": "execute_result"
    }
   ],
   "source": [
    "len(communities)"
   ]
  },
  {
   "cell_type": "markdown",
   "id": "d2b422b1-c1dd-4131-87b3-9fee6c5c9c1d",
   "metadata": {},
   "source": [
    "# Use networkx to calculate degrees"
   ]
  },
  {
   "cell_type": "code",
   "execution_count": 10,
   "id": "031c19bc-5413-4b4b-869a-63c5b66d7d2f",
   "metadata": {},
   "outputs": [
    {
     "data": {
      "text/plain": [
       "66"
      ]
     },
     "execution_count": 10,
     "metadata": {},
     "output_type": "execute_result"
    }
   ],
   "source": [
    "gc.collect()"
   ]
  },
  {
   "cell_type": "code",
   "execution_count": 11,
   "id": "06f9090a-3e3a-46f4-8850-ef1d0b98d5ba",
   "metadata": {},
   "outputs": [],
   "source": [
    "import networkx as nx"
   ]
  },
  {
   "cell_type": "code",
   "execution_count": 12,
   "id": "b032bab5-052a-4240-9b80-44333ca828a8",
   "metadata": {},
   "outputs": [
    {
     "name": "stderr",
     "output_type": "stream",
     "text": [
      "100%|██████████| 5/5 [00:10<00:00,  2.20s/it]"
     ]
    },
    {
     "name": "stdout",
     "output_type": "stream",
     "text": [
      "CPU times: user 10.7 s, sys: 247 ms, total: 10.9 s\n",
      "Wall time: 11 s\n"
     ]
    },
    {
     "name": "stderr",
     "output_type": "stream",
     "text": [
      "\n"
     ]
    }
   ],
   "source": [
    "%%time\n",
    "\n",
    "result = []\n",
    "for community in tqdm(communities):\n",
    "    # initialize G for current community\n",
    "    G = nx.DiGraph()\n",
    "    G.add_node(1)\n",
    "    for case in community:\n",
    "        if len(case) == 3:\n",
    "            G.add_edge(case[0],case[1],weight=case[2])\n",
    "    superspreader = sorted(G.out_degree(weight='weight'), key=lambda x: x[1], reverse=True)[0][0]\n",
    "    result.append(str(int(superspreader)) + '\\n')"
   ]
  },
  {
   "cell_type": "code",
   "execution_count": 13,
   "id": "8702bff4-e918-4392-9ba9-fb99527810ba",
   "metadata": {},
   "outputs": [],
   "source": [
    "with open('result7.txt', 'w') as f:\n",
    "    f.writelines(result)"
   ]
  },
  {
   "cell_type": "code",
   "execution_count": null,
   "id": "f42c3a55-3dfe-41c2-9a19-a423afa58d90",
   "metadata": {},
   "outputs": [],
   "source": []
  }
 ],
 "metadata": {
  "kernelspec": {
   "display_name": "Python 3",
   "language": "python",
   "name": "python3"
  },
  "language_info": {
   "codemirror_mode": {
    "name": "ipython",
    "version": 3
   },
   "file_extension": ".py",
   "mimetype": "text/x-python",
   "name": "python",
   "nbconvert_exporter": "python",
   "pygments_lexer": "ipython3",
   "version": "3.7.3"
  }
 },
 "nbformat": 4,
 "nbformat_minor": 5
}
