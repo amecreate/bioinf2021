{
 "cells": [
  {
   "cell_type": "markdown",
   "id": "2b51ec52-0f08-4044-88c0-40df593a6829",
   "metadata": {},
   "source": [
    "# Read Text File"
   ]
  },
  {
   "cell_type": "code",
   "execution_count": 3,
   "id": "7c24f615-b3ad-4b18-b18b-46fdbae514b6",
   "metadata": {},
   "outputs": [],
   "source": [
    "# read() read in all content in the file\n",
    "with open('input.txt') as file_object:\n",
    "    contents = file_object.read()"
   ]
  },
  {
   "cell_type": "code",
   "execution_count": 4,
   "id": "ad8f84f4-f734-4289-b6e7-2a17cda872b5",
   "metadata": {},
   "outputs": [
    {
     "data": {
      "text/plain": [
       "'10\\n1 5\\n9 9\\n8 5\\n5 4\\n0 7\\n2 6\\n5 5\\n0 8\\n8 4\\n5 4\\n'"
      ]
     },
     "execution_count": 4,
     "metadata": {},
     "output_type": "execute_result"
    }
   ],
   "source": [
    "contents"
   ]
  },
  {
   "cell_type": "code",
   "execution_count": 9,
   "id": "d696f6a9-946c-49a5-8df6-6595e27773b3",
   "metadata": {},
   "outputs": [],
   "source": [
    "# readlines() read each line in the file into a list\n",
    "with open('input.txt') as file_object:\n",
    "    lines = file_object.readlines()"
   ]
  },
  {
   "cell_type": "code",
   "execution_count": 10,
   "id": "36bc921d-0436-446a-969c-073550c0a2c7",
   "metadata": {},
   "outputs": [
    {
     "data": {
      "text/plain": [
       "['10\\n',\n",
       " '1 5\\n',\n",
       " '9 9\\n',\n",
       " '8 5\\n',\n",
       " '5 4\\n',\n",
       " '0 7\\n',\n",
       " '2 6\\n',\n",
       " '5 5\\n',\n",
       " '0 8\\n',\n",
       " '8 4\\n',\n",
       " '5 4\\n']"
      ]
     },
     "execution_count": 10,
     "metadata": {},
     "output_type": "execute_result"
    }
   ],
   "source": [
    "lines"
   ]
  },
  {
   "cell_type": "markdown",
   "id": "2dcb199f-b337-4cb8-a9bc-09468df646cc",
   "metadata": {},
   "source": [
    "# Calculate Sum"
   ]
  },
  {
   "cell_type": "code",
   "execution_count": 11,
   "id": "66e84dd4-e8da-47e3-af75-5c0ecd60641a",
   "metadata": {},
   "outputs": [],
   "source": [
    "# rstrip() remove space after each line\n",
    "lines2 = [line.rstrip() for line in lines]"
   ]
  },
  {
   "cell_type": "code",
   "execution_count": 12,
   "id": "c30c9a89-c250-45cd-8cd4-ff49f6b56783",
   "metadata": {},
   "outputs": [
    {
     "data": {
      "text/plain": [
       "['10', '1 5', '9 9', '8 5', '5 4', '0 7', '2 6', '5 5', '0 8', '8 4', '5 4']"
      ]
     },
     "execution_count": 12,
     "metadata": {},
     "output_type": "execute_result"
    }
   ],
   "source": [
    "lines2"
   ]
  },
  {
   "cell_type": "code",
   "execution_count": 22,
   "id": "52b213ef-cfc4-497e-8ee3-3db4e664c9c4",
   "metadata": {},
   "outputs": [],
   "source": [
    "result = []\n",
    "for line in lines2:\n",
    "    if ' ' in line:\n",
    "        line = [int(n) for n in line.split(' ')]\n",
    "        result.append(sum(line))"
   ]
  },
  {
   "cell_type": "code",
   "execution_count": 21,
   "id": "8ac5b8ef-a151-4014-9e4d-f63e4b900dcb",
   "metadata": {},
   "outputs": [
    {
     "data": {
      "text/plain": [
       "['1', '5']"
      ]
     },
     "execution_count": 21,
     "metadata": {},
     "output_type": "execute_result"
    }
   ],
   "source": [
    "# test split() method\n",
    "lines2[1].split(' ')"
   ]
  },
  {
   "cell_type": "code",
   "execution_count": 23,
   "id": "aa46a988-dfba-46ce-8fb3-493cbd2367ad",
   "metadata": {},
   "outputs": [
    {
     "data": {
      "text/plain": [
       "[6, 18, 13, 9, 7, 8, 10, 8, 12, 9]"
      ]
     },
     "execution_count": 23,
     "metadata": {},
     "output_type": "execute_result"
    }
   ],
   "source": [
    "result"
   ]
  },
  {
   "cell_type": "markdown",
   "id": "13e34c93-5b1f-4217-a969-0d6132beeeef",
   "metadata": {},
   "source": [
    "# Write to local text file"
   ]
  },
  {
   "cell_type": "code",
   "execution_count": 31,
   "id": "18c5906d-6a2b-4ce9-b032-54b909f0d407",
   "metadata": {},
   "outputs": [],
   "source": [
    "# python can only write string to txt file\n",
    "# must first change integer to string\n",
    "# remember to add new line to the string\n",
    "\n",
    "result2 = [str(n) + '\\n' for n in result]"
   ]
  },
  {
   "cell_type": "code",
   "execution_count": 32,
   "id": "050e0430-6740-4ada-91e6-61b2fec58de8",
   "metadata": {},
   "outputs": [
    {
     "data": {
      "text/plain": [
       "['6\\n', '18\\n', '13\\n', '9\\n', '7\\n', '8\\n', '10\\n', '8\\n', '12\\n', '9\\n']"
      ]
     },
     "execution_count": 32,
     "metadata": {},
     "output_type": "execute_result"
    }
   ],
   "source": [
    "result2"
   ]
  },
  {
   "cell_type": "code",
   "execution_count": 33,
   "id": "d653eeae-17ea-402e-8b8b-fd17c014382f",
   "metadata": {},
   "outputs": [],
   "source": [
    "# write to local file, 'w' means write mode\n",
    "\n",
    "with open('result.txt', 'w') as f:\n",
    "    f.writelines(result2)"
   ]
  },
  {
   "cell_type": "markdown",
   "id": "c07798af-3d42-48e3-8df2-bac251df0de7",
   "metadata": {},
   "source": [
    "# Check output file"
   ]
  },
  {
   "cell_type": "code",
   "execution_count": 34,
   "id": "b7e7a423-49c6-4db4-99f3-7ee20a9c36e3",
   "metadata": {},
   "outputs": [],
   "source": [
    "with open('result.txt') as f:\n",
    "    contents = f.read()"
   ]
  },
  {
   "cell_type": "code",
   "execution_count": 35,
   "id": "5af20477-9566-4566-942f-e1389b2607fc",
   "metadata": {},
   "outputs": [
    {
     "data": {
      "text/plain": [
       "'6\\n18\\n13\\n9\\n7\\n8\\n10\\n8\\n12\\n9\\n'"
      ]
     },
     "execution_count": 35,
     "metadata": {},
     "output_type": "execute_result"
    }
   ],
   "source": [
    "contents"
   ]
  },
  {
   "cell_type": "code",
   "execution_count": null,
   "id": "c11f4718-6a3e-448f-95f2-11449d4b9251",
   "metadata": {},
   "outputs": [],
   "source": []
  }
 ],
 "metadata": {
  "kernelspec": {
   "display_name": "Python 3",
   "language": "python",
   "name": "python3"
  },
  "language_info": {
   "codemirror_mode": {
    "name": "ipython",
    "version": 3
   },
   "file_extension": ".py",
   "mimetype": "text/x-python",
   "name": "python",
   "nbconvert_exporter": "python",
   "pygments_lexer": "ipython3",
   "version": "3.7.3"
  }
 },
 "nbformat": 4,
 "nbformat_minor": 5
}
