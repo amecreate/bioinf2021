{
 "cells": [
  {
   "cell_type": "markdown",
   "id": "93b2ee49-016b-4614-899c-c5385ff72176",
   "metadata": {},
   "source": [
    "**Keys**\n",
    "\n",
    "1 - 10\n",
    "\n",
    "**Parent nodes for each key**\n",
    "\n",
    "1 1 3 3 4 4 5 5 5\n",
    "\n",
    "**Information content for each key (always in ascending order)**\n",
    "\n",
    "5 7 8 13 18 14 15 21 20 29"
   ]
  },
  {
   "cell_type": "code",
   "execution_count": 1,
   "id": "e0e85558-d824-4601-aeee-c560af5fb493",
   "metadata": {},
   "outputs": [],
   "source": [
    "import anytree"
   ]
  },
  {
   "cell_type": "code",
   "execution_count": 34,
   "id": "74ac8994-f721-40bc-9625-bba2d7a8b4a8",
   "metadata": {},
   "outputs": [],
   "source": [
    "tree = anytree.Node('1')"
   ]
  },
  {
   "cell_type": "code",
   "execution_count": 26,
   "id": "ab6437b2-10d3-4706-a34d-24cfabd1f478",
   "metadata": {},
   "outputs": [
    {
     "data": {
      "text/plain": [
       "'1'"
      ]
     },
     "execution_count": 26,
     "metadata": {},
     "output_type": "execute_result"
    }
   ],
   "source": [
    "tree.name"
   ]
  },
  {
   "cell_type": "code",
   "execution_count": 9,
   "id": "ecd909e0-deac-4afc-a1a5-eb56107760d3",
   "metadata": {},
   "outputs": [
    {
     "data": {
      "text/plain": [
       "Node('/1/2')"
      ]
     },
     "execution_count": 9,
     "metadata": {},
     "output_type": "execute_result"
    }
   ],
   "source": [
    "anytree.Node(2, parent=root)"
   ]
  },
  {
   "cell_type": "code",
   "execution_count": 28,
   "id": "af708ecc-1f4e-46c4-b93b-3ca2273234f3",
   "metadata": {},
   "outputs": [],
   "source": [
    "info = [5, 7, 8, 13, 18, 14, 15, 21, 20, 29]"
   ]
  },
  {
   "cell_type": "code",
   "execution_count": 29,
   "id": "f868307f-d482-4e75-bdc4-05aa2c790842",
   "metadata": {},
   "outputs": [],
   "source": [
    "infod = dict()"
   ]
  },
  {
   "cell_type": "code",
   "execution_count": 30,
   "id": "2e0554a9-9e24-433a-9d2d-040e973f0dee",
   "metadata": {},
   "outputs": [],
   "source": [
    "for i , j in enumerate(info):\n",
    "    infod[i+1] = j"
   ]
  },
  {
   "cell_type": "code",
   "execution_count": 31,
   "id": "321eb15d-3984-45e2-8b95-32d03bb9c7a8",
   "metadata": {},
   "outputs": [
    {
     "data": {
      "text/plain": [
       "{1: 5, 2: 7, 3: 8, 4: 13, 5: 18, 6: 14, 7: 15, 8: 21, 9: 20, 10: 29}"
      ]
     },
     "execution_count": 31,
     "metadata": {},
     "output_type": "execute_result"
    }
   ],
   "source": [
    "# connect information content with keys\n",
    "infod"
   ]
  },
  {
   "cell_type": "code",
   "execution_count": 7,
   "id": "be882193-cd79-45b6-a8c3-5f16cb300aa3",
   "metadata": {},
   "outputs": [],
   "source": [
    "parents = [1, 1, 3, 3, 4, 4, 5, 5, 5]"
   ]
  },
  {
   "cell_type": "code",
   "execution_count": 47,
   "id": "0451ede8-1a9f-4e32-99cb-4a83e5b3945a",
   "metadata": {},
   "outputs": [],
   "source": [
    "root = anytree.Node(1)"
   ]
  },
  {
   "cell_type": "code",
   "execution_count": 48,
   "id": "49ec4249-a9f2-466f-8350-cb72445b2d87",
   "metadata": {},
   "outputs": [
    {
     "data": {
      "text/plain": [
       "(Node('/1'), 1)"
      ]
     },
     "execution_count": 48,
     "metadata": {},
     "output_type": "execute_result"
    }
   ],
   "source": [
    "root, root.name"
   ]
  },
  {
   "cell_type": "code",
   "execution_count": 49,
   "id": "8f950856-62bd-40bc-968b-55b53f3eff37",
   "metadata": {},
   "outputs": [],
   "source": [
    "nodes = {}"
   ]
  },
  {
   "cell_type": "code",
   "execution_count": 50,
   "id": "b093fe25-a2ca-47f6-af80-0e3787dea4f6",
   "metadata": {},
   "outputs": [],
   "source": [
    "nodes[root.name] = root"
   ]
  },
  {
   "cell_type": "code",
   "execution_count": 52,
   "id": "19d279d3-9669-4e82-b256-ed12f961e310",
   "metadata": {},
   "outputs": [
    {
     "data": {
      "text/plain": [
       "({1: Node('/1')}, Node('/1'))"
      ]
     },
     "execution_count": 52,
     "metadata": {},
     "output_type": "execute_result"
    }
   ],
   "source": [
    "nodes, nodes[1]"
   ]
  },
  {
   "cell_type": "code",
   "execution_count": 55,
   "id": "7c24fb97-fb0e-4e33-b94c-f48c8904afd2",
   "metadata": {},
   "outputs": [],
   "source": [
    "for i, j in zip(range(2,10+1), parents):\n",
    "    name = i\n",
    "    nodes[name] = anytree.Node(name, parent=nodes[j])"
   ]
  },
  {
   "cell_type": "code",
   "execution_count": 56,
   "id": "f4706b2e-cc70-4c59-a2dc-a8a3e13a0c34",
   "metadata": {},
   "outputs": [
    {
     "data": {
      "text/plain": [
       "{1: Node('/1'),\n",
       " 2: Node('/1/2'),\n",
       " 3: Node('/1/3'),\n",
       " 4: Node('/1/3/4'),\n",
       " 5: Node('/1/3/5'),\n",
       " 6: Node('/1/3/4/6'),\n",
       " 7: Node('/1/3/4/7'),\n",
       " 8: Node('/1/3/5/8'),\n",
       " 9: Node('/1/3/5/9'),\n",
       " 10: Node('/1/3/5/10')}"
      ]
     },
     "execution_count": 56,
     "metadata": {},
     "output_type": "execute_result"
    }
   ],
   "source": [
    "nodes"
   ]
  },
  {
   "cell_type": "code",
   "execution_count": 57,
   "id": "768a2768-c0ce-4867-ab0b-ecce827aa4b8",
   "metadata": {},
   "outputs": [
    {
     "name": "stdout",
     "output_type": "stream",
     "text": [
      "1\n",
      "├── 2\n",
      "└── 3\n",
      "    ├── 4\n",
      "    │   ├── 6\n",
      "    │   └── 7\n",
      "    └── 5\n",
      "        ├── 8\n",
      "        ├── 9\n",
      "        └── 10\n"
     ]
    }
   ],
   "source": [
    "for pre, _, node in anytree.RenderTree(root):\n",
    "    print(\"%s%s\" % (pre, node.name))"
   ]
  },
  {
   "cell_type": "markdown",
   "id": "f52fcdf0-99d9-4ca9-90d8-f1c8d70351e1",
   "metadata": {},
   "source": [
    "# common ancestor\n",
    "\n",
    "[find common ancestor](https://anytree.readthedocs.io/en/latest/api/anytree.util.html)"
   ]
  },
  {
   "cell_type": "code",
   "execution_count": 59,
   "id": "dd21e64e-cf1a-4c59-9f93-f06186b0b8c6",
   "metadata": {},
   "outputs": [
    {
     "data": {
      "text/plain": [
       "(Node('/1'), Node('/1/3'))"
      ]
     },
     "execution_count": 59,
     "metadata": {},
     "output_type": "execute_result"
    }
   ],
   "source": [
    "anytree.util.commonancestors(nodes[5],nodes[4])"
   ]
  },
  {
   "cell_type": "code",
   "execution_count": 61,
   "id": "8f715eec-a206-47af-9c50-af2fb60e41d4",
   "metadata": {},
   "outputs": [
    {
     "data": {
      "text/plain": [
       "3"
      ]
     },
     "execution_count": 61,
     "metadata": {},
     "output_type": "execute_result"
    }
   ],
   "source": [
    "anytree.util.commonancestors(nodes[5],nodes[4])[-1].name"
   ]
  },
  {
   "cell_type": "code",
   "execution_count": 34,
   "id": "ca3f5a42-6fd5-49f8-b7e2-0b2eca0cd457",
   "metadata": {},
   "outputs": [],
   "source": [
    "node1 = anytree.Node(1)"
   ]
  },
  {
   "cell_type": "code",
   "execution_count": 39,
   "id": "e19f8977-1b4b-4f70-a134-ee15668360f9",
   "metadata": {},
   "outputs": [],
   "source": [
    "node2 = anytree.Node(2, parent=node1)\n",
    "node3 = anytree.Node(3, parent=node2)"
   ]
  },
  {
   "cell_type": "code",
   "execution_count": 40,
   "id": "cd17d806-349f-43ec-bc13-b2cf825dfdbd",
   "metadata": {},
   "outputs": [
    {
     "data": {
      "text/plain": [
       "(Node('/1/2'), Node('/1/2/3'))"
      ]
     },
     "execution_count": 40,
     "metadata": {},
     "output_type": "execute_result"
    }
   ],
   "source": [
    "node2, node3"
   ]
  },
  {
   "cell_type": "code",
   "execution_count": 41,
   "id": "7eb03318-8f61-49ab-b39b-7f2b8ff95750",
   "metadata": {},
   "outputs": [
    {
     "data": {
      "text/plain": [
       "Node('/1/2')"
      ]
     },
     "execution_count": 41,
     "metadata": {},
     "output_type": "execute_result"
    }
   ],
   "source": [
    "anytree.find_by_attr(node1, 2)"
   ]
  },
  {
   "cell_type": "code",
   "execution_count": 42,
   "id": "109fbaaf-a5ff-4651-a738-612d3c32b830",
   "metadata": {},
   "outputs": [
    {
     "data": {
      "text/plain": [
       "Node('/1')"
      ]
     },
     "execution_count": 42,
     "metadata": {},
     "output_type": "execute_result"
    }
   ],
   "source": [
    "node1"
   ]
  },
  {
   "cell_type": "code",
   "execution_count": 44,
   "id": "7db3f3ba-a746-4384-bbb9-0fcef25628a2",
   "metadata": {},
   "outputs": [
    {
     "data": {
      "text/plain": [
       "Node('/1/2/4')"
      ]
     },
     "execution_count": 44,
     "metadata": {},
     "output_type": "execute_result"
    }
   ],
   "source": [
    "anytree.Node(4, parent = {1:node1, 2:node2, 3:node3}[2])"
   ]
  },
  {
   "cell_type": "code",
   "execution_count": 10,
   "id": "8d8cf251-446d-40fc-8cb2-b633298a84e1",
   "metadata": {},
   "outputs": [],
   "source": [
    "from anytree import Node, RenderTree\n",
    "from anytree.util import commonancestors"
   ]
  },
  {
   "cell_type": "code",
   "execution_count": 7,
   "id": "4c39e1db-f661-4f71-abf0-b66ccd29dc41",
   "metadata": {},
   "outputs": [],
   "source": [
    "udo = Node(\"Udo\")\n",
    "marc = Node(\"Marc\", parent=udo)\n",
    "lian = Node(\"Lian\", parent=marc)\n",
    "dan = Node(\"Dan\", parent=udo)\n",
    "jet = Node(\"Jet\", parent=dan)\n",
    "jan = Node(\"Jan\", parent=dan)\n",
    "joe = Node(\"Joe\", parent=dan)\n",
    "mary = Node(\"Mary\")\n",
    "urs = Node(\"Urs\", parent=mary)\n",
    "chris = Node(\"Chris\", parent=mary)\n",
    "marta = Node(\"Marta\", parent=mary)\n",
    "udo.parent = mary"
   ]
  },
  {
   "cell_type": "code",
   "execution_count": 8,
   "id": "f1d5b567-3216-4fe8-ae50-4c44000cdb46",
   "metadata": {},
   "outputs": [
    {
     "name": "stdout",
     "output_type": "stream",
     "text": [
      "Node('/Mary')\n",
      "├── Node('/Mary/Urs')\n",
      "├── Node('/Mary/Chris')\n",
      "├── Node('/Mary/Marta')\n",
      "└── Node('/Mary/Udo')\n",
      "    ├── Node('/Mary/Udo/Marc')\n",
      "    │   └── Node('/Mary/Udo/Marc/Lian')\n",
      "    └── Node('/Mary/Udo/Dan')\n",
      "        ├── Node('/Mary/Udo/Dan/Jet')\n",
      "        ├── Node('/Mary/Udo/Dan/Jan')\n",
      "        └── Node('/Mary/Udo/Dan/Joe')\n"
     ]
    }
   ],
   "source": [
    "print(RenderTree(mary))"
   ]
  },
  {
   "cell_type": "code",
   "execution_count": 14,
   "id": "c8d22c95-3293-40e0-9dfb-d605132e4c3e",
   "metadata": {},
   "outputs": [
    {
     "data": {
      "text/plain": [
       "(Node('/Mary'), Node('/Mary/Udo'))"
      ]
     },
     "execution_count": 14,
     "metadata": {},
     "output_type": "execute_result"
    }
   ],
   "source": [
    "commonancestors(marc, lian)"
   ]
  },
  {
   "cell_type": "code",
   "execution_count": null,
   "id": "779debee-b289-41e5-886a-8ca8d852dd2d",
   "metadata": {},
   "outputs": [],
   "source": []
  }
 ],
 "metadata": {
  "kernelspec": {
   "display_name": "Python 3",
   "language": "python",
   "name": "python3"
  },
  "language_info": {
   "codemirror_mode": {
    "name": "ipython",
    "version": 3
   },
   "file_extension": ".py",
   "mimetype": "text/x-python",
   "name": "python",
   "nbconvert_exporter": "python",
   "pygments_lexer": "ipython3",
   "version": "3.7.3"
  }
 },
 "nbformat": 4,
 "nbformat_minor": 5
}
