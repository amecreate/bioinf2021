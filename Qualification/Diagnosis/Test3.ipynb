{
 "cells": [
  {
   "cell_type": "markdown",
   "id": "5c4ea759-796a-455f-b91f-94dabc094356",
   "metadata": {},
   "source": [
    "# Import"
   ]
  },
  {
   "cell_type": "code",
   "execution_count": 1,
   "id": "733cafd2-65b0-4e11-a6a8-cfae095cdab8",
   "metadata": {},
   "outputs": [],
   "source": [
    "import networkx as nx"
   ]
  },
  {
   "cell_type": "code",
   "execution_count": 2,
   "id": "2811b9e6-0180-4749-a8c7-177994864f81",
   "metadata": {},
   "outputs": [],
   "source": [
    "from tqdm import tqdm"
   ]
  },
  {
   "cell_type": "code",
   "execution_count": 3,
   "id": "8735c976-3169-48bd-bd57-c02097f2b01d",
   "metadata": {},
   "outputs": [],
   "source": [
    "with open('3.txt') as f:\n",
    "    lines = f.readlines()"
   ]
  },
  {
   "cell_type": "markdown",
   "id": "34927a51-cf1e-4186-98ce-77ac5d6d0001",
   "metadata": {},
   "source": [
    "# Description of the data"
   ]
  },
  {
   "cell_type": "code",
   "execution_count": 4,
   "id": "2d9fb48b-25d0-4e67-b474-fe56687c5db8",
   "metadata": {},
   "outputs": [
    {
     "data": {
      "text/plain": [
       "20005"
      ]
     },
     "execution_count": 4,
     "metadata": {},
     "output_type": "execute_result"
    }
   ],
   "source": [
    "len(lines)"
   ]
  },
  {
   "cell_type": "code",
   "execution_count": 5,
   "id": "703b4701-0798-4a40-8f74-b3575855775a",
   "metadata": {},
   "outputs": [
    {
     "data": {
      "text/plain": [
       "'100000\\n'"
      ]
     },
     "execution_count": 5,
     "metadata": {},
     "output_type": "execute_result"
    }
   ],
   "source": [
    "lines[0] #the number of vertices in the phenotype tree"
   ]
  },
  {
   "cell_type": "code",
   "execution_count": 6,
   "id": "f8d54bd2-7be8-4e37-a5d8-348db3b9774b",
   "metadata": {},
   "outputs": [
    {
     "data": {
      "text/plain": [
       "100000"
      ]
     },
     "execution_count": 6,
     "metadata": {},
     "output_type": "execute_result"
    }
   ],
   "source": [
    "n = int(lines[0].rstrip())\n",
    "n"
   ]
  },
  {
   "cell_type": "code",
   "execution_count": 7,
   "id": "4fd552a4-1b2d-4625-b8ca-c15c91e22cb4",
   "metadata": {},
   "outputs": [
    {
     "data": {
      "text/plain": [
       "581244"
      ]
     },
     "execution_count": 7,
     "metadata": {},
     "output_type": "execute_result"
    }
   ],
   "source": [
    "len(lines[1]) #the parent identifiers for the vertices"
   ]
  },
  {
   "cell_type": "code",
   "execution_count": 8,
   "id": "0d3964b8-d72b-4e49-b0e5-612e2f953681",
   "metadata": {},
   "outputs": [],
   "source": [
    "parents = [int(i) for i in lines[1].rstrip().split(' ')]"
   ]
  },
  {
   "cell_type": "code",
   "execution_count": 9,
   "id": "a4c53180-fe01-4978-982d-275949b00fc8",
   "metadata": {},
   "outputs": [
    {
     "data": {
      "text/plain": [
       "[1, 2, 3, 4, 5]"
      ]
     },
     "execution_count": 9,
     "metadata": {},
     "output_type": "execute_result"
    }
   ],
   "source": [
    "parents[:5]"
   ]
  },
  {
   "cell_type": "code",
   "execution_count": 10,
   "id": "ff509fa5-623c-4d09-8425-37c2a2bffb75",
   "metadata": {},
   "outputs": [
    {
     "data": {
      "text/plain": [
       "855632"
      ]
     },
     "execution_count": 10,
     "metadata": {},
     "output_type": "execute_result"
    }
   ],
   "source": [
    "len(lines[2]) #information content values of the corresponding vertices"
   ]
  },
  {
   "cell_type": "code",
   "execution_count": 11,
   "id": "f5de2c01-a6e0-4174-a3ea-003c986edd01",
   "metadata": {},
   "outputs": [],
   "source": [
    "info = [int(i) for i in lines[2].rstrip().split(' ')]"
   ]
  },
  {
   "cell_type": "code",
   "execution_count": 12,
   "id": "4ed34678-30a5-4c3e-9cb1-076215a2247c",
   "metadata": {},
   "outputs": [
    {
     "data": {
      "text/plain": [
       "[784, 1499, 2436, 3329, 4162]"
      ]
     },
     "execution_count": 12,
     "metadata": {},
     "output_type": "execute_result"
    }
   ],
   "source": [
    "info[:5]"
   ]
  },
  {
   "cell_type": "code",
   "execution_count": 13,
   "id": "a24b7eb6-853a-4f86-acf3-58ed30e77f38",
   "metadata": {},
   "outputs": [
    {
     "data": {
      "text/plain": [
       "'10000\\n'"
      ]
     },
     "execution_count": 13,
     "metadata": {},
     "output_type": "execute_result"
    }
   ],
   "source": [
    "lines[3] #the number of diseases"
   ]
  },
  {
   "cell_type": "code",
   "execution_count": 14,
   "id": "f48f0eb5-b082-49b1-81a7-ccbc4a4916bc",
   "metadata": {},
   "outputs": [
    {
     "data": {
      "text/plain": [
       "10000"
      ]
     },
     "execution_count": 14,
     "metadata": {},
     "output_type": "execute_result"
    }
   ],
   "source": [
    "m = int(lines[3].rstrip())\n",
    "m"
   ]
  },
  {
   "cell_type": "code",
   "execution_count": 15,
   "id": "99886ff5-9a3c-47b9-87f8-f85223fe4bb2",
   "metadata": {},
   "outputs": [
    {
     "data": {
      "text/plain": [
       "10000"
      ]
     },
     "execution_count": 15,
     "metadata": {},
     "output_type": "execute_result"
    }
   ],
   "source": [
    "len(lines[4:m+4]) #contain descriptions of diseases"
   ]
  },
  {
   "cell_type": "code",
   "execution_count": 16,
   "id": "387b766e-8396-4024-8b35-d97a76f56c4a",
   "metadata": {},
   "outputs": [
    {
     "data": {
      "text/plain": [
       "('6 80127 45276 14858 88937 85190 72807\\n', '10000\\n')"
      ]
     },
     "execution_count": 16,
     "metadata": {},
     "output_type": "execute_result"
    }
   ],
   "source": [
    "lines[4],lines[m+4]"
   ]
  },
  {
   "cell_type": "code",
   "execution_count": 17,
   "id": "63efe19b-14a0-4049-a50e-c4f1b65daa87",
   "metadata": {},
   "outputs": [],
   "source": [
    "desc_d = []\n",
    "for line in lines[4:m+4]:\n",
    "    desc_d.append([int(i) for i in line.rstrip().split(' ')])"
   ]
  },
  {
   "cell_type": "code",
   "execution_count": 18,
   "id": "c10b9168-3d72-4bfb-bd57-a780e60c3246",
   "metadata": {},
   "outputs": [
    {
     "data": {
      "text/plain": [
       "[1, 8591]"
      ]
     },
     "execution_count": 18,
     "metadata": {},
     "output_type": "execute_result"
    }
   ],
   "source": [
    "desc_d[-1]"
   ]
  },
  {
   "cell_type": "code",
   "execution_count": 19,
   "id": "e2c20cc7-f9ba-48dd-8c89-f17ff457fe8e",
   "metadata": {},
   "outputs": [
    {
     "data": {
      "text/plain": [
       "'10000\\n'"
      ]
     },
     "execution_count": 19,
     "metadata": {},
     "output_type": "execute_result"
    }
   ],
   "source": [
    "lines[m+4] #the number of patients"
   ]
  },
  {
   "cell_type": "code",
   "execution_count": 20,
   "id": "fe222cde-18fb-4cfb-a9bc-3dcbd2e68c80",
   "metadata": {},
   "outputs": [
    {
     "data": {
      "text/plain": [
       "10000"
      ]
     },
     "execution_count": 20,
     "metadata": {},
     "output_type": "execute_result"
    }
   ],
   "source": [
    "l = int(lines[m+4].rstrip())\n",
    "l"
   ]
  },
  {
   "cell_type": "code",
   "execution_count": 21,
   "id": "a5334db0-7651-4be4-a6f8-f54f5666ec37",
   "metadata": {},
   "outputs": [
    {
     "data": {
      "text/plain": [
       "'6 49032 67424 45587 27267 5181 51174\\n'"
      ]
     },
     "execution_count": 21,
     "metadata": {},
     "output_type": "execute_result"
    }
   ],
   "source": [
    "lines[m+4+1]"
   ]
  },
  {
   "cell_type": "code",
   "execution_count": 22,
   "id": "81ba8e7c-90e3-4710-b948-1fa42b405f5a",
   "metadata": {},
   "outputs": [
    {
     "data": {
      "text/plain": [
       "10000"
      ]
     },
     "execution_count": 22,
     "metadata": {},
     "output_type": "execute_result"
    }
   ],
   "source": [
    "len(lines[m+4+1:m+4+1+l]) #descriptions of patients"
   ]
  },
  {
   "cell_type": "code",
   "execution_count": 23,
   "id": "efa43de6-9adc-4f26-bbb0-275b88f26f28",
   "metadata": {},
   "outputs": [],
   "source": [
    "desc_p = []\n",
    "for line in lines[m+4+1:m+4+1+l]:\n",
    "    desc_p.append([int(i) for i in line.rstrip().split(' ')])"
   ]
  },
  {
   "cell_type": "code",
   "execution_count": 24,
   "id": "0d35de21-e188-4871-953c-0a5542e79c88",
   "metadata": {},
   "outputs": [
    {
     "data": {
      "text/plain": [
       "[3, 84123, 83900, 61365]"
      ]
     },
     "execution_count": 24,
     "metadata": {},
     "output_type": "execute_result"
    }
   ],
   "source": [
    "desc_p[-1]"
   ]
  },
  {
   "cell_type": "code",
   "execution_count": 25,
   "id": "d2014339-e637-4fc8-a87f-1a08775a8fc8",
   "metadata": {},
   "outputs": [
    {
     "data": {
      "text/plain": [
       "'3 84123 83900 61365\\n'"
      ]
     },
     "execution_count": 25,
     "metadata": {},
     "output_type": "execute_result"
    }
   ],
   "source": [
    "lines[m+4+l]"
   ]
  },
  {
   "cell_type": "markdown",
   "id": "3a9c2409-d89f-475b-b0b3-e5f62733f41f",
   "metadata": {},
   "source": [
    "# Create Tree Structure"
   ]
  },
  {
   "cell_type": "markdown",
   "id": "fd50edb6-7be5-4247-8c98-bc9f240226e0",
   "metadata": {},
   "source": [
    "## Create Empty Graph Object"
   ]
  },
  {
   "cell_type": "code",
   "execution_count": 26,
   "id": "974af2e0-59ae-4713-9bfe-e5702a333cfc",
   "metadata": {},
   "outputs": [],
   "source": [
    "# create empty graph object\n",
    "# must use directed graph in order to use LCA algorithmn in NX\n",
    "G = nx.DiGraph()"
   ]
  },
  {
   "cell_type": "markdown",
   "id": "7d22d1d2-9072-4ce8-ba85-22b998361d30",
   "metadata": {},
   "source": [
    "## Create Tree"
   ]
  },
  {
   "cell_type": "code",
   "execution_count": 27,
   "id": "a755b3d5-1c5d-4bb7-a4b9-c7440d99bd40",
   "metadata": {},
   "outputs": [],
   "source": [
    "# initialize root\n",
    "G.add_node(1)"
   ]
  },
  {
   "cell_type": "code",
   "execution_count": 28,
   "id": "a0832f46-abb6-4e67-9f9d-b3c03c1c0c57",
   "metadata": {},
   "outputs": [
    {
     "name": "stdout",
     "output_type": "stream",
     "text": [
      "CPU times: user 56.6 ms, sys: 19.4 ms, total: 76 ms\n",
      "Wall time: 76 ms\n"
     ]
    }
   ],
   "source": [
    "%%time\n",
    "# create edges\n",
    "edges = []\n",
    "for i, j in zip(parents,range(2,n+1)):\n",
    "    edges.append((i,j))"
   ]
  },
  {
   "cell_type": "code",
   "execution_count": 29,
   "id": "f9c1a200-195d-496a-807b-06b7f325889f",
   "metadata": {},
   "outputs": [
    {
     "name": "stdout",
     "output_type": "stream",
     "text": [
      "CPU times: user 1.12 s, sys: 152 ms, total: 1.27 s\n",
      "Wall time: 1.27 s\n"
     ]
    }
   ],
   "source": [
    "%%time\n",
    "# create tree graph\n",
    "G.add_edges_from(edges)"
   ]
  },
  {
   "cell_type": "code",
   "execution_count": 30,
   "id": "985005a6-d600-48d0-be03-fae445d4d43d",
   "metadata": {},
   "outputs": [
    {
     "data": {
      "text/plain": [
       "22"
      ]
     },
     "execution_count": 30,
     "metadata": {},
     "output_type": "execute_result"
    }
   ],
   "source": [
    "import gc\n",
    "gc.collect()"
   ]
  },
  {
   "cell_type": "markdown",
   "id": "e4fe20ff-5074-4683-ba1a-9a449fc824db",
   "metadata": {},
   "source": [
    "# Task"
   ]
  },
  {
   "cell_type": "markdown",
   "id": "af097ba1-b604-44bb-9fc9-7b4b28d64c35",
   "metadata": {},
   "source": [
    "## IC dictionary"
   ]
  },
  {
   "cell_type": "code",
   "execution_count": 31,
   "id": "f2482168-7f33-487c-878a-3ac24e130ab7",
   "metadata": {},
   "outputs": [],
   "source": [
    "# create info dictionary\n",
    "infod = {}"
   ]
  },
  {
   "cell_type": "code",
   "execution_count": 32,
   "id": "5ae5111f-7381-42a2-8841-b78601a8d1a6",
   "metadata": {},
   "outputs": [
    {
     "name": "stdout",
     "output_type": "stream",
     "text": [
      "CPU times: user 41 ms, sys: 30.3 ms, total: 71.3 ms\n",
      "Wall time: 70.5 ms\n"
     ]
    }
   ],
   "source": [
    "%%time\n",
    "for i , j in enumerate(info):\n",
    "    infod[i+1] = j"
   ]
  },
  {
   "cell_type": "markdown",
   "id": "965de986-fe89-42f2-87bc-9b1d0994679f",
   "metadata": {},
   "source": [
    "# Other variables"
   ]
  },
  {
   "cell_type": "code",
   "execution_count": 49,
   "id": "c4eba3a4-1e7f-4d78-8b24-3e9e23ba3bd8",
   "metadata": {},
   "outputs": [],
   "source": [
    "# disease score\n",
    "d_scores = []\n",
    "# result output\n",
    "result = []\n",
    "# create score\n",
    "score = 0\n",
    "# create minimum\n",
    "maxim = 0"
   ]
  },
  {
   "cell_type": "code",
   "execution_count": 50,
   "id": "b62919cd-19bc-463d-add3-3c36c93aeef4",
   "metadata": {},
   "outputs": [
    {
     "data": {
      "text/plain": [
       "96"
      ]
     },
     "execution_count": 50,
     "metadata": {},
     "output_type": "execute_result"
    }
   ],
   "source": [
    "gc.collect()"
   ]
  },
  {
   "cell_type": "markdown",
   "id": "0d076a18-a5dc-42d4-a479-76e77b221b13",
   "metadata": {},
   "source": [
    "# Main code block"
   ]
  },
  {
   "cell_type": "code",
   "execution_count": 44,
   "id": "927d91ff-90ed-4cf7-82e2-bdea10b1bc4a",
   "metadata": {},
   "outputs": [],
   "source": [
    "# function generator to optimize loop\n",
    "def product(a, b):\n",
    "    for i in a:\n",
    "        for j in b:\n",
    "            yield i, j"
   ]
  },
  {
   "cell_type": "code",
   "execution_count": 51,
   "id": "beeb8efc-489c-4d17-8e96-3d277a0a5b08",
   "metadata": {},
   "outputs": [
    {
     "name": "stderr",
     "output_type": "stream",
     "text": [
      "  0%|          | 0/10000 [03:43<?, ?it/s]\n"
     ]
    },
    {
     "ename": "KeyboardInterrupt",
     "evalue": "",
     "output_type": "error",
     "traceback": [
      "\u001b[0;31m---------------------------------------------------------------------------\u001b[0m",
      "\u001b[0;31mKeyboardInterrupt\u001b[0m                         Traceback (most recent call last)",
      "\u001b[0;32m<timed exec>\u001b[0m in \u001b[0;36m<module>\u001b[0;34m\u001b[0m\n",
      "\u001b[0;32m/usr/local/lib/python3.7/dist-packages/networkx/algorithms/lowest_common_ancestors.py\u001b[0m in \u001b[0;36mtree_all_pairs_lowest_common_ancestor\u001b[0;34m(G, root, pairs)\u001b[0m\n\u001b[1;32m    114\u001b[0m             \u001b[0mparent\u001b[0m \u001b[0;34m=\u001b[0m \u001b[0marbitrary_element\u001b[0m\u001b[0;34m(\u001b[0m\u001b[0mG\u001b[0m\u001b[0;34m.\u001b[0m\u001b[0mpred\u001b[0m\u001b[0;34m[\u001b[0m\u001b[0mnode\u001b[0m\u001b[0;34m]\u001b[0m\u001b[0;34m)\u001b[0m\u001b[0;34m\u001b[0m\u001b[0;34m\u001b[0m\u001b[0m\n\u001b[1;32m    115\u001b[0m             \u001b[0muf\u001b[0m\u001b[0;34m.\u001b[0m\u001b[0munion\u001b[0m\u001b[0;34m(\u001b[0m\u001b[0mparent\u001b[0m\u001b[0;34m,\u001b[0m \u001b[0mnode\u001b[0m\u001b[0;34m)\u001b[0m\u001b[0;34m\u001b[0m\u001b[0;34m\u001b[0m\u001b[0m\n\u001b[0;32m--> 116\u001b[0;31m             \u001b[0mancestors\u001b[0m\u001b[0;34m[\u001b[0m\u001b[0muf\u001b[0m\u001b[0;34m[\u001b[0m\u001b[0mparent\u001b[0m\u001b[0;34m]\u001b[0m\u001b[0;34m]\u001b[0m \u001b[0;34m=\u001b[0m \u001b[0mparent\u001b[0m\u001b[0;34m\u001b[0m\u001b[0;34m\u001b[0m\u001b[0m\n\u001b[0m\u001b[1;32m    117\u001b[0m \u001b[0;34m\u001b[0m\u001b[0m\n\u001b[1;32m    118\u001b[0m \u001b[0;34m\u001b[0m\u001b[0m\n",
      "\u001b[0;32m/usr/local/lib/python3.7/dist-packages/networkx/utils/union_find.py\u001b[0m in \u001b[0;36m__getitem__\u001b[0;34m(self, object)\u001b[0m\n\u001b[1;32m     48\u001b[0m \u001b[0;34m\u001b[0m\u001b[0m\n\u001b[1;32m     49\u001b[0m         \u001b[0;31m# check for previously unknown object\u001b[0m\u001b[0;34m\u001b[0m\u001b[0;34m\u001b[0m\u001b[0;34m\u001b[0m\u001b[0m\n\u001b[0;32m---> 50\u001b[0;31m         \u001b[0;32mif\u001b[0m \u001b[0mobject\u001b[0m \u001b[0;32mnot\u001b[0m \u001b[0;32min\u001b[0m \u001b[0mself\u001b[0m\u001b[0;34m.\u001b[0m\u001b[0mparents\u001b[0m\u001b[0;34m:\u001b[0m\u001b[0;34m\u001b[0m\u001b[0;34m\u001b[0m\u001b[0m\n\u001b[0m\u001b[1;32m     51\u001b[0m             \u001b[0mself\u001b[0m\u001b[0;34m.\u001b[0m\u001b[0mparents\u001b[0m\u001b[0;34m[\u001b[0m\u001b[0mobject\u001b[0m\u001b[0;34m]\u001b[0m \u001b[0;34m=\u001b[0m \u001b[0mobject\u001b[0m\u001b[0;34m\u001b[0m\u001b[0;34m\u001b[0m\u001b[0m\n\u001b[1;32m     52\u001b[0m             \u001b[0mself\u001b[0m\u001b[0;34m.\u001b[0m\u001b[0mweights\u001b[0m\u001b[0;34m[\u001b[0m\u001b[0mobject\u001b[0m\u001b[0;34m]\u001b[0m \u001b[0;34m=\u001b[0m \u001b[0;36m1\u001b[0m\u001b[0;34m\u001b[0m\u001b[0;34m\u001b[0m\u001b[0m\n",
      "\u001b[0;31mKeyboardInterrupt\u001b[0m: "
     ]
    }
   ],
   "source": [
    "%%time \n",
    "\n",
    "# SKIP IC calculation\n",
    "# Use generator\n",
    "\n",
    "# loop through patients\n",
    "for i in tqdm(range(1,l+1)):\n",
    "    d_scores = []\n",
    "    # loop through diseases\n",
    "    for j in range(1, m+1):\n",
    "        score = 0\n",
    "        for d, q in product(desc_p[i-1][1:], desc_d[j-1][1:]):\n",
    "            lca = nx.tree_all_pairs_lowest_common_ancestor(G, root=1, pairs=[(d,q)])\n",
    "            anc = next(lca)[-1]\n",
    "            score += anc\n",
    "        d_scores.append(score)\n",
    "    disease = d_scores.index(max(d_scores)) +1\n",
    "    result.append(str(disease) + '\\n')"
   ]
  },
  {
   "cell_type": "code",
   "execution_count": 38,
   "id": "cf24c337-c6b2-4fee-a0f2-d8248d73ed5f",
   "metadata": {},
   "outputs": [],
   "source": [
    "with open('result3.txt', 'w') as f:\n",
    "    f.writelines(result)"
   ]
  },
  {
   "cell_type": "code",
   "execution_count": 39,
   "id": "c86319df-20b2-4c6a-bb0e-c2b84c5854a1",
   "metadata": {},
   "outputs": [
    {
     "data": {
      "text/plain": [
       "0"
      ]
     },
     "execution_count": 39,
     "metadata": {},
     "output_type": "execute_result"
    }
   ],
   "source": [
    "len(result)"
   ]
  },
  {
   "cell_type": "markdown",
   "id": "1070b2e4-05d4-4532-bc8d-650f4bcf0f53",
   "metadata": {},
   "source": [
    "## still slow, completely skip IC calculation, generator for d&p, optimized LCA algorithm from networkx\n",
    "\n",
    "## Still way too long with networkx, 9 mins+ for one patient, need optimization on loops, try product generator?**\n",
    "\n",
    "## Too Slow, use Networkx Package in Python instead of AnyTree"
   ]
  },
  {
   "cell_type": "code",
   "execution_count": null,
   "id": "71530a48-31fd-476d-9ad2-4026fe8fed52",
   "metadata": {},
   "outputs": [],
   "source": []
  }
 ],
 "metadata": {
  "kernelspec": {
   "display_name": "Python 3",
   "language": "python",
   "name": "python3"
  },
  "language_info": {
   "codemirror_mode": {
    "name": "ipython",
    "version": 3
   },
   "file_extension": ".py",
   "mimetype": "text/x-python",
   "name": "python",
   "nbconvert_exporter": "python",
   "pygments_lexer": "ipython3",
   "version": "3.7.3"
  }
 },
 "nbformat": 4,
 "nbformat_minor": 5
}
