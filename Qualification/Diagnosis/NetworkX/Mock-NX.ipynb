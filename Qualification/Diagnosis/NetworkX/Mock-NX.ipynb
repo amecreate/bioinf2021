{
 "cells": [
  {
   "cell_type": "code",
   "execution_count": 1,
   "id": "f726bf19-a1f9-4457-b973-c2bce1b1a641",
   "metadata": {},
   "outputs": [],
   "source": [
    "n = 10 #the number of vertices in the phenotype tree\n",
    "parents = [1, 1, 3, 3, 4, 4, 5, 5, 5] #the parent identifiers for the vertices\n",
    "info = [5, 7, 8, 13, 18, 14, 15, 21, 20, 29] #information content\n",
    "m = 2 #number of diseases\n",
    "desc_d = [[2, 4, 2],[1, 10]] #contain descriptions of diseases. Note first item is the no. of descrition\n",
    "l = 4 #number of patients\n",
    "desc_p = [[3, 5, 9, 8],[1, 6],[2, 7, 10],[1, 10]] #descriptions of patiens"
   ]
  },
  {
   "cell_type": "code",
   "execution_count": 2,
   "id": "1acef0a4-66fe-4bbb-b6e2-95a6014139d0",
   "metadata": {},
   "outputs": [],
   "source": [
    "import networkx as nx"
   ]
  },
  {
   "cell_type": "code",
   "execution_count": 3,
   "id": "fad65004-be07-4478-b085-c20d2a4cd65e",
   "metadata": {},
   "outputs": [],
   "source": [
    "# create empty graph object\n",
    "# must use directed graph in order to use LCA algorithmn in NX\n",
    "G = nx.DiGraph()"
   ]
  },
  {
   "cell_type": "markdown",
   "id": "6cbaac24-6c3a-44b1-ac42-5c0d61a75620",
   "metadata": {},
   "source": [
    "## Create Tree"
   ]
  },
  {
   "cell_type": "code",
   "execution_count": 4,
   "id": "ecc5c8d4-4921-4a94-84a7-682882f6eb8f",
   "metadata": {},
   "outputs": [],
   "source": [
    "# initialize root\n",
    "G.add_node(1)"
   ]
  },
  {
   "cell_type": "code",
   "execution_count": 5,
   "id": "3594268f-0d95-41a8-8a95-4e49bceafeb7",
   "metadata": {},
   "outputs": [
    {
     "name": "stdout",
     "output_type": "stream",
     "text": [
      "CPU times: user 59 µs, sys: 11 µs, total: 70 µs\n",
      "Wall time: 86.8 µs\n"
     ]
    },
    {
     "data": {
      "text/plain": [
       "[(1, 2), (1, 3), (3, 4), (3, 5), (4, 6), (4, 7), (5, 8), (5, 9), (5, 10)]"
      ]
     },
     "execution_count": 5,
     "metadata": {},
     "output_type": "execute_result"
    }
   ],
   "source": [
    "%%time\n",
    "# create edges\n",
    "edges = []\n",
    "for i, j in zip(parents,range(2,n+1)):\n",
    "    edges.append((i,j))\n",
    "edges"
   ]
  },
  {
   "cell_type": "code",
   "execution_count": 6,
   "id": "53e8c909-fe08-4ed1-a5a5-6c2a258659bd",
   "metadata": {},
   "outputs": [
    {
     "name": "stdout",
     "output_type": "stream",
     "text": [
      "CPU times: user 146 µs, sys: 27 µs, total: 173 µs\n",
      "Wall time: 207 µs\n"
     ]
    }
   ],
   "source": [
    "%%time\n",
    "# create tree graph\n",
    "G.add_edges_from(edges)"
   ]
  },
  {
   "cell_type": "code",
   "execution_count": 7,
   "id": "c55204af-6216-4914-a1a4-de5ca3fa6977",
   "metadata": {},
   "outputs": [
    {
     "data": {
      "image/png": "[encoded data removed]",
      "text/plain": [
       "<Figure size 432x288 with 1 Axes>"
      ]
     },
     "metadata": {},
     "output_type": "display_data"
    }
   ],
   "source": [
    "# draw graph\n",
    "import matplotlib.pyplot as plt\n",
    "nx.draw_networkx(G)"
   ]
  },
  {
   "cell_type": "markdown",
   "id": "4889e392-5edd-44b7-8fc5-13923340fbaa",
   "metadata": {},
   "source": [
    "# Task"
   ]
  },
  {
   "cell_type": "markdown",
   "id": "28ac7915-c653-4492-b207-8fa68256a99d",
   "metadata": {},
   "source": [
    "1. for each patient, each disease, find their lowest common ancestor LCA(q,d)\n",
    "\n",
    "2. for each patient description for one patient, pair it with each disease description for one disease\n",
    "\n",
    "3. find the LCA of the pair\n",
    "\n",
    "4. find the max IC of the LCA\n",
    "\n",
    "5. do it for every patient description, sum up, this is the score of this disease\n",
    "\n",
    "6. repeat for another disease\n",
    "\n",
    "7. compair the disease scores, maximum score is the result disease\n",
    "\n"
   ]
  },
  {
   "cell_type": "code",
   "execution_count": 8,
   "id": "05528c46-f62a-48b0-be66-aa90fd674c3d",
   "metadata": {},
   "outputs": [],
   "source": [
    "# create info dictionary\n",
    "infod = {}"
   ]
  },
  {
   "cell_type": "code",
   "execution_count": 9,
   "id": "83bdb74f-125c-4e61-af97-a78bbb21639f",
   "metadata": {},
   "outputs": [],
   "source": [
    "for i , j in enumerate(info):\n",
    "    infod[i+1] = j"
   ]
  },
  {
   "cell_type": "code",
   "execution_count": 10,
   "id": "a63f583c-8ec6-448f-a32a-3285e2267038",
   "metadata": {},
   "outputs": [
    {
     "data": {
      "text/plain": [
       "{1: 5, 2: 7, 3: 8, 4: 13, 5: 18, 6: 14, 7: 15, 8: 21, 9: 20, 10: 29}"
      ]
     },
     "execution_count": 10,
     "metadata": {},
     "output_type": "execute_result"
    }
   ],
   "source": [
    "infod"
   ]
  },
  {
   "cell_type": "code",
   "execution_count": 11,
   "id": "3bf19298-8943-4dc1-8d8c-3c7cef64d8e2",
   "metadata": {},
   "outputs": [],
   "source": [
    "# disease score\n",
    "d_scores = []\n",
    "# result output\n",
    "result = []\n",
    "# create score\n",
    "score = 0\n",
    "# create minimum\n",
    "maxim = 0"
   ]
  },
  {
   "cell_type": "code",
   "execution_count": 12,
   "id": "ddf6555f-0bc7-4382-9f71-366c8901ba8d",
   "metadata": {},
   "outputs": [],
   "source": [
    "# function generator to optimize loop\n",
    "def product(a, b):\n",
    "    for i in a:\n",
    "        for j in b:\n",
    "            yield i, j"
   ]
  },
  {
   "cell_type": "code",
   "execution_count": 13,
   "id": "78ed63a7-3e7d-4378-8ffa-add71955c137",
   "metadata": {},
   "outputs": [
    {
     "name": "stdout",
     "output_type": "stream",
     "text": [
      "max score is :  0 3\n",
      "max score is :  0 4\n",
      "max score is :  0 7\n",
      "max score is :  0 8\n",
      "max score is :  0 11\n",
      "max score is :  0 12\n",
      "d_scores [12]\n",
      "max score is :  0 5\n",
      "max score is :  0 10\n",
      "max score is :  0 15\n",
      "d_scores [12, 15]\n",
      "disease is : 2\n",
      "max score is :  0 4\n",
      "max score is :  0 5\n",
      "d_scores [5]\n",
      "max score is :  0 3\n",
      "d_scores [5, 3]\n",
      "disease is : 1\n",
      "max score is :  0 4\n",
      "max score is :  0 5\n",
      "max score is :  0 8\n",
      "max score is :  0 9\n",
      "d_scores [9]\n",
      "max score is :  0 3\n",
      "max score is :  0 13\n",
      "d_scores [9, 13]\n",
      "disease is : 2\n",
      "max score is :  0 3\n",
      "max score is :  0 4\n",
      "d_scores [4]\n",
      "max score is :  0 10\n",
      "d_scores [4, 10]\n",
      "disease is : 2\n"
     ]
    }
   ],
   "source": [
    "# SKIP IC calculation\n",
    "# Use generator\n",
    "\n",
    "# loop through patients\n",
    "for i in range(1,l+1):\n",
    "    d_scores = []\n",
    "    # loop through diseases\n",
    "    for j in range(1, m+1):\n",
    "        score = 0\n",
    "        for d, q in product(desc_p[i-1][1:], desc_d[j-1][1:]):\n",
    "            anc = nx.algorithms.lowest_common_ancestor(G, q, d)\n",
    "            score += anc\n",
    "            print('max score is : ',maxim, score)\n",
    "        d_scores.append(score)\n",
    "        print('d_scores',d_scores)\n",
    "    disease = d_scores.index(max(d_scores)) +1\n",
    "    result.append(str(disease) + '\\n')\n",
    "    print('disease is :', disease)"
   ]
  },
  {
   "cell_type": "code",
   "execution_count": null,
   "id": "3a1a173a-6721-4e1e-a035-749f347b1d6a",
   "metadata": {},
   "outputs": [],
   "source": [
    "# loop through patients\n",
    "for i in range(1,l+1):\n",
    "    d_scores = []\n",
    "    # loop through diseases\n",
    "    for j in range(1, m+1):\n",
    "        score = 0\n",
    "        # loop through patient descriptions\n",
    "        # skip first item, which is no. of desc\n",
    "        for d in desc_p[i-1][1:]:\n",
    "            maxim = 0\n",
    "            print(d)\n",
    "            # loop through disease descriptions:\n",
    "            # skip first item, same reason as above\n",
    "            for q in desc_d[j-1][1:]:\n",
    "                print(q)\n",
    "                # find LCA(q,d)\n",
    "                anc = nx.algorithms.lowest_common_ancestor(G, q, d)                       \n",
    "                info_ = infod[anc]\n",
    "                print('LCA is :', anc, info_)\n",
    "                # find max(IC(LCA(q,d)))\n",
    "                if info_ >= maxim:\n",
    "                    maxim = info_\n",
    "            score += maxim\n",
    "            print('max score is : ',maxim, score)\n",
    "        d_scores.append(score)\n",
    "        print('d_scores',d_scores)\n",
    "    disease = d_scores.index(max(d_scores)) +1\n",
    "    result.append(str(disease) + '\\n')\n",
    "    print('disease is :', disease)"
   ]
  },
  {
   "cell_type": "code",
   "execution_count": 14,
   "id": "b1014893-c3f3-4eb4-afd0-b7271c70fbfc",
   "metadata": {},
   "outputs": [
    {
     "data": {
      "text/plain": [
       "['2\\n', '1\\n', '2\\n', '2\\n']"
      ]
     },
     "execution_count": 14,
     "metadata": {},
     "output_type": "execute_result"
    }
   ],
   "source": [
    "result"
   ]
  },
  {
   "cell_type": "code",
   "execution_count": null,
   "id": "5445f49d-9526-428b-bac7-0cf81567e29e",
   "metadata": {},
   "outputs": [],
   "source": []
  }
 ],
 "metadata": {
  "kernelspec": {
   "display_name": "Python 3",
   "language": "python",
   "name": "python3"
  },
  "language_info": {
   "codemirror_mode": {
    "name": "ipython",
    "version": 3
   },
   "file_extension": ".py",
   "mimetype": "text/x-python",
   "name": "python",
   "nbconvert_exporter": "python",
   "pygments_lexer": "ipython3",
   "version": "3.7.3"
  }
 },
 "nbformat": 4,
 "nbformat_minor": 5
}
