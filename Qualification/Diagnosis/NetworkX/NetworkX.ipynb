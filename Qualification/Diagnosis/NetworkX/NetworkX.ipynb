{
 "cells": [
  {
   "cell_type": "code",
   "execution_count": 4,
   "id": "11df17cc-326b-44c6-8c01-58909e0af413",
   "metadata": {},
   "outputs": [],
   "source": [
    "import  networkx as nx"
   ]
  },
  {
   "cell_type": "code",
   "execution_count": 5,
   "id": "87297844-ff54-4f22-8895-e390b56be34a",
   "metadata": {},
   "outputs": [],
   "source": [
    "G = nx.DiGraph()"
   ]
  },
  {
   "cell_type": "code",
   "execution_count": 6,
   "id": "1e04977a-125e-4353-bbbc-7c35c67661e3",
   "metadata": {},
   "outputs": [],
   "source": [
    "n = 10\n",
    "parents = [1, 1, 3, 3, 4, 4, 5, 5, 5]"
   ]
  },
  {
   "cell_type": "code",
   "execution_count": 7,
   "id": "b0394fd0-01b3-42d0-92a0-124b70464a16",
   "metadata": {},
   "outputs": [],
   "source": [
    "edges = []"
   ]
  },
  {
   "cell_type": "code",
   "execution_count": 8,
   "id": "34f17654-8452-40eb-a5c1-31a8ca1916d1",
   "metadata": {},
   "outputs": [],
   "source": [
    "for i,j in zip(parents,range(2,10+1)):\n",
    "    edges.append((i,j))"
   ]
  },
  {
   "cell_type": "code",
   "execution_count": 9,
   "id": "cfa54852-6864-4d90-8c3f-d6b08d79b9da",
   "metadata": {},
   "outputs": [
    {
     "data": {
      "text/plain": [
       "[(1, 2), (1, 3), (3, 4), (3, 5), (4, 6), (4, 7), (5, 8), (5, 9), (5, 10)]"
      ]
     },
     "execution_count": 9,
     "metadata": {},
     "output_type": "execute_result"
    }
   ],
   "source": [
    "edges"
   ]
  },
  {
   "cell_type": "code",
   "execution_count": 10,
   "id": "649f01e5-5109-4046-a753-cb970faa2914",
   "metadata": {},
   "outputs": [],
   "source": [
    "# initialize root\n",
    "G.add_node(1)"
   ]
  },
  {
   "cell_type": "code",
   "execution_count": 11,
   "id": "9e1eedc7-638f-4f90-bf1f-cf0a5b4c55bd",
   "metadata": {},
   "outputs": [],
   "source": [
    "# add parents\n",
    "G.add_edges_from(edges)"
   ]
  },
  {
   "cell_type": "code",
   "execution_count": 12,
   "id": "14935e9f-b7fa-4bee-9118-38269994da3c",
   "metadata": {},
   "outputs": [
    {
     "data": {
      "text/plain": [
       "OutEdgeView([(1, 2), (1, 3), (3, 4), (3, 5), (4, 6), (4, 7), (5, 8), (5, 9), (5, 10)])"
      ]
     },
     "execution_count": 12,
     "metadata": {},
     "output_type": "execute_result"
    }
   ],
   "source": [
    "G.edges"
   ]
  },
  {
   "cell_type": "code",
   "execution_count": 10,
   "id": "bdf10619-bd9a-4e3b-a08b-1f3e92c5905e",
   "metadata": {},
   "outputs": [],
   "source": [
    "import matplotlib.pyplot as plt"
   ]
  },
  {
   "cell_type": "code",
   "execution_count": 11,
   "id": "f47baca3-2b56-4ae2-be40-c25bdf47d17c",
   "metadata": {},
   "outputs": [
    {
     "data": {
      "image/png": "[encoded data removed]",
      "text/plain": [
       "<Figure size 432x288 with 1 Axes>"
      ]
     },
     "metadata": {},
     "output_type": "display_data"
    }
   ],
   "source": [
    "nx.draw_networkx(G)"
   ]
  },
  {
   "cell_type": "code",
   "execution_count": 12,
   "id": "15b019dd-9aaf-4e72-bff7-4fa139e87ffd",
   "metadata": {},
   "outputs": [
    {
     "name": "stdout",
     "output_type": "stream",
     "text": [
      "CPU times: user 590 ms, sys: 20.2 ms, total: 611 ms\n",
      "Wall time: 609 ms\n"
     ]
    },
    {
     "data": {
      "text/plain": [
       "1"
      ]
     },
     "execution_count": 12,
     "metadata": {},
     "output_type": "execute_result"
    }
   ],
   "source": [
    "%%time\n",
    "# Lowest Common Ancestor\n",
    "nx.algorithms.lowest_common_ancestor(G, 2, 5)"
   ]
  },
  {
   "cell_type": "code",
   "execution_count": 13,
   "id": "7a66a515-f2bc-4819-9a76-213bc51ca6f5",
   "metadata": {},
   "outputs": [
    {
     "name": "stdout",
     "output_type": "stream",
     "text": [
      "CPU times: user 1.97 ms, sys: 230 µs, total: 2.2 ms\n",
      "Wall time: 2.11 ms\n"
     ]
    },
    {
     "data": {
      "text/plain": [
       "<generator object all_pairs_lowest_common_ancestor.<locals>._compute_dag_lca_from_tree_values at 0xb57ac170>"
      ]
     },
     "execution_count": 13,
     "metadata": {},
     "output_type": "execute_result"
    }
   ],
   "source": [
    "%%time\n",
    "# Lowest Common Ancestor\n",
    "nx.algorithms.all_pairs_lowest_common_ancestor(G, pairs=[(2, 5)])"
   ]
  },
  {
   "cell_type": "code",
   "execution_count": null,
   "id": "5450fbc5-d041-4451-b009-e299aec27a1e",
   "metadata": {},
   "outputs": [],
   "source": []
  },
  {
   "cell_type": "code",
   "execution_count": 18,
   "id": "5840663f-0104-4fbf-91b3-c1b6fd9674ff",
   "metadata": {},
   "outputs": [
    {
     "name": "stdout",
     "output_type": "stream",
     "text": [
      "CPU times: user 41 µs, sys: 5 µs, total: 46 µs\n",
      "Wall time: 61.3 µs\n"
     ]
    }
   ],
   "source": [
    "%%time\n",
    "# Lowest Common Ancestor\n",
    "lca = nx.tree_all_pairs_lowest_common_ancestor(G, root=1, pairs=[(2,5), (2,3)])"
   ]
  },
  {
   "cell_type": "code",
   "execution_count": 16,
   "id": "109b8813-16a3-429d-92e3-a926a0d95517",
   "metadata": {
    "tags": []
   },
   "outputs": [],
   "source": [
    "\"\"\"Algorithms for finding the lowest common ancestor of trees and DAGs.\"\"\"\n",
    "from collections import defaultdict\n",
    "from collections.abc import Mapping, Set\n",
    "from itertools import chain, count\n",
    "\n",
    "import networkx as nx\n",
    "from networkx.utils import (\n",
    "    arbitrary_element,\n",
    "    not_implemented_for,\n",
    "    UnionFind,\n",
    "    generate_unique_node,\n",
    ")\n",
    "\n",
    "__all__ = [\n",
    "    \"all_pairs_lowest_common_ancestor\",\n",
    "    \"tree_all_pairs_lowest_common_ancestor\",\n",
    "    \"lowest_common_ancestor\",\n",
    "]\n",
    "\n",
    "\n",
    "#[docs]@not_implemented_for(\"undirected\")\n",
    "#@not_implemented_for(\"multigraph\")\n",
    "def tree_all_pairs_lowest_common_ancestor(G, root=None, pairs=None):\n",
    "    r\"\"\"Yield the lowest common ancestor for sets of pairs in a tree.\n",
    "\n",
    "    Parameters\n",
    "    ----------\n",
    "    G : NetworkX directed graph (must be a tree)\n",
    "\n",
    "    root : node, optional (default: None)\n",
    "        The root of the subtree to operate on.\n",
    "        If None, assume the entire graph has exactly one source and use that.\n",
    "\n",
    "    pairs : iterable or iterator of pairs of nodes, optional (default: None)\n",
    "        The pairs of interest. If None, Defaults to all pairs of nodes\n",
    "        under `root` that have a lowest common ancestor.\n",
    "\n",
    "    Returns\n",
    "    -------\n",
    "    lcas : generator of tuples `((u, v), lca)` where `u` and `v` are nodes\n",
    "        in `pairs` and `lca` is their lowest common ancestor.\n",
    "\n",
    "    Notes\n",
    "    -----\n",
    "    Only defined on non-null trees represented with directed edges from\n",
    "    parents to children. Uses Tarjan's off-line lowest-common-ancestors\n",
    "    algorithm. Runs in time $O(4 \\times (V + E + P))$ time, where 4 is the largest\n",
    "    value of the inverse Ackermann function likely to ever come up in actual\n",
    "    use, and $P$ is the number of pairs requested (or $V^2$ if all are needed).\n",
    "\n",
    "    Tarjan, R. E. (1979), \"Applications of path compression on balanced trees\",\n",
    "    Journal of the ACM 26 (4): 690-715, doi:10.1145/322154.322161.\n",
    "\n",
    "    See Also\n",
    "    --------\n",
    "    all_pairs_lowest_common_ancestor (similar routine for general DAGs)\n",
    "    lowest_common_ancestor           (just a single pair for general DAGs)\n",
    "    \"\"\"\n",
    "    if len(G) == 0:\n",
    "        raise nx.NetworkXPointlessConcept(\"LCA meaningless on null graphs.\")\n",
    "    elif None in G:\n",
    "        raise nx.NetworkXError(\"None is not a valid node.\")\n",
    "\n",
    "    # Index pairs of interest for efficient lookup from either side.\n",
    "    if pairs is not None:\n",
    "        pair_dict = defaultdict(set)\n",
    "        # See note on all_pairs_lowest_common_ancestor.\n",
    "        if not isinstance(pairs, (Mapping, Set)):\n",
    "            pairs = set(pairs)\n",
    "        for u, v in pairs:\n",
    "            for n in (u, v):\n",
    "                if n not in G:\n",
    "                    msg = f\"The node {str(n)} is not in the digraph.\"\n",
    "                    raise nx.NodeNotFound(msg)\n",
    "            pair_dict[u].add(v)\n",
    "            pair_dict[v].add(u)\n",
    "\n",
    "    # If root is not specified, find the exactly one node with in degree 0 and\n",
    "    # use it. Raise an error if none are found, or more than one is. Also check\n",
    "    # for any nodes with in degree larger than 1, which would imply G is not a\n",
    "    # tree.\n",
    "    if root is None:\n",
    "        for n, deg in G.in_degree:\n",
    "            if deg == 0:\n",
    "                if root is not None:\n",
    "                    msg = \"No root specified and tree has multiple sources.\"\n",
    "                    raise nx.NetworkXError(msg)\n",
    "                root = n\n",
    "            elif deg > 1:\n",
    "                msg = \"Tree LCA only defined on trees; use DAG routine.\"\n",
    "                raise nx.NetworkXError(msg)\n",
    "    if root is None:\n",
    "        raise nx.NetworkXError(\"Graph contains a cycle.\")\n",
    "\n",
    "    # Iterative implementation of Tarjan's offline lca algorithm\n",
    "    # as described in CLRS on page 521 (2nd edition)/page 584 (3rd edition)\n",
    "    uf = UnionFind()\n",
    "    ancestors = {}\n",
    "    for node in G:\n",
    "        ancestors[node] = uf[node]\n",
    "\n",
    "    colors = defaultdict(bool)\n",
    "    for node in nx.dfs_postorder_nodes(G, root):\n",
    "        colors[node] = True\n",
    "        for v in pair_dict[node] if pairs is not None else G:\n",
    "            if colors[v]:\n",
    "                # If the user requested both directions of a pair, give it.\n",
    "                # Otherwise, just give one.\n",
    "                if pairs is not None and (node, v) in pairs:\n",
    "                    yield ancestors[uf[v]]\n",
    "                if pairs is None or (v, node) in pairs:\n",
    "                    yield ancestors[uf[v]]\n",
    "        if node != root:\n",
    "            parent = arbitrary_element(G.pred[node])\n",
    "            uf.union(parent, node)\n",
    "            ancestors[uf[parent]] = parent"
   ]
  },
  {
   "cell_type": "code",
   "execution_count": 17,
   "id": "61941973-3f20-4daf-8f50-f83bcbea23b4",
   "metadata": {},
   "outputs": [],
   "source": [
    "lca = tree_all_pairs_lowest_common_ancestor(G, root=1, pairs=[(2,5), (2,3)])"
   ]
  },
  {
   "cell_type": "code",
   "execution_count": 18,
   "id": "abd7033f-fabb-49d9-bdf3-88856af64a25",
   "metadata": {},
   "outputs": [
    {
     "data": {
      "text/plain": [
       "<generator object tree_all_pairs_lowest_common_ancestor at 0xb3d63d30>"
      ]
     },
     "execution_count": 18,
     "metadata": {},
     "output_type": "execute_result"
    }
   ],
   "source": [
    "lca"
   ]
  },
  {
   "cell_type": "code",
   "execution_count": 22,
   "id": "28a8fcec-609a-46c8-a320-a3d8c0f4b236",
   "metadata": {},
   "outputs": [
    {
     "data": {
      "text/plain": [
       "[1, 1]"
      ]
     },
     "execution_count": 22,
     "metadata": {},
     "output_type": "execute_result"
    }
   ],
   "source": [
    "list(lca)"
   ]
  },
  {
   "cell_type": "code",
   "execution_count": 17,
   "id": "f61d6340-bfd5-46eb-8d7b-7dc208b7f5d5",
   "metadata": {},
   "outputs": [
    {
     "name": "stdout",
     "output_type": "stream",
     "text": [
      "CPU times: user 442 µs, sys: 53 µs, total: 495 µs\n",
      "Wall time: 518 µs\n"
     ]
    },
    {
     "data": {
      "text/plain": [
       "2"
      ]
     },
     "execution_count": 17,
     "metadata": {},
     "output_type": "execute_result"
    }
   ],
   "source": [
    "%%time\n",
    "sum(i[-1] for i in lca)"
   ]
  },
  {
   "cell_type": "code",
   "execution_count": 19,
   "id": "630637c9-d2ab-43d5-a5ec-3d5e39bf219d",
   "metadata": {},
   "outputs": [
    {
     "name": "stdout",
     "output_type": "stream",
     "text": [
      "CPU times: user 492 µs, sys: 61 µs, total: 553 µs\n",
      "Wall time: 580 µs\n"
     ]
    },
    {
     "data": {
      "text/plain": [
       "2"
      ]
     },
     "execution_count": 19,
     "metadata": {},
     "output_type": "execute_result"
    }
   ],
   "source": [
    "%%time\n",
    "sum([i[-1] for i in lca])"
   ]
  },
  {
   "cell_type": "code",
   "execution_count": 61,
   "id": "acef24a6-87cb-424c-b6f0-4b2c3cdccb35",
   "metadata": {},
   "outputs": [],
   "source": [
    "import itertools"
   ]
  },
  {
   "cell_type": "code",
   "execution_count": 65,
   "id": "aa3e6953-3f96-4732-9b5a-145534a74547",
   "metadata": {},
   "outputs": [
    {
     "ename": "StopIteration",
     "evalue": "",
     "output_type": "error",
     "traceback": [
      "\u001b[0;31m---------------------------------------------------------------------------\u001b[0m",
      "\u001b[0;31mStopIteration\u001b[0m                             Traceback (most recent call last)",
      "\u001b[0;32m<ipython-input-65-36f3bc92fe93>\u001b[0m in \u001b[0;36m<module>\u001b[0;34m\u001b[0m\n\u001b[0;32m----> 1\u001b[0;31m \u001b[0mnext\u001b[0m\u001b[0;34m(\u001b[0m\u001b[0mitertools\u001b[0m\u001b[0;34m.\u001b[0m\u001b[0mislice\u001b[0m\u001b[0;34m(\u001b[0m\u001b[0mlca\u001b[0m\u001b[0;34m,\u001b[0m\u001b[0;36m1\u001b[0m\u001b[0;34m)\u001b[0m\u001b[0;34m)\u001b[0m\u001b[0;34m\u001b[0m\u001b[0;34m\u001b[0m\u001b[0m\n\u001b[0m",
      "\u001b[0;31mStopIteration\u001b[0m: "
     ]
    }
   ],
   "source": [
    "next(itertools.islice(lca,1))"
   ]
  },
  {
   "cell_type": "code",
   "execution_count": 66,
   "id": "ea9f187c-c79d-4c21-a3d0-f9e5959280cb",
   "metadata": {},
   "outputs": [
    {
     "data": {
      "text/plain": [
       "True"
      ]
     },
     "execution_count": 66,
     "metadata": {},
     "output_type": "execute_result"
    }
   ],
   "source": [
    "nx.algorithms.is_tree(G)"
   ]
  },
  {
   "cell_type": "code",
   "execution_count": 71,
   "id": "e127ad0f-4ac1-4186-a1ce-715a050742fa",
   "metadata": {},
   "outputs": [
    {
     "data": {
      "text/plain": [
       "False"
      ]
     },
     "execution_count": 71,
     "metadata": {},
     "output_type": "execute_result"
    }
   ],
   "source": [
    "lca is None"
   ]
  },
  {
   "cell_type": "code",
   "execution_count": null,
   "id": "444fbbd6-7a3b-4274-a11b-abd463bfa775",
   "metadata": {},
   "outputs": [],
   "source": []
  }
 ],
 "metadata": {
  "kernelspec": {
   "display_name": "Python 3",
   "language": "python",
   "name": "python3"
  },
  "language_info": {
   "codemirror_mode": {
    "name": "ipython",
    "version": 3
   },
   "file_extension": ".py",
   "mimetype": "text/x-python",
   "name": "python",
   "nbconvert_exporter": "python",
   "pygments_lexer": "ipython3",
   "version": "3.7.3"
  }
 },
 "nbformat": 4,
 "nbformat_minor": 5
}
