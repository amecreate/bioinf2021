{
 "cells": [
  {
   "cell_type": "code",
   "execution_count": 1,
   "id": "11df17cc-326b-44c6-8c01-58909e0af413",
   "metadata": {},
   "outputs": [],
   "source": [
    "import  networkx as nx"
   ]
  },
  {
   "cell_type": "code",
   "execution_count": 2,
   "id": "87297844-ff54-4f22-8895-e390b56be34a",
   "metadata": {},
   "outputs": [],
   "source": [
    "G = nx.DiGraph()"
   ]
  },
  {
   "cell_type": "code",
   "execution_count": 3,
   "id": "1e04977a-125e-4353-bbbc-7c35c67661e3",
   "metadata": {},
   "outputs": [],
   "source": [
    "n = 10\n",
    "parents = [1, 1, 3, 3, 4, 4, 5, 5, 5]"
   ]
  },
  {
   "cell_type": "code",
   "execution_count": 4,
   "id": "b0394fd0-01b3-42d0-92a0-124b70464a16",
   "metadata": {},
   "outputs": [],
   "source": [
    "edges = []"
   ]
  },
  {
   "cell_type": "code",
   "execution_count": 5,
   "id": "34f17654-8452-40eb-a5c1-31a8ca1916d1",
   "metadata": {},
   "outputs": [],
   "source": [
    "for i,j in zip(parents,range(2,10+1)):\n",
    "    edges.append((i,j))"
   ]
  },
  {
   "cell_type": "code",
   "execution_count": 6,
   "id": "cfa54852-6864-4d90-8c3f-d6b08d79b9da",
   "metadata": {},
   "outputs": [
    {
     "data": {
      "text/plain": [
       "[(1, 2), (1, 3), (3, 4), (3, 5), (4, 6), (4, 7), (5, 8), (5, 9), (5, 10)]"
      ]
     },
     "execution_count": 6,
     "metadata": {},
     "output_type": "execute_result"
    }
   ],
   "source": [
    "edges"
   ]
  },
  {
   "cell_type": "code",
   "execution_count": 7,
   "id": "649f01e5-5109-4046-a753-cb970faa2914",
   "metadata": {},
   "outputs": [],
   "source": [
    "# initialize root\n",
    "G.add_node(1)"
   ]
  },
  {
   "cell_type": "code",
   "execution_count": 8,
   "id": "9e1eedc7-638f-4f90-bf1f-cf0a5b4c55bd",
   "metadata": {},
   "outputs": [],
   "source": [
    "# add parents\n",
    "G.add_edges_from(edges)"
   ]
  },
  {
   "cell_type": "code",
   "execution_count": 9,
   "id": "14935e9f-b7fa-4bee-9118-38269994da3c",
   "metadata": {},
   "outputs": [
    {
     "data": {
      "text/plain": [
       "OutEdgeView([(1, 2), (1, 3), (3, 4), (3, 5), (4, 6), (4, 7), (5, 8), (5, 9), (5, 10)])"
      ]
     },
     "execution_count": 9,
     "metadata": {},
     "output_type": "execute_result"
    }
   ],
   "source": [
    "G.edges"
   ]
  },
  {
   "cell_type": "code",
   "execution_count": 10,
   "id": "bdf10619-bd9a-4e3b-a08b-1f3e92c5905e",
   "metadata": {},
   "outputs": [],
   "source": [
    "import matplotlib.pyplot as plt"
   ]
  },
  {
   "cell_type": "code",
   "execution_count": 11,
   "id": "f47baca3-2b56-4ae2-be40-c25bdf47d17c",
   "metadata": {},
   "outputs": [
    {
     "data": {
      "image/png": "[encoded data removed]",
      "text/plain": [
       "<Figure size 432x288 with 1 Axes>"
      ]
     },
     "metadata": {},
     "output_type": "display_data"
    }
   ],
   "source": [
    "nx.draw_networkx(G)"
   ]
  },
  {
   "cell_type": "code",
   "execution_count": 56,
   "id": "15b019dd-9aaf-4e72-bff7-4fa139e87ffd",
   "metadata": {},
   "outputs": [
    {
     "name": "stdout",
     "output_type": "stream",
     "text": [
      "CPU times: user 1.92 ms, sys: 0 ns, total: 1.92 ms\n",
      "Wall time: 1.95 ms\n"
     ]
    },
    {
     "data": {
      "text/plain": [
       "1"
      ]
     },
     "execution_count": 56,
     "metadata": {},
     "output_type": "execute_result"
    }
   ],
   "source": [
    "%%time\n",
    "# Lowest Common Ancestor\n",
    "nx.algorithms.lowest_common_ancestor(G, 2, 5)"
   ]
  },
  {
   "cell_type": "code",
   "execution_count": 80,
   "id": "7a66a515-f2bc-4819-9a76-213bc51ca6f5",
   "metadata": {},
   "outputs": [
    {
     "name": "stdout",
     "output_type": "stream",
     "text": [
      "CPU times: user 1.9 ms, sys: 0 ns, total: 1.9 ms\n",
      "Wall time: 1.94 ms\n"
     ]
    },
    {
     "data": {
      "text/plain": [
       "<generator object all_pairs_lowest_common_ancestor.<locals>._compute_dag_lca_from_tree_values at 0xabd0c8f0>"
      ]
     },
     "execution_count": 80,
     "metadata": {},
     "output_type": "execute_result"
    }
   ],
   "source": [
    "%%time\n",
    "# Lowest Common Ancestor\n",
    "nx.algorithms.all_pairs_lowest_common_ancestor(G, pairs=[(2, 5)])"
   ]
  },
  {
   "cell_type": "code",
   "execution_count": null,
   "id": "5450fbc5-d041-4451-b009-e299aec27a1e",
   "metadata": {},
   "outputs": [],
   "source": []
  },
  {
   "cell_type": "code",
   "execution_count": 84,
   "id": "5840663f-0104-4fbf-91b3-c1b6fd9674ff",
   "metadata": {},
   "outputs": [
    {
     "name": "stdout",
     "output_type": "stream",
     "text": [
      "CPU times: user 42 µs, sys: 7 µs, total: 49 µs\n",
      "Wall time: 62.9 µs\n"
     ]
    }
   ],
   "source": [
    "%%time\n",
    "# Lowest Common Ancestor\n",
    "lca = nx.tree_all_pairs_lowest_common_ancestor(G, root=1, pairs=[(2,5)])"
   ]
  },
  {
   "cell_type": "code",
   "execution_count": 85,
   "id": "61941973-3f20-4daf-8f50-f83bcbea23b4",
   "metadata": {},
   "outputs": [
    {
     "data": {
      "text/plain": [
       "<generator object tree_all_pairs_lowest_common_ancestor at 0xa95d68b0>"
      ]
     },
     "execution_count": 85,
     "metadata": {},
     "output_type": "execute_result"
    }
   ],
   "source": [
    "lca"
   ]
  },
  {
   "cell_type": "code",
   "execution_count": 86,
   "id": "abd7033f-fabb-49d9-bdf3-88856af64a25",
   "metadata": {},
   "outputs": [
    {
     "data": {
      "text/plain": [
       "1"
      ]
     },
     "execution_count": 86,
     "metadata": {},
     "output_type": "execute_result"
    }
   ],
   "source": [
    "next(lca)[-1]"
   ]
  },
  {
   "cell_type": "code",
   "execution_count": 70,
   "id": "28a8fcec-609a-46c8-a320-a3d8c0f4b236",
   "metadata": {},
   "outputs": [
    {
     "data": {
      "text/plain": [
       "[]"
      ]
     },
     "execution_count": 70,
     "metadata": {},
     "output_type": "execute_result"
    }
   ],
   "source": [
    "list(lca)"
   ]
  },
  {
   "cell_type": "code",
   "execution_count": 60,
   "id": "f61d6340-bfd5-46eb-8d7b-7dc208b7f5d5",
   "metadata": {},
   "outputs": [
    {
     "ename": "TypeError",
     "evalue": "object of type 'generator' has no len()",
     "output_type": "error",
     "traceback": [
      "\u001b[0;31m---------------------------------------------------------------------------\u001b[0m",
      "\u001b[0;31mTypeError\u001b[0m                                 Traceback (most recent call last)",
      "\u001b[0;32m<ipython-input-60-e9154af0debd>\u001b[0m in \u001b[0;36m<module>\u001b[0;34m\u001b[0m\n\u001b[0;32m----> 1\u001b[0;31m \u001b[0mlen\u001b[0m\u001b[0;34m(\u001b[0m\u001b[0mlca\u001b[0m\u001b[0;34m)\u001b[0m\u001b[0;34m\u001b[0m\u001b[0;34m\u001b[0m\u001b[0m\n\u001b[0m",
      "\u001b[0;31mTypeError\u001b[0m: object of type 'generator' has no len()"
     ]
    }
   ],
   "source": []
  },
  {
   "cell_type": "code",
   "execution_count": 61,
   "id": "acef24a6-87cb-424c-b6f0-4b2c3cdccb35",
   "metadata": {},
   "outputs": [],
   "source": [
    "import itertools"
   ]
  },
  {
   "cell_type": "code",
   "execution_count": 65,
   "id": "aa3e6953-3f96-4732-9b5a-145534a74547",
   "metadata": {},
   "outputs": [
    {
     "ename": "StopIteration",
     "evalue": "",
     "output_type": "error",
     "traceback": [
      "\u001b[0;31m---------------------------------------------------------------------------\u001b[0m",
      "\u001b[0;31mStopIteration\u001b[0m                             Traceback (most recent call last)",
      "\u001b[0;32m<ipython-input-65-36f3bc92fe93>\u001b[0m in \u001b[0;36m<module>\u001b[0;34m\u001b[0m\n\u001b[0;32m----> 1\u001b[0;31m \u001b[0mnext\u001b[0m\u001b[0;34m(\u001b[0m\u001b[0mitertools\u001b[0m\u001b[0;34m.\u001b[0m\u001b[0mislice\u001b[0m\u001b[0;34m(\u001b[0m\u001b[0mlca\u001b[0m\u001b[0;34m,\u001b[0m\u001b[0;36m1\u001b[0m\u001b[0;34m)\u001b[0m\u001b[0;34m)\u001b[0m\u001b[0;34m\u001b[0m\u001b[0;34m\u001b[0m\u001b[0m\n\u001b[0m",
      "\u001b[0;31mStopIteration\u001b[0m: "
     ]
    }
   ],
   "source": [
    "next(itertools.islice(lca,1))"
   ]
  },
  {
   "cell_type": "code",
   "execution_count": 66,
   "id": "ea9f187c-c79d-4c21-a3d0-f9e5959280cb",
   "metadata": {},
   "outputs": [
    {
     "data": {
      "text/plain": [
       "True"
      ]
     },
     "execution_count": 66,
     "metadata": {},
     "output_type": "execute_result"
    }
   ],
   "source": [
    "nx.algorithms.is_tree(G)"
   ]
  },
  {
   "cell_type": "code",
   "execution_count": 71,
   "id": "e127ad0f-4ac1-4186-a1ce-715a050742fa",
   "metadata": {},
   "outputs": [
    {
     "data": {
      "text/plain": [
       "False"
      ]
     },
     "execution_count": 71,
     "metadata": {},
     "output_type": "execute_result"
    }
   ],
   "source": [
    "lca is None"
   ]
  },
  {
   "cell_type": "code",
   "execution_count": null,
   "id": "444fbbd6-7a3b-4274-a11b-abd463bfa775",
   "metadata": {},
   "outputs": [],
   "source": []
  }
 ],
 "metadata": {
  "kernelspec": {
   "display_name": "Python 3",
   "language": "python",
   "name": "python3"
  },
  "language_info": {
   "codemirror_mode": {
    "name": "ipython",
    "version": 3
   },
   "file_extension": ".py",
   "mimetype": "text/x-python",
   "name": "python",
   "nbconvert_exporter": "python",
   "pygments_lexer": "ipython3",
   "version": "3.7.3"
  }
 },
 "nbformat": 4,
 "nbformat_minor": 5
}
