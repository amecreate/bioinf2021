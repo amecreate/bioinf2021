{
 "cells": [
  {
   "cell_type": "markdown",
   "id": "5c4ea759-796a-455f-b91f-94dabc094356",
   "metadata": {},
   "source": [
    "# Import"
   ]
  },
  {
   "cell_type": "code",
   "execution_count": 1,
   "id": "733cafd2-65b0-4e11-a6a8-cfae095cdab8",
   "metadata": {},
   "outputs": [],
   "source": [
    "import networkx as nx"
   ]
  },
  {
   "cell_type": "code",
   "execution_count": 2,
   "id": "2811b9e6-0180-4749-a8c7-177994864f81",
   "metadata": {},
   "outputs": [],
   "source": [
    "from tqdm import tqdm"
   ]
  },
  {
   "cell_type": "code",
   "execution_count": 3,
   "id": "8735c976-3169-48bd-bd57-c02097f2b01d",
   "metadata": {},
   "outputs": [],
   "source": [
    "with open('4.txt') as f:\n",
    "    lines = f.readlines()"
   ]
  },
  {
   "cell_type": "markdown",
   "id": "34927a51-cf1e-4186-98ce-77ac5d6d0001",
   "metadata": {},
   "source": [
    "# Description of the data"
   ]
  },
  {
   "cell_type": "code",
   "execution_count": 4,
   "id": "2d9fb48b-25d0-4e67-b474-fe56687c5db8",
   "metadata": {},
   "outputs": [
    {
     "data": {
      "text/plain": [
       "1805"
      ]
     },
     "execution_count": 4,
     "metadata": {},
     "output_type": "execute_result"
    }
   ],
   "source": [
    "len(lines)"
   ]
  },
  {
   "cell_type": "code",
   "execution_count": 5,
   "id": "703b4701-0798-4a40-8f74-b3575855775a",
   "metadata": {},
   "outputs": [
    {
     "data": {
      "text/plain": [
       "'300000\\n'"
      ]
     },
     "execution_count": 5,
     "metadata": {},
     "output_type": "execute_result"
    }
   ],
   "source": [
    "lines[0] #the number of vertices in the phenotype tree"
   ]
  },
  {
   "cell_type": "code",
   "execution_count": 6,
   "id": "f8d54bd2-7be8-4e37-a5d8-348db3b9774b",
   "metadata": {},
   "outputs": [
    {
     "data": {
      "text/plain": [
       "300000"
      ]
     },
     "execution_count": 6,
     "metadata": {},
     "output_type": "execute_result"
    }
   ],
   "source": [
    "n = int(lines[0].rstrip())\n",
    "n"
   ]
  },
  {
   "cell_type": "code",
   "execution_count": 7,
   "id": "4fd552a4-1b2d-4625-b8ca-c15c91e22cb4",
   "metadata": {},
   "outputs": [
    {
     "data": {
      "text/plain": [
       "1944096"
      ]
     },
     "execution_count": 7,
     "metadata": {},
     "output_type": "execute_result"
    }
   ],
   "source": [
    "len(lines[1]) #the parent identifiers for the vertices"
   ]
  },
  {
   "cell_type": "code",
   "execution_count": 8,
   "id": "0d3964b8-d72b-4e49-b0e5-612e2f953681",
   "metadata": {},
   "outputs": [],
   "source": [
    "parents = [int(i) for i in lines[1].rstrip().split(' ')]"
   ]
  },
  {
   "cell_type": "code",
   "execution_count": 9,
   "id": "a4c53180-fe01-4978-982d-275949b00fc8",
   "metadata": {},
   "outputs": [
    {
     "data": {
      "text/plain": [
       "[1, 2, 3, 4, 5]"
      ]
     },
     "execution_count": 9,
     "metadata": {},
     "output_type": "execute_result"
    }
   ],
   "source": [
    "parents[:5]"
   ]
  },
  {
   "cell_type": "code",
   "execution_count": 10,
   "id": "ff509fa5-623c-4d09-8425-37c2a2bffb75",
   "metadata": {},
   "outputs": [
    {
     "data": {
      "text/plain": [
       "2667137"
      ]
     },
     "execution_count": 10,
     "metadata": {},
     "output_type": "execute_result"
    }
   ],
   "source": [
    "len(lines[2]) #information content values of the corresponding vertices"
   ]
  },
  {
   "cell_type": "code",
   "execution_count": 11,
   "id": "f5de2c01-a6e0-4174-a3ea-003c986edd01",
   "metadata": {},
   "outputs": [],
   "source": [
    "info = [int(i) for i in lines[2].rstrip().split(' ')]"
   ]
  },
  {
   "cell_type": "code",
   "execution_count": 12,
   "id": "4ed34678-30a5-4c3e-9cb1-076215a2247c",
   "metadata": {},
   "outputs": [
    {
     "data": {
      "text/plain": [
       "[873, 1859, 2740, 2846, 3242]"
      ]
     },
     "execution_count": 12,
     "metadata": {},
     "output_type": "execute_result"
    }
   ],
   "source": [
    "info[:5]"
   ]
  },
  {
   "cell_type": "code",
   "execution_count": 13,
   "id": "a24b7eb6-853a-4f86-acf3-58ed30e77f38",
   "metadata": {},
   "outputs": [
    {
     "data": {
      "text/plain": [
       "'900\\n'"
      ]
     },
     "execution_count": 13,
     "metadata": {},
     "output_type": "execute_result"
    }
   ],
   "source": [
    "lines[3] #the number of diseases"
   ]
  },
  {
   "cell_type": "code",
   "execution_count": 14,
   "id": "f48f0eb5-b082-49b1-81a7-ccbc4a4916bc",
   "metadata": {},
   "outputs": [
    {
     "data": {
      "text/plain": [
       "900"
      ]
     },
     "execution_count": 14,
     "metadata": {},
     "output_type": "execute_result"
    }
   ],
   "source": [
    "m = int(lines[3].rstrip())\n",
    "m"
   ]
  },
  {
   "cell_type": "code",
   "execution_count": 15,
   "id": "99886ff5-9a3c-47b9-87f8-f85223fe4bb2",
   "metadata": {},
   "outputs": [
    {
     "data": {
      "text/plain": [
       "900"
      ]
     },
     "execution_count": 15,
     "metadata": {},
     "output_type": "execute_result"
    }
   ],
   "source": [
    "len(lines[4:m+4]) #contain descriptions of diseases"
   ]
  },
  {
   "cell_type": "code",
   "execution_count": 16,
   "id": "387b766e-8396-4024-8b35-d97a76f56c4a",
   "metadata": {},
   "outputs": [
    {
     "data": {
      "text/plain": [
       "('99 147151 200473 281034 35166 285602 104697 128801 42177 298795 215954 163299 112845 93166 15267 95189 34002 221295 237903 282207 136581 75930 268125 139820 186208 147068 6585 243405 112415 186407 174738 112279 239108 24306 16986 14656 99539 187287 239145 140294 240887 90420 124698 249192 190331 104746 132429 296267 216306 78945 120419 44118 167600 25698 268293 30902 10287 209659 81182 108987 216715 238111 240636 292121 92134 202852 144371 88904 225317 97859 4506 112677 294832 138651 185131 118287 229942 223277 239175 225834 273127 158113 59120 82911 36984 278657 67918 259002 77507 274041 65867 245291 33156 80797 47255 30086 31581 262499 248260 191715\\n',\n",
       " '900\\n')"
      ]
     },
     "execution_count": 16,
     "metadata": {},
     "output_type": "execute_result"
    }
   ],
   "source": [
    "lines[4],lines[m+4]"
   ]
  },
  {
   "cell_type": "code",
   "execution_count": 17,
   "id": "63efe19b-14a0-4049-a50e-c4f1b65daa87",
   "metadata": {},
   "outputs": [],
   "source": [
    "desc_d = []\n",
    "for line in lines[4:m+4]:\n",
    "    desc_d.append([int(i) for i in line.rstrip().split(' ')])"
   ]
  },
  {
   "cell_type": "code",
   "execution_count": 18,
   "id": "e2c20cc7-f9ba-48dd-8c89-f17ff457fe8e",
   "metadata": {},
   "outputs": [
    {
     "data": {
      "text/plain": [
       "'900\\n'"
      ]
     },
     "execution_count": 18,
     "metadata": {},
     "output_type": "execute_result"
    }
   ],
   "source": [
    "lines[m+4] #the number of patients"
   ]
  },
  {
   "cell_type": "code",
   "execution_count": 19,
   "id": "fe222cde-18fb-4cfb-a9bc-3dcbd2e68c80",
   "metadata": {},
   "outputs": [
    {
     "data": {
      "text/plain": [
       "900"
      ]
     },
     "execution_count": 19,
     "metadata": {},
     "output_type": "execute_result"
    }
   ],
   "source": [
    "l = int(lines[m+4].rstrip())\n",
    "l"
   ]
  },
  {
   "cell_type": "code",
   "execution_count": 20,
   "id": "a5334db0-7651-4be4-a6f8-f54f5666ec37",
   "metadata": {},
   "outputs": [
    {
     "data": {
      "text/plain": [
       "'97 7990 124842 163431 159223 135464 296382 209474 256264 38707 150881 241970 283031 180150 247010 246327 66244 81237 191953 45145 71120 69241 27075 65473 187620 141422 218417 265277 176106 130660 108825 88031 279218 141359 105340 197407 121903 77863 285918 255605 110328 211049 160714 192512 88007 25363 269867 120609 192829 290348 265588 208256 109244 21306 39609 202918 195148 152746 42292 6978 62359 116523 274497 12869 246988 12467 97506 212421 125759 56825 268379 121917 35240 24057 212183 46508 180352 71476 225345 265554 172551 291405 288876 78678 262433 133964 16684 92738 203348 131775 52987 95205 171083 241844 122645 44304 227158 192449\\n'"
      ]
     },
     "execution_count": 20,
     "metadata": {},
     "output_type": "execute_result"
    }
   ],
   "source": [
    "lines[m+4+1]"
   ]
  },
  {
   "cell_type": "code",
   "execution_count": 21,
   "id": "81ba8e7c-90e3-4710-b948-1fa42b405f5a",
   "metadata": {},
   "outputs": [
    {
     "data": {
      "text/plain": [
       "900"
      ]
     },
     "execution_count": 21,
     "metadata": {},
     "output_type": "execute_result"
    }
   ],
   "source": [
    "len(lines[m+4+1:m+4+1+l]) #descriptions of patients"
   ]
  },
  {
   "cell_type": "code",
   "execution_count": 22,
   "id": "efa43de6-9adc-4f26-bbb0-275b88f26f28",
   "metadata": {},
   "outputs": [],
   "source": [
    "desc_p = []\n",
    "for line in lines[m+4+1:m+4+1+l]:\n",
    "    desc_p.append([int(i) for i in line.rstrip().split(' ')])"
   ]
  },
  {
   "cell_type": "code",
   "execution_count": 23,
   "id": "d2014339-e637-4fc8-a87f-1a08775a8fc8",
   "metadata": {},
   "outputs": [
    {
     "data": {
      "text/plain": [
       "'96 291418 2385 148274 181570 64489 70366 77146 187445 96943 101046 285323 163664 254250 230070 84870 164034 295388 215900 14126 296443 252491 17931 108 280432 136833 36170 47500 22138 253548 47717 70238 139415 70271 277323 188469 237064 100368 263342 155819 242578 86328 180774 133275 243197 196150 36910 241414 221816 130764 9542 102191 153779 287552 80975 290879 252835 8573 286770 205249 258433 217967 91129 206439 296939 195115 48405 30947 141186 289764 260758 199823 42411 184343 171542 217798 52782 205376 72783 24040 137050 48163 298848 164986 51487 100484 181964 44356 32402 2063 196410 101649 51053 188433 258134 55538 130572\\n'"
      ]
     },
     "execution_count": 23,
     "metadata": {},
     "output_type": "execute_result"
    }
   ],
   "source": [
    "lines[m+4+l]"
   ]
  },
  {
   "cell_type": "markdown",
   "id": "3a9c2409-d89f-475b-b0b3-e5f62733f41f",
   "metadata": {},
   "source": [
    "# Create Tree Structure"
   ]
  },
  {
   "cell_type": "markdown",
   "id": "fd50edb6-7be5-4247-8c98-bc9f240226e0",
   "metadata": {},
   "source": [
    "## Create Empty Graph Object"
   ]
  },
  {
   "cell_type": "code",
   "execution_count": 24,
   "id": "974af2e0-59ae-4713-9bfe-e5702a333cfc",
   "metadata": {},
   "outputs": [],
   "source": [
    "# create empty graph object\n",
    "# must use directed graph in order to use LCA algorithmn in NX\n",
    "G = nx.DiGraph()"
   ]
  },
  {
   "cell_type": "markdown",
   "id": "7d22d1d2-9072-4ce8-ba85-22b998361d30",
   "metadata": {},
   "source": [
    "## Create Tree"
   ]
  },
  {
   "cell_type": "code",
   "execution_count": 25,
   "id": "a755b3d5-1c5d-4bb7-a4b9-c7440d99bd40",
   "metadata": {},
   "outputs": [],
   "source": [
    "# initialize root\n",
    "G.add_node(1)"
   ]
  },
  {
   "cell_type": "code",
   "execution_count": 26,
   "id": "a0832f46-abb6-4e67-9f9d-b3c03c1c0c57",
   "metadata": {},
   "outputs": [
    {
     "name": "stdout",
     "output_type": "stream",
     "text": [
      "CPU times: user 280 ms, sys: 60.2 ms, total: 340 ms\n",
      "Wall time: 352 ms\n"
     ]
    }
   ],
   "source": [
    "%%time\n",
    "# create edges\n",
    "edges = []\n",
    "for i, j in zip(parents,range(2,n+1)):\n",
    "    edges.append((i,j))"
   ]
  },
  {
   "cell_type": "code",
   "execution_count": 27,
   "id": "f9c1a200-195d-496a-807b-06b7f325889f",
   "metadata": {},
   "outputs": [
    {
     "name": "stdout",
     "output_type": "stream",
     "text": [
      "CPU times: user 3.4 s, sys: 502 ms, total: 3.9 s\n",
      "Wall time: 3.91 s\n"
     ]
    }
   ],
   "source": [
    "%%time\n",
    "# create tree graph\n",
    "G.add_edges_from(edges)"
   ]
  },
  {
   "cell_type": "code",
   "execution_count": 28,
   "id": "985005a6-d600-48d0-be03-fae445d4d43d",
   "metadata": {},
   "outputs": [
    {
     "data": {
      "text/plain": [
       "22"
      ]
     },
     "execution_count": 28,
     "metadata": {},
     "output_type": "execute_result"
    }
   ],
   "source": [
    "import gc\n",
    "gc.collect()"
   ]
  },
  {
   "cell_type": "code",
   "execution_count": 66,
   "id": "3f8cbca9-5e85-488d-b395-74138fcea857",
   "metadata": {},
   "outputs": [
    {
     "name": "stdout",
     "output_type": "stream",
     "text": [
      "CPU times: user 5.2 ms, sys: 139 µs, total: 5.33 ms\n",
      "Wall time: 5 ms\n"
     ]
    }
   ],
   "source": [
    "%%time\n",
    "%%capture\n",
    "test_pair = product_list([desc_p[0][1:][3]],desc_d[0][1:])"
   ]
  },
  {
   "cell_type": "code",
   "execution_count": 54,
   "id": "ad506f13-4609-4e19-a815-d19b601057ef",
   "metadata": {},
   "outputs": [
    {
     "data": {
      "text/plain": [
       "99"
      ]
     },
     "execution_count": 54,
     "metadata": {},
     "output_type": "execute_result"
    }
   ],
   "source": [
    "len(test_pair)"
   ]
  },
  {
   "cell_type": "code",
   "execution_count": 67,
   "id": "53047f08-e7bc-4b84-8bd7-74df555fd8cc",
   "metadata": {},
   "outputs": [
    {
     "name": "stdout",
     "output_type": "stream",
     "text": [
      "CPU times: user 18 µs, sys: 0 ns, total: 18 µs\n",
      "Wall time: 31.7 µs\n"
     ]
    }
   ],
   "source": [
    "%%time\n",
    "lca = tree_all_pairs_lowest_common_ancestor(G, root=1, pairs=test_pair)"
   ]
  },
  {
   "cell_type": "code",
   "execution_count": 68,
   "id": "ed66f234-d990-4e1b-b248-be93ebe7d47c",
   "metadata": {},
   "outputs": [
    {
     "name": "stdout",
     "output_type": "stream",
     "text": [
      "CPU times: user 14 µs, sys: 0 ns, total: 14 µs\n",
      "Wall time: 29.6 µs\n"
     ]
    },
    {
     "data": {
      "text/plain": [
       "9140545"
      ]
     },
     "execution_count": 68,
     "metadata": {},
     "output_type": "execute_result"
    }
   ],
   "source": [
    "%time\n",
    "lca_l = list(lca)\n",
    "sum(lca_l)"
   ]
  },
  {
   "cell_type": "code",
   "execution_count": 65,
   "id": "400d0785-bab0-4527-8b74-efc1d9bd845c",
   "metadata": {},
   "outputs": [
    {
     "name": "stdout",
     "output_type": "stream",
     "text": [
      "CPU times: user 11.5 s, sys: 210 ms, total: 11.7 s\n",
      "Wall time: 11.7 s\n"
     ]
    },
    {
     "data": {
      "text/plain": [
       "9196205"
      ]
     },
     "execution_count": 65,
     "metadata": {},
     "output_type": "execute_result"
    }
   ],
   "source": [
    "%%time\n",
    "sum(lca)"
   ]
  },
  {
   "cell_type": "code",
   "execution_count": 107,
   "id": "db0e59c8-6239-4c74-afe6-24a19f9ad40c",
   "metadata": {},
   "outputs": [
    {
     "name": "stdout",
     "output_type": "stream",
     "text": [
      "CPU times: user 11.5 s, sys: 230 ms, total: 11.8 s\n",
      "Wall time: 11.8 s\n"
     ]
    },
    {
     "data": {
      "text/plain": [
       "7990"
      ]
     },
     "execution_count": 107,
     "metadata": {},
     "output_type": "execute_result"
    }
   ],
   "source": [
    "%%time\n",
    "max(lca)"
   ]
  },
  {
   "cell_type": "code",
   "execution_count": 97,
   "id": "62b80261-6e1c-4a5f-958d-22ae7c5dd42c",
   "metadata": {},
   "outputs": [
    {
     "name": "stdout",
     "output_type": "stream",
     "text": [
      "CPU times: user 10.7 s, sys: 270 ms, total: 11 s\n",
      "Wall time: 11 s\n"
     ]
    },
    {
     "data": {
      "text/plain": [
       "7990"
      ]
     },
     "execution_count": 97,
     "metadata": {},
     "output_type": "execute_result"
    }
   ],
   "source": [
    "%%time\n",
    "max([i[-1] for i in lca])"
   ]
  },
  {
   "cell_type": "code",
   "execution_count": 39,
   "id": "9afeb044-f395-4432-bd36-e31dd117a399",
   "metadata": {},
   "outputs": [
    {
     "name": "stdout",
     "output_type": "stream",
     "text": [
      "CPU times: user 6.64 ms, sys: 379 µs, total: 7.02 ms\n",
      "Wall time: 6.58 ms\n"
     ]
    }
   ],
   "source": [
    "%%time\n",
    "%%capture\n",
    "sum(lca_l)"
   ]
  },
  {
   "cell_type": "markdown",
   "id": "e4fe20ff-5074-4683-ba1a-9a449fc824db",
   "metadata": {},
   "source": [
    "# Task"
   ]
  },
  {
   "cell_type": "markdown",
   "id": "af097ba1-b604-44bb-9fc9-7b4b28d64c35",
   "metadata": {},
   "source": [
    "## IC dictionary"
   ]
  },
  {
   "cell_type": "code",
   "execution_count": 31,
   "id": "f2482168-7f33-487c-878a-3ac24e130ab7",
   "metadata": {},
   "outputs": [],
   "source": [
    "# create info dictionary\n",
    "infod = {}"
   ]
  },
  {
   "cell_type": "code",
   "execution_count": 32,
   "id": "5ae5111f-7381-42a2-8841-b78601a8d1a6",
   "metadata": {},
   "outputs": [
    {
     "name": "stdout",
     "output_type": "stream",
     "text": [
      "CPU times: user 41 ms, sys: 30.3 ms, total: 71.3 ms\n",
      "Wall time: 70.5 ms\n"
     ]
    }
   ],
   "source": [
    "%%time\n",
    "for i , j in enumerate(info):\n",
    "    infod[i+1] = j"
   ]
  },
  {
   "cell_type": "markdown",
   "id": "965de986-fe89-42f2-87bc-9b1d0994679f",
   "metadata": {},
   "source": [
    "# Other variables"
   ]
  },
  {
   "cell_type": "code",
   "execution_count": 41,
   "id": "c4eba3a4-1e7f-4d78-8b24-3e9e23ba3bd8",
   "metadata": {},
   "outputs": [],
   "source": [
    "# disease score\n",
    "d_scores = []\n",
    "# result output\n",
    "result = []\n",
    "# create score\n",
    "score = 0\n",
    "# create minimum\n",
    "maxim = 0"
   ]
  },
  {
   "cell_type": "code",
   "execution_count": 42,
   "id": "b62919cd-19bc-463d-add3-3c36c93aeef4",
   "metadata": {},
   "outputs": [
    {
     "data": {
      "text/plain": [
       "88"
      ]
     },
     "execution_count": 42,
     "metadata": {},
     "output_type": "execute_result"
    }
   ],
   "source": [
    "gc.collect()"
   ]
  },
  {
   "cell_type": "markdown",
   "id": "0d076a18-a5dc-42d4-a479-76e77b221b13",
   "metadata": {},
   "source": [
    "# Main code block"
   ]
  },
  {
   "cell_type": "code",
   "execution_count": 34,
   "id": "927d91ff-90ed-4cf7-82e2-bdea10b1bc4a",
   "metadata": {},
   "outputs": [],
   "source": [
    "# function generator to optimize loop\n",
    "def product(a, b):\n",
    "    for i in a:\n",
    "        for j in b:\n",
    "            yield i, j"
   ]
  },
  {
   "cell_type": "code",
   "execution_count": 30,
   "id": "2d168863-109a-4dd4-a88d-50acc5062730",
   "metadata": {},
   "outputs": [],
   "source": [
    "# function return a list of turple to use in LCA networkx\n",
    "def product_list(a,b):\n",
    "    result = []\n",
    "    for i in a:\n",
    "        for j in b:\n",
    "            result.append((i,j))\n",
    "    return result"
   ]
  },
  {
   "cell_type": "code",
   "execution_count": 49,
   "id": "5e2bc699-b6e3-45cc-9931-2c41d7cab184",
   "metadata": {
    "tags": []
   },
   "outputs": [],
   "source": [
    "\"\"\"Algorithms for finding the lowest common ancestor of trees and DAGs.\"\"\"\n",
    "from collections import defaultdict\n",
    "from collections.abc import Mapping, Set\n",
    "from itertools import chain, count\n",
    "\n",
    "import networkx as nx\n",
    "from networkx.utils import (\n",
    "    arbitrary_element,\n",
    "    not_implemented_for,\n",
    "    UnionFind,\n",
    "    generate_unique_node,\n",
    ")\n",
    "\n",
    "__all__ = [\n",
    "    \"all_pairs_lowest_common_ancestor\",\n",
    "    \"tree_all_pairs_lowest_common_ancestor\",\n",
    "    \"lowest_common_ancestor\",\n",
    "]\n",
    "\n",
    "\n",
    "#[docs]@not_implemented_for(\"undirected\")\n",
    "#@not_implemented_for(\"multigraph\")\n",
    "def tree_all_pairs_lowest_common_ancestor(G, root=None, pairs=None):\n",
    "    r\"\"\"Yield the lowest common ancestor for sets of pairs in a tree.\n",
    "\n",
    "    Parameters\n",
    "    ----------\n",
    "    G : NetworkX directed graph (must be a tree)\n",
    "\n",
    "    root : node, optional (default: None)\n",
    "        The root of the subtree to operate on.\n",
    "        If None, assume the entire graph has exactly one source and use that.\n",
    "\n",
    "    pairs : iterable or iterator of pairs of nodes, optional (default: None)\n",
    "        The pairs of interest. If None, Defaults to all pairs of nodes\n",
    "        under `root` that have a lowest common ancestor.\n",
    "\n",
    "    Returns\n",
    "    -------\n",
    "    lcas : generator of tuples `((u, v), lca)` where `u` and `v` are nodes\n",
    "        in `pairs` and `lca` is their lowest common ancestor.\n",
    "\n",
    "    Notes\n",
    "    -----\n",
    "    Only defined on non-null trees represented with directed edges from\n",
    "    parents to children. Uses Tarjan's off-line lowest-common-ancestors\n",
    "    algorithm. Runs in time $O(4 \\times (V + E + P))$ time, where 4 is the largest\n",
    "    value of the inverse Ackermann function likely to ever come up in actual\n",
    "    use, and $P$ is the number of pairs requested (or $V^2$ if all are needed).\n",
    "\n",
    "    Tarjan, R. E. (1979), \"Applications of path compression on balanced trees\",\n",
    "    Journal of the ACM 26 (4): 690-715, doi:10.1145/322154.322161.\n",
    "\n",
    "    See Also\n",
    "    --------\n",
    "    all_pairs_lowest_common_ancestor (similar routine for general DAGs)\n",
    "    lowest_common_ancestor           (just a single pair for general DAGs)\n",
    "    \"\"\"\n",
    "    if len(G) == 0:\n",
    "        raise nx.NetworkXPointlessConcept(\"LCA meaningless on null graphs.\")\n",
    "    elif None in G:\n",
    "        raise nx.NetworkXError(\"None is not a valid node.\")\n",
    "\n",
    "    # Index pairs of interest for efficient lookup from either side.\n",
    "    if pairs is not None:\n",
    "        pair_dict = defaultdict(set)\n",
    "        # See note on all_pairs_lowest_common_ancestor.\n",
    "        if not isinstance(pairs, (Mapping, Set)):\n",
    "            pairs = set(pairs)\n",
    "        for u, v in pairs:\n",
    "            for n in (u, v):\n",
    "                if n not in G:\n",
    "                    msg = f\"The node {str(n)} is not in the digraph.\"\n",
    "                    raise nx.NodeNotFound(msg)\n",
    "            pair_dict[u].add(v)\n",
    "            pair_dict[v].add(u)\n",
    "\n",
    "    # If root is not specified, find the exactly one node with in degree 0 and\n",
    "    # use it. Raise an error if none are found, or more than one is. Also check\n",
    "    # for any nodes with in degree larger than 1, which would imply G is not a\n",
    "    # tree.\n",
    "    if root is None:\n",
    "        for n, deg in G.in_degree:\n",
    "            if deg == 0:\n",
    "                if root is not None:\n",
    "                    msg = \"No root specified and tree has multiple sources.\"\n",
    "                    raise nx.NetworkXError(msg)\n",
    "                root = n\n",
    "            elif deg > 1:\n",
    "                msg = \"Tree LCA only defined on trees; use DAG routine.\"\n",
    "                raise nx.NetworkXError(msg)\n",
    "    if root is None:\n",
    "        raise nx.NetworkXError(\"Graph contains a cycle.\")\n",
    "\n",
    "    # Iterative implementation of Tarjan's offline lca algorithm\n",
    "    # as described in CLRS on page 521 (2nd edition)/page 584 (3rd edition)\n",
    "    uf = UnionFind()\n",
    "    ancestors = {}\n",
    "    for node in G:\n",
    "        ancestors[node] = uf[node]\n",
    "\n",
    "    colors = defaultdict(bool)\n",
    "    for node in nx.dfs_postorder_nodes(G, root):\n",
    "        colors[node] = True\n",
    "        for v in pair_dict[node] if pairs is not None else G:\n",
    "            if colors[v]:\n",
    "                # If the user requested both directions of a pair, give it.\n",
    "                # Otherwise, just give one.\n",
    "                if pairs is not None and (node, v) in pairs:\n",
    "                    yield ancestors[uf[v]]\n",
    "                if pairs is None or (v, node) in pairs:\n",
    "                    yield ancestors[uf[v]]\n",
    "        if node != root:\n",
    "            parent = arbitrary_element(G.pred[node])\n",
    "            uf.union(parent, node)\n",
    "            ancestors[uf[parent]] = parent"
   ]
  },
  {
   "cell_type": "code",
   "execution_count": null,
   "id": "9117f73e-fe7c-4ba0-a3be-974cbe077336",
   "metadata": {},
   "outputs": [
    {
     "name": "stderr",
     "output_type": "stream",
     "text": [
      "  0%|          | 0/900 [00:00<?, ?it/s]"
     ]
    }
   ],
   "source": [
    "%%time\n",
    "\n",
    "# SKIP IC calculation\n",
    "# Use generator\n",
    "# find a list of LCAs\n",
    "# cut off first two loops\n",
    "\n",
    "result= []\n",
    "\n",
    "# loop through patients\n",
    "for i in tqdm(desc_p):\n",
    "    d_scores = []\n",
    "    # loop through diseases\n",
    "    for j in desc_d:\n",
    "        score = 0\n",
    "        # loop through patient description\n",
    "        pair = product_list(i[1:], j[1:])\n",
    "        #print('pair length ', len(pair))\n",
    "        lca = tree_all_pairs_lowest_common_ancestor(G, root=1, pairs=pair)\n",
    "        #print('lca found')\n",
    "        #lca_l = list(lca)\n",
    "        #print('lca list completed.\\ncalculate score...')\n",
    "        score=sum(lca)\n",
    "        #print('sum function completed')\n",
    "        d_scores.append(score)\n",
    "        #print('d_score is ', d_scores)\n",
    "    disease = d_scores.index(max(d_scores)) +1\n",
    "    result.append(str(disease) + '\\n')"
   ]
  },
  {
   "cell_type": "code",
   "execution_count": 58,
   "id": "beeb8efc-489c-4d17-8e96-3d277a0a5b08",
   "metadata": {},
   "outputs": [
    {
     "name": "stderr",
     "output_type": "stream",
     "text": [
      "  0%|          | 0/900 [02:53<?, ?it/s]\n"
     ]
    },
    {
     "ename": "KeyboardInterrupt",
     "evalue": "",
     "output_type": "error",
     "traceback": [
      "\u001b[0;31m---------------------------------------------------------------------------\u001b[0m",
      "\u001b[0;31mKeyboardInterrupt\u001b[0m                         Traceback (most recent call last)",
      "\u001b[0;32m<timed exec>\u001b[0m in \u001b[0;36m<module>\u001b[0;34m\u001b[0m\n",
      "\u001b[0;32m<ipython-input-49-9af691dcdee4>\u001b[0m in \u001b[0;36mtree_all_pairs_lowest_common_ancestor\u001b[0;34m(G, root, pairs)\u001b[0m\n\u001b[1;32m    101\u001b[0m \u001b[0;34m\u001b[0m\u001b[0m\n\u001b[1;32m    102\u001b[0m     \u001b[0mcolors\u001b[0m \u001b[0;34m=\u001b[0m \u001b[0mdefaultdict\u001b[0m\u001b[0;34m(\u001b[0m\u001b[0mbool\u001b[0m\u001b[0;34m)\u001b[0m\u001b[0;34m\u001b[0m\u001b[0;34m\u001b[0m\u001b[0m\n\u001b[0;32m--> 103\u001b[0;31m     \u001b[0;32mfor\u001b[0m \u001b[0mnode\u001b[0m \u001b[0;32min\u001b[0m \u001b[0mnx\u001b[0m\u001b[0;34m.\u001b[0m\u001b[0mdfs_postorder_nodes\u001b[0m\u001b[0;34m(\u001b[0m\u001b[0mG\u001b[0m\u001b[0;34m,\u001b[0m \u001b[0mroot\u001b[0m\u001b[0;34m)\u001b[0m\u001b[0;34m:\u001b[0m\u001b[0;34m\u001b[0m\u001b[0;34m\u001b[0m\u001b[0m\n\u001b[0m\u001b[1;32m    104\u001b[0m         \u001b[0mcolors\u001b[0m\u001b[0;34m[\u001b[0m\u001b[0mnode\u001b[0m\u001b[0;34m]\u001b[0m \u001b[0;34m=\u001b[0m \u001b[0;32mTrue\u001b[0m\u001b[0;34m\u001b[0m\u001b[0;34m\u001b[0m\u001b[0m\n\u001b[1;32m    105\u001b[0m         \u001b[0;32mfor\u001b[0m \u001b[0mv\u001b[0m \u001b[0;32min\u001b[0m \u001b[0mpair_dict\u001b[0m\u001b[0;34m[\u001b[0m\u001b[0mnode\u001b[0m\u001b[0;34m]\u001b[0m \u001b[0;32mif\u001b[0m \u001b[0mpairs\u001b[0m \u001b[0;32mis\u001b[0m \u001b[0;32mnot\u001b[0m \u001b[0;32mNone\u001b[0m \u001b[0;32melse\u001b[0m \u001b[0mG\u001b[0m\u001b[0;34m:\u001b[0m\u001b[0;34m\u001b[0m\u001b[0;34m\u001b[0m\u001b[0m\n",
      "\u001b[0;32m/usr/local/lib/python3.7/dist-packages/networkx/algorithms/traversal/depth_first_search.py\u001b[0m in \u001b[0;36m<genexpr>\u001b[0;34m(.0)\u001b[0m\n\u001b[1;32m    288\u001b[0m     \"\"\"\n\u001b[1;32m    289\u001b[0m     \u001b[0medges\u001b[0m \u001b[0;34m=\u001b[0m \u001b[0mnx\u001b[0m\u001b[0;34m.\u001b[0m\u001b[0mdfs_labeled_edges\u001b[0m\u001b[0;34m(\u001b[0m\u001b[0mG\u001b[0m\u001b[0;34m,\u001b[0m \u001b[0msource\u001b[0m\u001b[0;34m=\u001b[0m\u001b[0msource\u001b[0m\u001b[0;34m,\u001b[0m \u001b[0mdepth_limit\u001b[0m\u001b[0;34m=\u001b[0m\u001b[0mdepth_limit\u001b[0m\u001b[0;34m)\u001b[0m\u001b[0;34m\u001b[0m\u001b[0;34m\u001b[0m\u001b[0m\n\u001b[0;32m--> 290\u001b[0;31m     \u001b[0;32mreturn\u001b[0m \u001b[0;34m(\u001b[0m\u001b[0mv\u001b[0m \u001b[0;32mfor\u001b[0m \u001b[0mu\u001b[0m\u001b[0;34m,\u001b[0m \u001b[0mv\u001b[0m\u001b[0;34m,\u001b[0m \u001b[0md\u001b[0m \u001b[0;32min\u001b[0m \u001b[0medges\u001b[0m \u001b[0;32mif\u001b[0m \u001b[0md\u001b[0m \u001b[0;34m==\u001b[0m \u001b[0;34m\"reverse\"\u001b[0m\u001b[0;34m)\u001b[0m\u001b[0;34m\u001b[0m\u001b[0;34m\u001b[0m\u001b[0m\n\u001b[0m\u001b[1;32m    291\u001b[0m \u001b[0;34m\u001b[0m\u001b[0m\n\u001b[1;32m    292\u001b[0m \u001b[0;34m\u001b[0m\u001b[0m\n",
      "\u001b[0;32m/usr/local/lib/python3.7/dist-packages/networkx/algorithms/traversal/depth_first_search.py\u001b[0m in \u001b[0;36mdfs_labeled_edges\u001b[0;34m(G, source, depth_limit)\u001b[0m\n\u001b[1;32m    432\u001b[0m                     \u001b[0mvisited\u001b[0m\u001b[0;34m.\u001b[0m\u001b[0madd\u001b[0m\u001b[0;34m(\u001b[0m\u001b[0mchild\u001b[0m\u001b[0;34m)\u001b[0m\u001b[0;34m\u001b[0m\u001b[0;34m\u001b[0m\u001b[0m\n\u001b[1;32m    433\u001b[0m                     \u001b[0;32mif\u001b[0m \u001b[0mdepth_now\u001b[0m \u001b[0;34m>\u001b[0m \u001b[0;36m1\u001b[0m\u001b[0;34m:\u001b[0m\u001b[0;34m\u001b[0m\u001b[0;34m\u001b[0m\u001b[0m\n\u001b[0;32m--> 434\u001b[0;31m                         \u001b[0mstack\u001b[0m\u001b[0;34m.\u001b[0m\u001b[0mappend\u001b[0m\u001b[0;34m(\u001b[0m\u001b[0;34m(\u001b[0m\u001b[0mchild\u001b[0m\u001b[0;34m,\u001b[0m \u001b[0mdepth_now\u001b[0m \u001b[0;34m-\u001b[0m \u001b[0;36m1\u001b[0m\u001b[0;34m,\u001b[0m \u001b[0miter\u001b[0m\u001b[0;34m(\u001b[0m\u001b[0mG\u001b[0m\u001b[0;34m[\u001b[0m\u001b[0mchild\u001b[0m\u001b[0;34m]\u001b[0m\u001b[0;34m)\u001b[0m\u001b[0;34m)\u001b[0m\u001b[0;34m)\u001b[0m\u001b[0;34m\u001b[0m\u001b[0;34m\u001b[0m\u001b[0m\n\u001b[0m\u001b[1;32m    435\u001b[0m             \u001b[0;32mexcept\u001b[0m \u001b[0mStopIteration\u001b[0m\u001b[0;34m:\u001b[0m\u001b[0;34m\u001b[0m\u001b[0;34m\u001b[0m\u001b[0m\n\u001b[1;32m    436\u001b[0m                 \u001b[0mstack\u001b[0m\u001b[0;34m.\u001b[0m\u001b[0mpop\u001b[0m\u001b[0;34m(\u001b[0m\u001b[0;34m)\u001b[0m\u001b[0;34m\u001b[0m\u001b[0;34m\u001b[0m\u001b[0m\n",
      "\u001b[0;31mKeyboardInterrupt\u001b[0m: "
     ]
    }
   ],
   "source": [
    "%%time\n",
    "\n",
    "# SKIP IC calculation\n",
    "# Use generator\n",
    "# find a list of LCAs\n",
    "# cut off first two loops\n",
    "\n",
    "result= []\n",
    "\n",
    "# loop through patients\n",
    "for i in tqdm(desc_p):\n",
    "    d_scores = []\n",
    "    # loop through diseases\n",
    "    for j in desc_d:\n",
    "        score = 0\n",
    "        # loop through patient description\n",
    "        for q in i[1:]:\n",
    "            pair = product_list([q], j[1:])\n",
    "            #print('pair length ', len(pair))\n",
    "            lca = tree_all_pairs_lowest_common_ancestor(G, root=1, pairs=pair)\n",
    "            #print('lca found')\n",
    "            lca_l = list(lca)\n",
    "            #print('lca completed.\\ncalculate score...')\n",
    "            score += max(lca_l)\n",
    "        d_scores.append(score)\n",
    "        #print('d_score is ', d_scores)\n",
    "    disease = d_scores.index(max(d_scores)) +1\n",
    "    result.append(str(disease) + '\\n')"
   ]
  },
  {
   "cell_type": "code",
   "execution_count": 38,
   "id": "cf24c337-c6b2-4fee-a0f2-d8248d73ed5f",
   "metadata": {},
   "outputs": [],
   "source": [
    "with open('result4.txt', 'w') as f:\n",
    "    f.writelines(result)"
   ]
  },
  {
   "cell_type": "code",
   "execution_count": 39,
   "id": "c86319df-20b2-4c6a-bb0e-c2b84c5854a1",
   "metadata": {},
   "outputs": [
    {
     "data": {
      "text/plain": [
       "0"
      ]
     },
     "execution_count": 39,
     "metadata": {},
     "output_type": "execute_result"
    }
   ],
   "source": [
    "len(result)"
   ]
  },
  {
   "cell_type": "markdown",
   "id": "1070b2e4-05d4-4532-bc8d-650f4bcf0f53",
   "metadata": {},
   "source": [
    "## still slow, sum of generator takes 10+s per loop, 10*900 = 150 mins\n",
    "\n",
    "## Try using networkx LCA find all LCAs, cut off first two loops\n",
    "\n",
    "## still slow, completely skip IC calculation, generator for d&p, optimized LCA algorithm from networkx\n",
    "\n",
    "## Still way too long with networkx, 9 mins+ for one patient, need optimization on loops, try product generator?**\n",
    "\n",
    "## Too Slow, use Networkx Package in Python instead of AnyTree"
   ]
  },
  {
   "cell_type": "code",
   "execution_count": null,
   "id": "71530a48-31fd-476d-9ad2-4026fe8fed52",
   "metadata": {},
   "outputs": [],
   "source": []
  }
 ],
 "metadata": {
  "kernelspec": {
   "display_name": "Python 3",
   "language": "python",
   "name": "python3"
  },
  "language_info": {
   "codemirror_mode": {
    "name": "ipython",
    "version": 3
   },
   "file_extension": ".py",
   "mimetype": "text/x-python",
   "name": "python",
   "nbconvert_exporter": "python",
   "pygments_lexer": "ipython3",
   "version": "3.7.3"
  }
 },
 "nbformat": 4,
 "nbformat_minor": 5
}
