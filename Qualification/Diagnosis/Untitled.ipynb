{
 "cells": [
  {
   "cell_type": "code",
   "execution_count": 1,
   "id": "e49df5c8-e1e6-4e67-9a42-c6efb3b525f6",
   "metadata": {},
   "outputs": [
    {
     "name": "stdout",
     "output_type": "stream",
     "text": [
      "CPU times: user 408 µs, sys: 80 µs, total: 488 µs\n",
      "Wall time: 512 µs\n"
     ]
    },
    {
     "data": {
      "text/plain": [
       "31201050"
      ]
     },
     "execution_count": 1,
     "metadata": {},
     "output_type": "execute_result"
    }
   ],
   "source": [
    "%%time\n",
    "sum(range(7900))"
   ]
  },
  {
   "cell_type": "code",
   "execution_count": 6,
   "id": "fcd0aa27-4347-4abb-9fef-f86d656c5479",
   "metadata": {},
   "outputs": [],
   "source": [
    "def gen(n):\n",
    "    for i in range(n):\n",
    "        yield i"
   ]
  },
  {
   "cell_type": "code",
   "execution_count": 7,
   "id": "a8ab2a5f-3434-465f-88f2-e41e694256ae",
   "metadata": {},
   "outputs": [
    {
     "data": {
      "text/plain": [
       "<generator object gen at 0xb3c44330>"
      ]
     },
     "execution_count": 7,
     "metadata": {},
     "output_type": "execute_result"
    }
   ],
   "source": [
    "gen(7900)"
   ]
  },
  {
   "cell_type": "code",
   "execution_count": 8,
   "id": "bd7395bd-8090-455a-b798-c707ba36c04b",
   "metadata": {},
   "outputs": [
    {
     "name": "stdout",
     "output_type": "stream",
     "text": [
      "CPU times: user 762 µs, sys: 163 µs, total: 925 µs\n",
      "Wall time: 953 µs\n"
     ]
    },
    {
     "data": {
      "text/plain": [
       "31201050"
      ]
     },
     "execution_count": 8,
     "metadata": {},
     "output_type": "execute_result"
    }
   ],
   "source": [
    "%%time\n",
    "sum(gen(7900))"
   ]
  },
  {
   "cell_type": "code",
   "execution_count": null,
   "id": "40a4b31b-2e2b-47c9-847c-2698e1c1f685",
   "metadata": {},
   "outputs": [],
   "source": []
  }
 ],
 "metadata": {
  "kernelspec": {
   "display_name": "Python 3",
   "language": "python",
   "name": "python3"
  },
  "language_info": {
   "codemirror_mode": {
    "name": "ipython",
    "version": 3
   },
   "file_extension": ".py",
   "mimetype": "text/x-python",
   "name": "python",
   "nbconvert_exporter": "python",
   "pygments_lexer": "ipython3",
   "version": "3.7.3"
  }
 },
 "nbformat": 4,
 "nbformat_minor": 5
}
