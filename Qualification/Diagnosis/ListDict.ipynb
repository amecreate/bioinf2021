{
 "cells": [
  {
   "cell_type": "markdown",
   "id": "294f3fb4-3077-49cf-ae2c-c032db6b4e35",
   "metadata": {},
   "source": [
    "# Use List and Dictionary to represent the tree data structure"
   ]
  },
  {
   "cell_type": "markdown",
   "id": "d6ee1f1d-1804-4fb3-bf87-3751e9ebd8e7",
   "metadata": {},
   "source": [
    "**Keys**\n",
    "\n",
    "1 - 10\n",
    "\n",
    "**Parent nodes for each key**\n",
    "\n",
    "1 1 3 3 4 4 5 5 5\n",
    "\n",
    "**Information content for each key (always in ascending order)**\n",
    "\n",
    "5 7 8 13 18 14 15 21 20 29"
   ]
  },
  {
   "cell_type": "code",
   "execution_count": 1,
   "id": "bb3f43d8-eacc-4f8a-98f5-6bf5f147983e",
   "metadata": {},
   "outputs": [],
   "source": [
    "n = 10"
   ]
  },
  {
   "cell_type": "code",
   "execution_count": 2,
   "id": "cbb5f852-c2d5-46ca-86aa-4f234085257c",
   "metadata": {},
   "outputs": [],
   "source": [
    "info = [5, 7, 8, 13, 18, 14, 15, 21, 20, 29]"
   ]
  },
  {
   "cell_type": "code",
   "execution_count": 3,
   "id": "055f81f1-b71f-4a93-8350-2a4c99f03135",
   "metadata": {},
   "outputs": [],
   "source": [
    "infod = dict()"
   ]
  },
  {
   "cell_type": "code",
   "execution_count": 5,
   "id": "980f3f3f-d77c-49c9-b847-9023b6e6a10d",
   "metadata": {},
   "outputs": [],
   "source": [
    "for i , j in enumerate(info):\n",
    "    infod[i+1] = j"
   ]
  },
  {
   "cell_type": "code",
   "execution_count": 7,
   "id": "9c5928d2-95ab-493d-abc3-b6f920a97269",
   "metadata": {},
   "outputs": [
    {
     "data": {
      "text/plain": [
       "{1: 5, 2: 7, 3: 8, 4: 13, 5: 18, 6: 14, 7: 15, 8: 21, 9: 20, 10: 29}"
      ]
     },
     "execution_count": 7,
     "metadata": {},
     "output_type": "execute_result"
    }
   ],
   "source": [
    "# connect information content with keys\n",
    "infod"
   ]
  },
  {
   "cell_type": "code",
   "execution_count": 9,
   "id": "9337917a-991a-48b2-81db-06dd72036354",
   "metadata": {},
   "outputs": [],
   "source": [
    "parents = [1, 1, 3, 3, 4, 4, 5, 5, 5]"
   ]
  },
  {
   "cell_type": "code",
   "execution_count": 40,
   "id": "333d8eb1-119e-4b29-a987-8fa18a9400fd",
   "metadata": {},
   "outputs": [],
   "source": [
    "tree = {1:5,}"
   ]
  },
  {
   "cell_type": "code",
   "execution_count": 22,
   "id": "25f58ac9-f5a7-45f5-b33f-0bc27163eabc",
   "metadata": {},
   "outputs": [
    {
     "data": {
      "text/plain": [
       "[3]"
      ]
     },
     "execution_count": 22,
     "metadata": {},
     "output_type": "execute_result"
    }
   ],
   "source": [
    "tree[2]"
   ]
  },
  {
   "cell_type": "code",
   "execution_count": 41,
   "id": "b1226b96-4ebe-4c7a-a09c-396679eb65d9",
   "metadata": {},
   "outputs": [
    {
     "ename": "TypeError",
     "evalue": "'NoneType' object is not iterable",
     "output_type": "error",
     "traceback": [
      "\u001b[0;31m---------------------------------------------------------------------------\u001b[0m",
      "\u001b[0;31mTypeError\u001b[0m                                 Traceback (most recent call last)",
      "\u001b[0;32m<ipython-input-41-61b71d6c5e48>\u001b[0m in \u001b[0;36m<module>\u001b[0;34m\u001b[0m\n\u001b[1;32m      1\u001b[0m \u001b[0;32mfor\u001b[0m \u001b[0mi\u001b[0m\u001b[0;34m,\u001b[0m \u001b[0mj\u001b[0m \u001b[0;32min\u001b[0m \u001b[0mzip\u001b[0m\u001b[0;34m(\u001b[0m\u001b[0mrange\u001b[0m\u001b[0;34m(\u001b[0m\u001b[0;36m2\u001b[0m\u001b[0;34m,\u001b[0m\u001b[0;36m10\u001b[0m\u001b[0;34m+\u001b[0m\u001b[0;36m1\u001b[0m\u001b[0;34m)\u001b[0m\u001b[0;34m,\u001b[0m \u001b[0mparents\u001b[0m\u001b[0;34m)\u001b[0m\u001b[0;34m:\u001b[0m\u001b[0;34m\u001b[0m\u001b[0;34m\u001b[0m\u001b[0m\n\u001b[0;32m----> 2\u001b[0;31m     \u001b[0;32mif\u001b[0m \u001b[0mfind_node\u001b[0m\u001b[0;34m(\u001b[0m\u001b[0mtree\u001b[0m\u001b[0;34m,\u001b[0m \u001b[0mj\u001b[0m\u001b[0;34m)\u001b[0m\u001b[0;34m:\u001b[0m\u001b[0;34m\u001b[0m\u001b[0;34m\u001b[0m\u001b[0m\n\u001b[0m\u001b[1;32m      3\u001b[0m         \u001b[0;32mif\u001b[0m \u001b[0mtree\u001b[0m\u001b[0;34m.\u001b[0m\u001b[0mget\u001b[0m\u001b[0;34m(\u001b[0m\u001b[0;34m'children'\u001b[0m\u001b[0;34m)\u001b[0m\u001b[0;34m:\u001b[0m\u001b[0;34m\u001b[0m\u001b[0;34m\u001b[0m\u001b[0m\n\u001b[1;32m      4\u001b[0m             \u001b[0mtree\u001b[0m\u001b[0;34m[\u001b[0m\u001b[0;34m'children'\u001b[0m\u001b[0;34m]\u001b[0m\u001b[0;34m.\u001b[0m\u001b[0mappend\u001b[0m\u001b[0;34m(\u001b[0m\u001b[0;34m{\u001b[0m\u001b[0mi\u001b[0m\u001b[0;34m:\u001b[0m\u001b[0minfod\u001b[0m\u001b[0;34m[\u001b[0m\u001b[0mi\u001b[0m\u001b[0;34m]\u001b[0m\u001b[0;34m}\u001b[0m\u001b[0;34m)\u001b[0m\u001b[0;34m\u001b[0m\u001b[0;34m\u001b[0m\u001b[0m\n\u001b[1;32m      5\u001b[0m         \u001b[0;32melse\u001b[0m\u001b[0;34m:\u001b[0m\u001b[0;34m\u001b[0m\u001b[0;34m\u001b[0m\u001b[0m\n",
      "\u001b[0;32m<ipython-input-38-79ee3b3ece2f>\u001b[0m in \u001b[0;36mfind_node\u001b[0;34m(dictionary, key)\u001b[0m\n\u001b[1;32m      4\u001b[0m     \u001b[0;32melse\u001b[0m\u001b[0;34m:\u001b[0m\u001b[0;34m\u001b[0m\u001b[0;34m\u001b[0m\u001b[0m\n\u001b[1;32m      5\u001b[0m         \u001b[0;32mfor\u001b[0m \u001b[0mi\u001b[0m \u001b[0;32min\u001b[0m \u001b[0mdictionary\u001b[0m\u001b[0;34m.\u001b[0m\u001b[0mget\u001b[0m\u001b[0;34m(\u001b[0m\u001b[0;34m'children'\u001b[0m\u001b[0;34m)\u001b[0m\u001b[0;34m:\u001b[0m\u001b[0;34m\u001b[0m\u001b[0;34m\u001b[0m\u001b[0m\n\u001b[0;32m----> 6\u001b[0;31m             \u001b[0mfind_node\u001b[0m\u001b[0;34m(\u001b[0m\u001b[0mi\u001b[0m\u001b[0;34m,\u001b[0m \u001b[0mkey\u001b[0m\u001b[0;34m)\u001b[0m\u001b[0;34m\u001b[0m\u001b[0;34m\u001b[0m\u001b[0m\n\u001b[0m",
      "\u001b[0;32m<ipython-input-38-79ee3b3ece2f>\u001b[0m in \u001b[0;36mfind_node\u001b[0;34m(dictionary, key)\u001b[0m\n\u001b[1;32m      3\u001b[0m         \u001b[0;32mreturn\u001b[0m \u001b[0mdictionary\u001b[0m\u001b[0;34m[\u001b[0m\u001b[0mkey\u001b[0m\u001b[0;34m]\u001b[0m\u001b[0;34m\u001b[0m\u001b[0;34m\u001b[0m\u001b[0m\n\u001b[1;32m      4\u001b[0m     \u001b[0;32melse\u001b[0m\u001b[0;34m:\u001b[0m\u001b[0;34m\u001b[0m\u001b[0;34m\u001b[0m\u001b[0m\n\u001b[0;32m----> 5\u001b[0;31m         \u001b[0;32mfor\u001b[0m \u001b[0mi\u001b[0m \u001b[0;32min\u001b[0m \u001b[0mdictionary\u001b[0m\u001b[0;34m.\u001b[0m\u001b[0mget\u001b[0m\u001b[0;34m(\u001b[0m\u001b[0;34m'children'\u001b[0m\u001b[0;34m)\u001b[0m\u001b[0;34m:\u001b[0m\u001b[0;34m\u001b[0m\u001b[0;34m\u001b[0m\u001b[0m\n\u001b[0m\u001b[1;32m      6\u001b[0m             \u001b[0mfind_node\u001b[0m\u001b[0;34m(\u001b[0m\u001b[0mi\u001b[0m\u001b[0;34m,\u001b[0m \u001b[0mkey\u001b[0m\u001b[0;34m)\u001b[0m\u001b[0;34m\u001b[0m\u001b[0;34m\u001b[0m\u001b[0m\n",
      "\u001b[0;31mTypeError\u001b[0m: 'NoneType' object is not iterable"
     ]
    }
   ],
   "source": [
    "for i, j in zip(range(2,10+1), parents):\n",
    "    if tree.get(j):\n",
    "        if tree.get('children'):\n",
    "            tree['children'].append({i:infod[i]})\n",
    "        else:\n",
    "            tree['children'] = [{i:infod[i]}]"
   ]
  },
  {
   "cell_type": "code",
   "execution_count": 77,
   "id": "dfb7aac5-25bd-4728-bb74-c00081688d19",
   "metadata": {},
   "outputs": [],
   "source": [
    "def find_node(dictionary, key):\n",
    "    if dictionary.get(key):\n",
    "        return dictionary\n",
    "    elif dictionary.get('children'):\n",
    "        for i in dictionary.get('children'):\n",
    "            return find_node(i, key)\n",
    "    else:\n",
    "        print(\"Not applicable\")"
   ]
  },
  {
   "cell_type": "code",
   "execution_count": 42,
   "id": "f9daeef3-64a3-477f-aa4f-6d7ffe9cf6e0",
   "metadata": {},
   "outputs": [
    {
     "name": "stdout",
     "output_type": "stream",
     "text": [
      "{2: 7}\n",
      "{3: 8}\n"
     ]
    }
   ],
   "source": [
    "for i in tree.get('children'):\n",
    "    print(i)"
   ]
  },
  {
   "cell_type": "code",
   "execution_count": 12,
   "id": "a1d4d1e8-ea8c-4e06-93cb-55f00c9a5fae",
   "metadata": {},
   "outputs": [
    {
     "data": {
      "text/plain": [
       "{1: [{2: []}, {3: []}]}"
      ]
     },
     "execution_count": 12,
     "metadata": {},
     "output_type": "execute_result"
    }
   ],
   "source": [
    "tree"
   ]
  },
  {
   "cell_type": "code",
   "execution_count": 54,
   "id": "1959a6bc-5234-40ef-a9d3-c9cde978a9a3",
   "metadata": {},
   "outputs": [],
   "source": [
    "data = {1:5, 'children':[{2:7, 'children':[{4:17}, {5:18}]},{3:10}]}"
   ]
  },
  {
   "cell_type": "code",
   "execution_count": 74,
   "id": "efc29087-53e3-433e-984f-b713b0e58ee1",
   "metadata": {},
   "outputs": [
    {
     "name": "stdout",
     "output_type": "stream",
     "text": [
      "7\n"
     ]
    }
   ],
   "source": [
    "for i in data.get('children'):\n",
    "    if i.get(2):\n",
    "        print(i.get(2))\n",
    "        break\n",
    "    else:\n",
    "        print(\"None\")"
   ]
  },
  {
   "cell_type": "code",
   "execution_count": 80,
   "id": "406f4c1b-0223-4750-8711-86ca5a47223c",
   "metadata": {},
   "outputs": [
    {
     "name": "stdout",
     "output_type": "stream",
     "text": [
      "Not applicable\n"
     ]
    }
   ],
   "source": [
    "find_node(data, 3)"
   ]
  },
  {
   "cell_type": "code",
   "execution_count": null,
   "id": "2a89c2b1-f92c-49e3-9b19-5ab9df56c860",
   "metadata": {},
   "outputs": [],
   "source": []
  }
 ],
 "metadata": {
  "kernelspec": {
   "display_name": "Python 3",
   "language": "python",
   "name": "python3"
  },
  "language_info": {
   "codemirror_mode": {
    "name": "ipython",
    "version": 3
   },
   "file_extension": ".py",
   "mimetype": "text/x-python",
   "name": "python",
   "nbconvert_exporter": "python",
   "pygments_lexer": "ipython3",
   "version": "3.7.3"
  }
 },
 "nbformat": 4,
 "nbformat_minor": 5
}
