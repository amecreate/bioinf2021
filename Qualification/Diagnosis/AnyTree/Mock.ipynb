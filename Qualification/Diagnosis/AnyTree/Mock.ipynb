{
 "cells": [
  {
   "cell_type": "code",
   "execution_count": 1,
   "id": "f726bf19-a1f9-4457-b973-c2bce1b1a641",
   "metadata": {},
   "outputs": [],
   "source": [
    "n = 10 #the number of vertices in the phenotype tree\n",
    "parents = [1, 1, 3, 3, 4, 4, 5, 5, 5] #the parent identifiers for the vertices\n",
    "info = [5, 7, 8, 13, 18, 14, 15, 21, 20, 29] #information content\n",
    "m = 2 #number of diseases\n",
    "desc_d = [[2, 4, 2],[1, 10]] #contain descriptions of diseases. Note first item is the no. of descrition\n",
    "l = 4 #number of patients\n",
    "desc_p = [[3, 5, 9, 8],[1, 6],[2, 7, 10],[1, 10]] #descriptions of patiens"
   ]
  },
  {
   "cell_type": "code",
   "execution_count": 2,
   "id": "1acef0a4-66fe-4bbb-b6e2-95a6014139d0",
   "metadata": {},
   "outputs": [],
   "source": [
    "from anytree import Node, RenderTree\n",
    "from anytree.util import commonancestors"
   ]
  },
  {
   "cell_type": "code",
   "execution_count": 3,
   "id": "fad65004-be07-4478-b085-c20d2a4cd65e",
   "metadata": {},
   "outputs": [],
   "source": [
    "root = Node(1)"
   ]
  },
  {
   "cell_type": "code",
   "execution_count": 4,
   "id": "4dd41e04-600b-4a0b-b46c-f2294ab7f148",
   "metadata": {},
   "outputs": [],
   "source": [
    "nodes = {}\n",
    "nodes[root.name] = root"
   ]
  },
  {
   "cell_type": "markdown",
   "id": "6cbaac24-6c3a-44b1-ac42-5c0d61a75620",
   "metadata": {},
   "source": [
    "## Create Tree"
   ]
  },
  {
   "cell_type": "code",
   "execution_count": 5,
   "id": "3594268f-0d95-41a8-8a95-4e49bceafeb7",
   "metadata": {},
   "outputs": [
    {
     "name": "stdout",
     "output_type": "stream",
     "text": [
      "CPU times: user 652 µs, sys: 106 µs, total: 758 µs\n",
      "Wall time: 817 µs\n"
     ]
    }
   ],
   "source": [
    "%%time\n",
    "\n",
    "for i, j in zip(range(2,n+1), parents):\n",
    "    name = i\n",
    "    nodes[name] = Node(name, parent=nodes[j])"
   ]
  },
  {
   "cell_type": "code",
   "execution_count": 6,
   "id": "c55204af-6216-4914-a1a4-de5ca3fa6977",
   "metadata": {},
   "outputs": [
    {
     "name": "stdout",
     "output_type": "stream",
     "text": [
      "1\n",
      "├── 2\n",
      "└── 3\n",
      "    ├── 4\n",
      "    │   ├── 6\n",
      "    │   └── 7\n",
      "    └── 5\n",
      "        ├── 8\n",
      "        ├── 9\n",
      "        └── 10\n"
     ]
    }
   ],
   "source": [
    "for pre, _, node in RenderTree(root):\n",
    "    print(\"%s%s\" % (pre, node.name))"
   ]
  },
  {
   "cell_type": "markdown",
   "id": "4889e392-5edd-44b7-8fc5-13923340fbaa",
   "metadata": {},
   "source": [
    "# Task"
   ]
  },
  {
   "cell_type": "markdown",
   "id": "28ac7915-c653-4492-b207-8fa68256a99d",
   "metadata": {},
   "source": [
    "1. for each patient, each disease, find their lowest common ancestor LCA(q,d)\n",
    "\n",
    "2. for each patient description for one patient, pair it with each disease description for one disease\n",
    "\n",
    "3. find the LCA of the pair\n",
    "\n",
    "4. find the max IC of the LCA\n",
    "\n",
    "5. do it for every patient description, sum up, this is the score of this disease\n",
    "\n",
    "6. repeat for another disease\n",
    "\n",
    "7. compair the disease scores, maximum score is the result disease\n",
    "\n"
   ]
  },
  {
   "cell_type": "code",
   "execution_count": 48,
   "id": "858c89ce-4166-483e-8a28-19e4a22a69e3",
   "metadata": {},
   "outputs": [],
   "source": [
    "def commonancestors(a, b):\n",
    "    if a.parent == b:\n",
    "        return b\n",
    "    elif b.parent == a:\n",
    "        return a\n",
    "    ancestors = [node.ancestors for node in [a,b]]\n",
    "    common = []\n",
    "    for parentnodes in zip(*ancestors): \n",
    "        parentnode = parentnodes[0]\n",
    "        if all([parentnode is p for p in parentnodes[1:]]):\n",
    "            common.append(parentnode)\n",
    "        else:\n",
    "            break\n",
    "    return tuple(common)"
   ]
  },
  {
   "cell_type": "code",
   "execution_count": 14,
   "id": "05528c46-f62a-48b0-be66-aa90fd674c3d",
   "metadata": {},
   "outputs": [],
   "source": [
    "# create info dictionary\n",
    "infod = {}"
   ]
  },
  {
   "cell_type": "code",
   "execution_count": 15,
   "id": "83bdb74f-125c-4e61-af97-a78bbb21639f",
   "metadata": {},
   "outputs": [],
   "source": [
    "for i , j in enumerate(info):\n",
    "    infod[i+1] = j"
   ]
  },
  {
   "cell_type": "code",
   "execution_count": 16,
   "id": "a63f583c-8ec6-448f-a32a-3285e2267038",
   "metadata": {},
   "outputs": [
    {
     "data": {
      "text/plain": [
       "{1: 5, 2: 7, 3: 8, 4: 13, 5: 18, 6: 14, 7: 15, 8: 21, 9: 20, 10: 29}"
      ]
     },
     "execution_count": 16,
     "metadata": {},
     "output_type": "execute_result"
    }
   ],
   "source": [
    "infod"
   ]
  },
  {
   "cell_type": "code",
   "execution_count": 80,
   "id": "3bf19298-8943-4dc1-8d8c-3c7cef64d8e2",
   "metadata": {},
   "outputs": [],
   "source": [
    "# disease score\n",
    "d_scores = []"
   ]
  },
  {
   "cell_type": "code",
   "execution_count": 74,
   "id": "f9999701-fc5c-490e-b8e7-39955b8fbfeb",
   "metadata": {},
   "outputs": [],
   "source": [
    "# result output\n",
    "result = []"
   ]
  },
  {
   "cell_type": "code",
   "execution_count": 39,
   "id": "998e20ba-cc3d-4a51-a448-7f4e5e08e0d1",
   "metadata": {},
   "outputs": [],
   "source": [
    "# create score\n",
    "score = 0"
   ]
  },
  {
   "cell_type": "code",
   "execution_count": 40,
   "id": "83e8f53e-831e-4447-afe4-0f2277b92f6d",
   "metadata": {},
   "outputs": [],
   "source": [
    "# create minimum\n",
    "maxim = 0"
   ]
  },
  {
   "cell_type": "code",
   "execution_count": 87,
   "id": "3a1a173a-6721-4e1e-a035-749f347b1d6a",
   "metadata": {},
   "outputs": [
    {
     "name": "stdout",
     "output_type": "stream",
     "text": [
      "5\n",
      "4\n",
      "LCA is : 3 8\n",
      "2\n",
      "LCA is : 1 5\n",
      "max score is :  8 8\n",
      "9\n",
      "4\n",
      "LCA is : 3 8\n",
      "2\n",
      "LCA is : 1 5\n",
      "max score is :  8 16\n",
      "8\n",
      "4\n",
      "LCA is : 3 8\n",
      "2\n",
      "LCA is : 1 5\n",
      "max score is :  8 24\n",
      "d_scores [24]\n",
      "5\n",
      "10\n",
      "LCA is : 5 18\n",
      "max score is :  18 18\n",
      "9\n",
      "10\n",
      "LCA is : 5 18\n",
      "max score is :  18 36\n",
      "8\n",
      "10\n",
      "LCA is : 5 18\n",
      "max score is :  18 54\n",
      "d_scores [24, 54]\n",
      "disease is : 2\n",
      "6\n",
      "4\n",
      "LCA is : 4 13\n",
      "2\n",
      "LCA is : 1 5\n",
      "max score is :  13 13\n",
      "d_scores [13]\n",
      "6\n",
      "10\n",
      "LCA is : 3 8\n",
      "max score is :  8 8\n",
      "d_scores [13, 8]\n",
      "disease is : 1\n",
      "7\n",
      "4\n",
      "LCA is : 4 13\n",
      "2\n",
      "LCA is : 1 5\n",
      "max score is :  13 13\n",
      "10\n",
      "4\n",
      "LCA is : 3 8\n",
      "2\n",
      "LCA is : 1 5\n",
      "max score is :  8 21\n",
      "d_scores [21]\n",
      "7\n",
      "10\n",
      "LCA is : 3 8\n",
      "max score is :  8 8\n",
      "10\n",
      "10\n",
      "LCA is : 5 18\n",
      "max score is :  18 26\n",
      "d_scores [21, 26]\n",
      "disease is : 2\n",
      "10\n",
      "4\n",
      "LCA is : 3 8\n",
      "2\n",
      "LCA is : 1 5\n",
      "max score is :  8 8\n",
      "d_scores [8]\n",
      "10\n",
      "10\n",
      "LCA is : 5 18\n",
      "max score is :  18 18\n",
      "d_scores [8, 18]\n",
      "disease is : 2\n"
     ]
    }
   ],
   "source": [
    "# loop through patients\n",
    "for i in range(1,l+1):\n",
    "    d_scores = []\n",
    "    # loop through diseases\n",
    "    for j in range(1, m+1):\n",
    "        score = 0\n",
    "        # loop through patient descriptions\n",
    "        # skip first item, which is no. of desc\n",
    "        for d in desc_p[i-1][1:]:\n",
    "            maxim = 0\n",
    "            print(d)\n",
    "            # loop through disease descriptions:\n",
    "            # skip first item, same reason as above\n",
    "            for q in desc_d[j-1][1:]:\n",
    "                print(q)\n",
    "                # find LCA(q,d)\n",
    "                anc = commonancestors(nodes[q],nodes[d])\n",
    "                # anytree LCA function tweak\n",
    "                try:\n",
    "                    if len(anc) > 1:\n",
    "                        key = anc[-1].name\n",
    "                    elif len(anc) == 1:\n",
    "                        key = anc[0].name\n",
    "                except TypeError as e:\n",
    "                    key = anc.name                        \n",
    "                info_ = infod[key]\n",
    "                print('LCA is :', key, info_)\n",
    "                # find max(IC(LCA(q,d)))\n",
    "                if info_ >= maxim:\n",
    "                    maxim = info_\n",
    "            score += maxim\n",
    "            print('max score is : ',maxim, score)\n",
    "        d_scores.append(score)\n",
    "        print('d_scores',d_scores)\n",
    "    disease = d_scores.index(max(d_scores)) +1\n",
    "    result.append(str(disease) + '\\n')\n",
    "    print('disease is :', disease)"
   ]
  },
  {
   "cell_type": "code",
   "execution_count": 88,
   "id": "b1014893-c3f3-4eb4-afd0-b7271c70fbfc",
   "metadata": {},
   "outputs": [
    {
     "data": {
      "text/plain": [
       "['2\\n', '1\\n', '2\\n', '2\\n']"
      ]
     },
     "execution_count": 88,
     "metadata": {},
     "output_type": "execute_result"
    }
   ],
   "source": [
    "result"
   ]
  },
  {
   "cell_type": "code",
   "execution_count": null,
   "id": "5445f49d-9526-428b-bac7-0cf81567e29e",
   "metadata": {},
   "outputs": [],
   "source": []
  }
 ],
 "metadata": {
  "kernelspec": {
   "display_name": "Python 3",
   "language": "python",
   "name": "python3"
  },
  "language_info": {
   "codemirror_mode": {
    "name": "ipython",
    "version": 3
   },
   "file_extension": ".py",
   "mimetype": "text/x-python",
   "name": "python",
   "nbconvert_exporter": "python",
   "pygments_lexer": "ipython3",
   "version": "3.7.3"
  }
 },
 "nbformat": 4,
 "nbformat_minor": 5
}
