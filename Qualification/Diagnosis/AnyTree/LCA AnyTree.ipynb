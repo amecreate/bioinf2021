{
 "cells": [
  {
   "cell_type": "code",
   "execution_count": 1,
   "id": "b07e52f8-d35b-4a8c-9b7b-7c4ffc5fcba4",
   "metadata": {},
   "outputs": [],
   "source": [
    "from anytree import Node, RenderTree"
   ]
  },
  {
   "cell_type": "code",
   "execution_count": 2,
   "id": "db17642c-8f26-4f51-afd2-cd5eda33d01b",
   "metadata": {},
   "outputs": [],
   "source": [
    "udo = Node(\"Udo\")\n",
    "marc = Node(\"Marc\", parent=udo)\n",
    "lian = Node(\"Lian\", parent=marc)\n",
    "dan = Node(\"Dan\", parent=udo)\n",
    "jet = Node(\"Jet\", parent=dan)\n",
    "jan = Node(\"Jan\", parent=dan)\n",
    "joe = Node(\"Joe\", parent=dan)\n",
    "mary = Node(\"Mary\")\n",
    "urs = Node(\"Urs\", parent=mary)\n",
    "chris = Node(\"Chris\", parent=mary)\n",
    "marta = Node(\"Marta\", parent=mary)\n",
    "udo.parent = mary"
   ]
  },
  {
   "cell_type": "code",
   "execution_count": 4,
   "id": "e09b2729-7d75-4d6d-b619-b4a91a5789d7",
   "metadata": {},
   "outputs": [
    {
     "name": "stdout",
     "output_type": "stream",
     "text": [
      "Node('/Mary')\n",
      "├── Node('/Mary/Urs')\n",
      "├── Node('/Mary/Chris')\n",
      "├── Node('/Mary/Marta')\n",
      "└── Node('/Mary/Udo')\n",
      "    ├── Node('/Mary/Udo/Marc')\n",
      "    │   └── Node('/Mary/Udo/Marc/Lian')\n",
      "    └── Node('/Mary/Udo/Dan')\n",
      "        ├── Node('/Mary/Udo/Dan/Jet')\n",
      "        ├── Node('/Mary/Udo/Dan/Jan')\n",
      "        └── Node('/Mary/Udo/Dan/Joe')\n"
     ]
    }
   ],
   "source": [
    "print(RenderTree(mary))"
   ]
  },
  {
   "cell_type": "code",
   "execution_count": 19,
   "id": "99b6205b-3220-44b2-a400-782651f87f0b",
   "metadata": {},
   "outputs": [],
   "source": [
    "def commonancestors(a, b):\n",
    "    if a.parent == b:\n",
    "        return b\n",
    "    elif b.parent == a:\n",
    "        return a\n",
    "    ancestors = [node.ancestors for node in [a,b]]\n",
    "    print(ancestors)\n",
    "    common = []\n",
    "    for parentnodes in zip(*ancestors): #zip() cut off the tail\n",
    "        parentnode = parentnodes[0]\n",
    "        print('parentnode', parentnode)\n",
    "        if all([parentnode is p for p in parentnodes[1:]]):\n",
    "            common.append(parentnode)\n",
    "        else:\n",
    "            break\n",
    "    return tuple(common)"
   ]
  },
  {
   "cell_type": "code",
   "execution_count": 20,
   "id": "2c7caf5d-690c-4698-abbe-b2dfcd3017e6",
   "metadata": {},
   "outputs": [
    {
     "data": {
      "text/plain": [
       "Node('/Mary/Udo/Marc')"
      ]
     },
     "execution_count": 20,
     "metadata": {},
     "output_type": "execute_result"
    }
   ],
   "source": [
    "commonancestors(marc, lian)"
   ]
  },
  {
   "cell_type": "code",
   "execution_count": 18,
   "id": "6a5b5174-229f-4877-9d3a-ee7992b82b9d",
   "metadata": {},
   "outputs": [
    {
     "data": {
      "text/plain": [
       "True"
      ]
     },
     "execution_count": 18,
     "metadata": {},
     "output_type": "execute_result"
    }
   ],
   "source": [
    "lian.parent == marc"
   ]
  },
  {
   "cell_type": "code",
   "execution_count": null,
   "id": "dac9e24c-f8ad-43e7-8a6c-3b7cd9ab53c0",
   "metadata": {},
   "outputs": [],
   "source": []
  }
 ],
 "metadata": {
  "kernelspec": {
   "display_name": "Python 3",
   "language": "python",
   "name": "python3"
  },
  "language_info": {
   "codemirror_mode": {
    "name": "ipython",
    "version": 3
   },
   "file_extension": ".py",
   "mimetype": "text/x-python",
   "name": "python",
   "nbconvert_exporter": "python",
   "pygments_lexer": "ipython3",
   "version": "3.7.3"
  }
 },
 "nbformat": 4,
 "nbformat_minor": 5
}
