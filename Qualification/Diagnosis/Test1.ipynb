{
 "cells": [
  {
   "cell_type": "markdown",
   "id": "5c4ea759-796a-455f-b91f-94dabc094356",
   "metadata": {},
   "source": [
    "# Import"
   ]
  },
  {
   "cell_type": "code",
   "execution_count": 1,
   "id": "733cafd2-65b0-4e11-a6a8-cfae095cdab8",
   "metadata": {},
   "outputs": [],
   "source": [
    "from anytree import Node"
   ]
  },
  {
   "cell_type": "code",
   "execution_count": 2,
   "id": "8735c976-3169-48bd-bd57-c02097f2b01d",
   "metadata": {},
   "outputs": [],
   "source": [
    "with open('1.txt') as f:\n",
    "    lines = f.readlines()"
   ]
  },
  {
   "cell_type": "markdown",
   "id": "34927a51-cf1e-4186-98ce-77ac5d6d0001",
   "metadata": {},
   "source": [
    "# Description of the data"
   ]
  },
  {
   "cell_type": "code",
   "execution_count": 3,
   "id": "2d9fb48b-25d0-4e67-b474-fe56687c5db8",
   "metadata": {},
   "outputs": [
    {
     "data": {
      "text/plain": [
       "10005"
      ]
     },
     "execution_count": 3,
     "metadata": {},
     "output_type": "execute_result"
    }
   ],
   "source": [
    "len(lines)"
   ]
  },
  {
   "cell_type": "code",
   "execution_count": 4,
   "id": "703b4701-0798-4a40-8f74-b3575855775a",
   "metadata": {},
   "outputs": [
    {
     "data": {
      "text/plain": [
       "'19830\\n'"
      ]
     },
     "execution_count": 4,
     "metadata": {},
     "output_type": "execute_result"
    }
   ],
   "source": [
    "lines[0] #the number of vertices in the phenotype tree"
   ]
  },
  {
   "cell_type": "code",
   "execution_count": 5,
   "id": "f8d54bd2-7be8-4e37-a5d8-348db3b9774b",
   "metadata": {},
   "outputs": [
    {
     "data": {
      "text/plain": [
       "19830"
      ]
     },
     "execution_count": 5,
     "metadata": {},
     "output_type": "execute_result"
    }
   ],
   "source": [
    "n = int(lines[0].rstrip())\n",
    "n"
   ]
  },
  {
   "cell_type": "code",
   "execution_count": 6,
   "id": "4fd552a4-1b2d-4625-b8ca-c15c91e22cb4",
   "metadata": {},
   "outputs": [
    {
     "data": {
      "text/plain": [
       "84052"
      ]
     },
     "execution_count": 6,
     "metadata": {},
     "output_type": "execute_result"
    }
   ],
   "source": [
    "len(lines[1]) #the parent identifiers for the vertices"
   ]
  },
  {
   "cell_type": "code",
   "execution_count": 7,
   "id": "0d3964b8-d72b-4e49-b0e5-612e2f953681",
   "metadata": {},
   "outputs": [],
   "source": [
    "parents = [int(i) for i in lines[1].rstrip().split(' ')]"
   ]
  },
  {
   "cell_type": "code",
   "execution_count": 8,
   "id": "a4c53180-fe01-4978-982d-275949b00fc8",
   "metadata": {},
   "outputs": [
    {
     "data": {
      "text/plain": [
       "[1, 1, 1, 1, 1]"
      ]
     },
     "execution_count": 8,
     "metadata": {},
     "output_type": "execute_result"
    }
   ],
   "source": [
    "parents[:5]"
   ]
  },
  {
   "cell_type": "code",
   "execution_count": 9,
   "id": "ff509fa5-623c-4d09-8425-37c2a2bffb75",
   "metadata": {},
   "outputs": [
    {
     "data": {
      "text/plain": [
       "78220"
      ]
     },
     "execution_count": 9,
     "metadata": {},
     "output_type": "execute_result"
    }
   ],
   "source": [
    "len(lines[2]) #information content values of the corresponding vertices"
   ]
  },
  {
   "cell_type": "code",
   "execution_count": 10,
   "id": "f5de2c01-a6e0-4174-a3ea-003c986edd01",
   "metadata": {},
   "outputs": [],
   "source": [
    "info = [int(i) for i in lines[2].rstrip().split(' ')]"
   ]
  },
  {
   "cell_type": "code",
   "execution_count": 11,
   "id": "4ed34678-30a5-4c3e-9cb1-076215a2247c",
   "metadata": {},
   "outputs": [
    {
     "data": {
      "text/plain": [
       "[80, 119, 98, 108, 131]"
      ]
     },
     "execution_count": 11,
     "metadata": {},
     "output_type": "execute_result"
    }
   ],
   "source": [
    "info[:5]"
   ]
  },
  {
   "cell_type": "code",
   "execution_count": 12,
   "id": "a24b7eb6-853a-4f86-acf3-58ed30e77f38",
   "metadata": {},
   "outputs": [
    {
     "data": {
      "text/plain": [
       "'5000\\n'"
      ]
     },
     "execution_count": 12,
     "metadata": {},
     "output_type": "execute_result"
    }
   ],
   "source": [
    "lines[3] #the number of diseases"
   ]
  },
  {
   "cell_type": "code",
   "execution_count": 13,
   "id": "f48f0eb5-b082-49b1-81a7-ccbc4a4916bc",
   "metadata": {},
   "outputs": [
    {
     "data": {
      "text/plain": [
       "5000"
      ]
     },
     "execution_count": 13,
     "metadata": {},
     "output_type": "execute_result"
    }
   ],
   "source": [
    "m = int(lines[3].rstrip())\n",
    "m"
   ]
  },
  {
   "cell_type": "code",
   "execution_count": 14,
   "id": "99886ff5-9a3c-47b9-87f8-f85223fe4bb2",
   "metadata": {},
   "outputs": [
    {
     "data": {
      "text/plain": [
       "5000"
      ]
     },
     "execution_count": 14,
     "metadata": {},
     "output_type": "execute_result"
    }
   ],
   "source": [
    "len(lines[4:5004]) #contain descriptions of diseases"
   ]
  },
  {
   "cell_type": "code",
   "execution_count": 15,
   "id": "63efe19b-14a0-4049-a50e-c4f1b65daa87",
   "metadata": {},
   "outputs": [],
   "source": [
    "desc_d = []\n",
    "for line in lines[4:5004]:\n",
    "    desc_d.append([int(i) for i in line.rstrip().split(' ')])"
   ]
  },
  {
   "cell_type": "code",
   "execution_count": 16,
   "id": "c10b9168-3d72-4bfb-bd57-a780e60c3246",
   "metadata": {},
   "outputs": [
    {
     "data": {
      "text/plain": [
       "[[3, 2915, 5421, 7077], [2, 2067, 2500]]"
      ]
     },
     "execution_count": 16,
     "metadata": {},
     "output_type": "execute_result"
    }
   ],
   "source": [
    "desc_d[:2]"
   ]
  },
  {
   "cell_type": "code",
   "execution_count": 17,
   "id": "e2c20cc7-f9ba-48dd-8c89-f17ff457fe8e",
   "metadata": {},
   "outputs": [
    {
     "data": {
      "text/plain": [
       "'5000\\n'"
      ]
     },
     "execution_count": 17,
     "metadata": {},
     "output_type": "execute_result"
    }
   ],
   "source": [
    "lines[5004] #the number of patients"
   ]
  },
  {
   "cell_type": "code",
   "execution_count": 18,
   "id": "fe222cde-18fb-4cfb-a9bc-3dcbd2e68c80",
   "metadata": {},
   "outputs": [
    {
     "data": {
      "text/plain": [
       "5000"
      ]
     },
     "execution_count": 18,
     "metadata": {},
     "output_type": "execute_result"
    }
   ],
   "source": [
    "l = int(lines[5004].rstrip())\n",
    "l"
   ]
  },
  {
   "cell_type": "code",
   "execution_count": 19,
   "id": "81ba8e7c-90e3-4710-b948-1fa42b405f5a",
   "metadata": {},
   "outputs": [
    {
     "data": {
      "text/plain": [
       "5000"
      ]
     },
     "execution_count": 19,
     "metadata": {},
     "output_type": "execute_result"
    }
   ],
   "source": [
    "len(lines[5005:10005]) #descriptions of patients"
   ]
  },
  {
   "cell_type": "code",
   "execution_count": 20,
   "id": "efa43de6-9adc-4f26-bbb0-275b88f26f28",
   "metadata": {},
   "outputs": [],
   "source": [
    "desc_p = []\n",
    "for line in lines[5005:10005]:\n",
    "    desc_p.append([int(i) for i in line.rstrip().split(' ')])"
   ]
  },
  {
   "cell_type": "code",
   "execution_count": 21,
   "id": "0d35de21-e188-4871-953c-0a5542e79c88",
   "metadata": {},
   "outputs": [
    {
     "data": {
      "text/plain": [
       "[[2, 17474, 18858], [1, 18889], [3, 12673, 15214, 18886]]"
      ]
     },
     "execution_count": 21,
     "metadata": {},
     "output_type": "execute_result"
    }
   ],
   "source": [
    "desc_p[:3]"
   ]
  },
  {
   "cell_type": "code",
   "execution_count": 22,
   "id": "d2014339-e637-4fc8-a87f-1a08775a8fc8",
   "metadata": {},
   "outputs": [
    {
     "data": {
      "text/plain": [
       "'2 12093 16024\\n'"
      ]
     },
     "execution_count": 22,
     "metadata": {},
     "output_type": "execute_result"
    }
   ],
   "source": [
    "lines[10004]"
   ]
  },
  {
   "cell_type": "markdown",
   "id": "3a9c2409-d89f-475b-b0b3-e5f62733f41f",
   "metadata": {},
   "source": [
    "# Create Tree Structure"
   ]
  },
  {
   "cell_type": "markdown",
   "id": "fd50edb6-7be5-4247-8c98-bc9f240226e0",
   "metadata": {},
   "source": [
    "## Initiate root"
   ]
  },
  {
   "cell_type": "code",
   "execution_count": 23,
   "id": "974af2e0-59ae-4713-9bfe-e5702a333cfc",
   "metadata": {},
   "outputs": [],
   "source": [
    "root = Node(1)"
   ]
  },
  {
   "cell_type": "code",
   "execution_count": 24,
   "id": "017eb464-c1b4-41aa-89db-be757018135f",
   "metadata": {},
   "outputs": [],
   "source": [
    "nodes = {}\n",
    "nodes[root.name] = root"
   ]
  },
  {
   "cell_type": "markdown",
   "id": "7d22d1d2-9072-4ce8-ba85-22b998361d30",
   "metadata": {},
   "source": [
    "## Create Tree"
   ]
  },
  {
   "cell_type": "code",
   "execution_count": 25,
   "id": "a0832f46-abb6-4e67-9f9d-b3c03c1c0c57",
   "metadata": {},
   "outputs": [
    {
     "name": "stdout",
     "output_type": "stream",
     "text": [
      "CPU times: user 2.07 s, sys: 8.56 ms, total: 2.08 s\n",
      "Wall time: 2.08 s\n"
     ]
    }
   ],
   "source": [
    "%%time\n",
    "\n",
    "for i, j in zip(range(2,n+1), parents):\n",
    "    name = i\n",
    "    nodes[name] = Node(name, parent=nodes[j])"
   ]
  },
  {
   "cell_type": "code",
   "execution_count": 26,
   "id": "985005a6-d600-48d0-be03-fae445d4d43d",
   "metadata": {},
   "outputs": [
    {
     "data": {
      "text/plain": [
       "59"
      ]
     },
     "execution_count": 26,
     "metadata": {},
     "output_type": "execute_result"
    }
   ],
   "source": [
    "import gc\n",
    "gc.collect()"
   ]
  },
  {
   "cell_type": "markdown",
   "id": "e4fe20ff-5074-4683-ba1a-9a449fc824db",
   "metadata": {},
   "source": [
    "# Task"
   ]
  },
  {
   "cell_type": "markdown",
   "id": "f57f6529-7561-42e6-bf0e-8ab028ef541d",
   "metadata": {},
   "source": [
    "## Function to find LCA"
   ]
  },
  {
   "cell_type": "code",
   "execution_count": 27,
   "id": "6d5ed2e5-e396-47de-aacf-c4f65c81dece",
   "metadata": {},
   "outputs": [],
   "source": [
    "def commonancestors(a, b):\n",
    "    if a.parent == b:\n",
    "        return b\n",
    "    elif b.parent == a:\n",
    "        return a\n",
    "    ancestors = [node.ancestors for node in [a,b]]\n",
    "    common = []\n",
    "    for parentnodes in zip(*ancestors): \n",
    "        parentnode = parentnodes[0]\n",
    "        if all([parentnode is p for p in parentnodes[1:]]):\n",
    "            common.append(parentnode)\n",
    "        else:\n",
    "            break\n",
    "    return tuple(common)"
   ]
  },
  {
   "cell_type": "markdown",
   "id": "af097ba1-b604-44bb-9fc9-7b4b28d64c35",
   "metadata": {},
   "source": [
    "## IC dictionary"
   ]
  },
  {
   "cell_type": "code",
   "execution_count": 28,
   "id": "f2482168-7f33-487c-878a-3ac24e130ab7",
   "metadata": {},
   "outputs": [],
   "source": [
    "# create info dictionary\n",
    "infod = {}"
   ]
  },
  {
   "cell_type": "code",
   "execution_count": 29,
   "id": "5ae5111f-7381-42a2-8841-b78601a8d1a6",
   "metadata": {},
   "outputs": [],
   "source": [
    "for i , j in enumerate(info):\n",
    "    infod[i+1] = j"
   ]
  },
  {
   "cell_type": "markdown",
   "id": "965de986-fe89-42f2-87bc-9b1d0994679f",
   "metadata": {},
   "source": [
    "# Other variables"
   ]
  },
  {
   "cell_type": "code",
   "execution_count": 38,
   "id": "c4eba3a4-1e7f-4d78-8b24-3e9e23ba3bd8",
   "metadata": {},
   "outputs": [],
   "source": [
    "# disease score\n",
    "d_scores = []"
   ]
  },
  {
   "cell_type": "code",
   "execution_count": 39,
   "id": "aadf1fef-fe16-4a33-a0af-ef3926c9b0e8",
   "metadata": {},
   "outputs": [],
   "source": [
    "# result output\n",
    "result = []"
   ]
  },
  {
   "cell_type": "code",
   "execution_count": 40,
   "id": "f6cb371d-ca96-47f1-884f-aac373723d28",
   "metadata": {},
   "outputs": [],
   "source": [
    "# create score\n",
    "score = 0"
   ]
  },
  {
   "cell_type": "code",
   "execution_count": 41,
   "id": "59e1c2eb-de3b-41f0-a8be-71710975380b",
   "metadata": {},
   "outputs": [],
   "source": [
    "# create minimum\n",
    "maxim = 0"
   ]
  },
  {
   "cell_type": "markdown",
   "id": "0d076a18-a5dc-42d4-a479-76e77b221b13",
   "metadata": {},
   "source": [
    "# Main code block"
   ]
  },
  {
   "cell_type": "code",
   "execution_count": 42,
   "id": "27430f15-416f-426b-95fb-7b43b7a8a237",
   "metadata": {},
   "outputs": [],
   "source": [
    "from tqdm import tqdm"
   ]
  },
  {
   "cell_type": "code",
   "execution_count": 43,
   "id": "beeb8efc-489c-4d17-8e96-3d277a0a5b08",
   "metadata": {},
   "outputs": [
    {
     "name": "stderr",
     "output_type": "stream",
     "text": [
      "100%|██████████| 5000/5000 [42:40<00:00,  1.95it/s]"
     ]
    },
    {
     "name": "stdout",
     "output_type": "stream",
     "text": [
      "CPU times: user 42min 39s, sys: 3.88 s, total: 42min 43s\n",
      "Wall time: 42min 40s\n"
     ]
    },
    {
     "name": "stderr",
     "output_type": "stream",
     "text": [
      "\n"
     ]
    }
   ],
   "source": [
    "%%time \n",
    "\n",
    "# loop through patients\n",
    "for i in tqdm(range(1,l+1)):\n",
    "    d_scores = []\n",
    "    # loop through diseases\n",
    "    for j in range(1, m+1):\n",
    "        score = 0\n",
    "        # loop through patient descriptions\n",
    "        # skip first item, which is no. of desc\n",
    "        for d in desc_p[i-1][1:]:\n",
    "            maxim = 0\n",
    "            # loop through disease descriptions:\n",
    "            # skip first item, same reason as above\n",
    "            for q in desc_d[j-1][1:]:\n",
    "                # find LCA(q,d)\n",
    "                anc = commonancestors(nodes[q],nodes[d])\n",
    "                # anytree LCA function tweak\n",
    "                try:\n",
    "                    if len(anc) > 1:\n",
    "                        key = anc[-1].name\n",
    "                    elif len(anc) == 1:\n",
    "                        key = anc[0].name\n",
    "                except TypeError as e:\n",
    "                    key = anc.name                        \n",
    "                info_ = infod[key]\n",
    "                # find max(IC(LCA(q,d)))\n",
    "                if info_ >= maxim:\n",
    "                    maxim = info_\n",
    "            score += maxim\n",
    "        d_scores.append(score)\n",
    "    disease = d_scores.index(max(d_scores)) +1\n",
    "    result.append(str(disease) + '\\n')"
   ]
  },
  {
   "cell_type": "code",
   "execution_count": 44,
   "id": "cf24c337-c6b2-4fee-a0f2-d8248d73ed5f",
   "metadata": {},
   "outputs": [],
   "source": [
    "with open('result1.txt', 'w') as f:\n",
    "    f.writelines(result)"
   ]
  },
  {
   "cell_type": "code",
   "execution_count": 45,
   "id": "c86319df-20b2-4c6a-bb0e-c2b84c5854a1",
   "metadata": {},
   "outputs": [
    {
     "data": {
      "text/plain": [
       "5000"
      ]
     },
     "execution_count": 45,
     "metadata": {},
     "output_type": "execute_result"
    }
   ],
   "source": [
    "len(result)"
   ]
  },
  {
   "cell_type": "code",
   "execution_count": null,
   "id": "1d548a1e-ffa9-47ac-aec0-2f748cfddf0f",
   "metadata": {},
   "outputs": [],
   "source": []
  }
 ],
 "metadata": {
  "kernelspec": {
   "display_name": "Python 3",
   "language": "python",
   "name": "python3"
  },
  "language_info": {
   "codemirror_mode": {
    "name": "ipython",
    "version": 3
   },
   "file_extension": ".py",
   "mimetype": "text/x-python",
   "name": "python",
   "nbconvert_exporter": "python",
   "pygments_lexer": "ipython3",
   "version": "3.7.3"
  }
 },
 "nbformat": 4,
 "nbformat_minor": 5
}
