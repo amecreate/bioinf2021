{
 "cells": [
  {
   "cell_type": "markdown",
   "id": "ca9c2234-0c26-43e8-9de8-890c6a477b40",
   "metadata": {},
   "source": [
    "# Lowest Common Ancestor for Binary Trees (Not BST Binary Search Tree)\n",
    "\n",
    "code from geeksforgeeks.org"
   ]
  },
  {
   "cell_type": "code",
   "execution_count": 1,
   "id": "99b3bd15-9e09-4d2b-9f4d-c6526606d2fb",
   "metadata": {},
   "outputs": [],
   "source": [
    "class Node:\n",
    "    \n",
    "    def __init__(self, key):\n",
    "        self.key = key\n",
    "        self.left = None\n",
    "        self.right = None"
   ]
  },
  {
   "cell_type": "code",
   "execution_count": 2,
   "id": "412a2968-a420-4987-9887-d96e3d5f3c2f",
   "metadata": {},
   "outputs": [],
   "source": [
    "def findLCA(root, n1, n2):\n",
    "    \n",
    "    # Base Case\n",
    "    if root is None:\n",
    "        return None\n",
    "    \n",
    "    # if root equals n1 or n2, root is LCA\n",
    "    if root.key == n1 or root.key == n2:\n",
    "        return root\n",
    "    \n",
    "    # Look for keys in left and right subtrees\n",
    "    # recurssion here\n",
    "    left_lca = findLCA(root.left, n1, n2)\n",
    "    right_lca = findLCA(root.right, n1, n2)\n",
    "    \n",
    "    # if each side has one key, this node is LCA\n",
    "    if left_lca and right_lca:\n",
    "        return root\n",
    "    \n",
    "    # if one side has two keys, return the node on that side\n",
    "    return left_lca if left_lca is not None else right_lca"
   ]
  },
  {
   "cell_type": "code",
   "execution_count": 3,
   "id": "9b9b5a49-a7d4-4b90-a20e-f322a6c64997",
   "metadata": {},
   "outputs": [],
   "source": [
    "root = Node(1)\n",
    "root.left = Node(2)\n",
    "root.right = Node(3)\n",
    "root.left.left = Node(4)\n",
    "root.left.right = Node(5)"
   ]
  },
  {
   "cell_type": "code",
   "execution_count": 6,
   "id": "df7453e3-b7be-4e63-b8b0-37ba87d756ee",
   "metadata": {},
   "outputs": [
    {
     "data": {
      "text/plain": [
       "2"
      ]
     },
     "execution_count": 6,
     "metadata": {},
     "output_type": "execute_result"
    }
   ],
   "source": [
    "findLCA(root, 4, 5).key"
   ]
  },
  {
   "cell_type": "code",
   "execution_count": null,
   "id": "acb75efa-d1a6-4019-a94e-883412e34f63",
   "metadata": {},
   "outputs": [],
   "source": []
  }
 ],
 "metadata": {
  "kernelspec": {
   "display_name": "Python 3",
   "language": "python",
   "name": "python3"
  },
  "language_info": {
   "codemirror_mode": {
    "name": "ipython",
    "version": 3
   },
   "file_extension": ".py",
   "mimetype": "text/x-python",
   "name": "python",
   "nbconvert_exporter": "python",
   "pygments_lexer": "ipython3",
   "version": "3.7.3"
  }
 },
 "nbformat": 4,
 "nbformat_minor": 5
}
