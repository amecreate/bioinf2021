{
 "cells": [
  {
   "cell_type": "code",
   "execution_count": 1,
   "id": "931c582b-8ce3-47f1-8b06-b3f60cfc6798",
   "metadata": {},
   "outputs": [],
   "source": [
    "class Node:\n",
    "    \n",
    "    # create a new tree node (not a tree)\n",
    "    def __init__(self, key):\n",
    "        self.key = key\n",
    "        self.left = None\n",
    "        self.right = None"
   ]
  },
  {
   "cell_type": "code",
   "execution_count": 2,
   "id": "bdc348e3-2403-43b9-81fc-9de5ea76581a",
   "metadata": {},
   "outputs": [],
   "source": [
    "root = Node(1)"
   ]
  },
  {
   "cell_type": "code",
   "execution_count": 4,
   "id": "3210b8d4-8a22-4f72-ae5d-711c7b26a486",
   "metadata": {},
   "outputs": [],
   "source": [
    "root.left = Node(2)"
   ]
  },
  {
   "cell_type": "code",
   "execution_count": 5,
   "id": "4693755a-dc09-4d66-a51e-6a038961a499",
   "metadata": {},
   "outputs": [],
   "source": [
    "root.right = Node(3)"
   ]
  },
  {
   "cell_type": "code",
   "execution_count": null,
   "id": "cd952fd7-6379-404b-a8d5-f25072f269cd",
   "metadata": {},
   "outputs": [],
   "source": []
  }
 ],
 "metadata": {
  "kernelspec": {
   "display_name": "Python 3",
   "language": "python",
   "name": "python3"
  },
  "language_info": {
   "codemirror_mode": {
    "name": "ipython",
    "version": 3
   },
   "file_extension": ".py",
   "mimetype": "text/x-python",
   "name": "python",
   "nbconvert_exporter": "python",
   "pygments_lexer": "ipython3",
   "version": "3.7.3"
  }
 },
 "nbformat": 4,
 "nbformat_minor": 5
}
