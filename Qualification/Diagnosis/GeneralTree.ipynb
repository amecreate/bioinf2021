{
 "cells": [
  {
   "cell_type": "code",
   "execution_count": 5,
   "id": "3bb17384-fc27-450f-8129-a5b75dcf0a6d",
   "metadata": {},
   "outputs": [],
   "source": [
    "class NonBiTree:\n",
    "    \n",
    "    def __init__(self, key):\n",
    "        self.key = key\n",
    "        self.nodes = []\n",
    "        \n",
    "    def add_node(self, key):\n",
    "        self.nodes.append(NonBiTree(key))\n",
    "    \n",
    "    def __repr__(self):\n",
    "        return f\"NonBiTree({self.key}): {self.nodes}\""
   ]
  },
  {
   "cell_type": "code",
   "execution_count": 6,
   "id": "c5bb39ca-990c-4c40-842a-41eabfd742d8",
   "metadata": {},
   "outputs": [],
   "source": [
    "root = NonBiTree(1)"
   ]
  },
  {
   "cell_type": "code",
   "execution_count": 10,
   "id": "fd6ed9fc-7a1f-4bb6-9a63-b8d71866168a",
   "metadata": {},
   "outputs": [],
   "source": [
    "root.add_node(3)"
   ]
  },
  {
   "cell_type": "code",
   "execution_count": 12,
   "id": "552bc444-8843-41f5-b9ac-27ba9ba17bd9",
   "metadata": {},
   "outputs": [
    {
     "data": {
      "text/plain": [
       "NonBiTree(1): [NonBiTree(2): [], NonBiTree(3): []]"
      ]
     },
     "execution_count": 12,
     "metadata": {},
     "output_type": "execute_result"
    }
   ],
   "source": [
    "root"
   ]
  },
  {
   "cell_type": "code",
   "execution_count": 16,
   "id": "822beec3-9925-4c82-95a9-76b708f78c09",
   "metadata": {},
   "outputs": [],
   "source": [
    "root.nodes[1].add_node(4)"
   ]
  },
  {
   "cell_type": "code",
   "execution_count": 17,
   "id": "e1ab34b6-5548-402b-b2bb-d5d6182cfaa0",
   "metadata": {},
   "outputs": [
    {
     "data": {
      "text/plain": [
       "NonBiTree(1): [NonBiTree(2): [], NonBiTree(3): [NonBiTree(4): []]]"
      ]
     },
     "execution_count": 17,
     "metadata": {},
     "output_type": "execute_result"
    }
   ],
   "source": [
    "root"
   ]
  },
  {
   "cell_type": "markdown",
   "id": "50ff5966-7f6a-4df3-bd72-b61e2c02c609",
   "metadata": {},
   "source": [
    "# Another Example\n",
    "\n",
    "[stack overflow](https://stackoverflow.com/questions/2482602/a-general-tree-implementation)"
   ]
  },
  {
   "cell_type": "code",
   "execution_count": null,
   "id": "9dff4856-cd0c-432b-867c-8441614de303",
   "metadata": {},
   "outputs": [],
   "source": []
  }
 ],
 "metadata": {
  "kernelspec": {
   "display_name": "Python 3",
   "language": "python",
   "name": "python3"
  },
  "language_info": {
   "codemirror_mode": {
    "name": "ipython",
    "version": 3
   },
   "file_extension": ".py",
   "mimetype": "text/x-python",
   "name": "python",
   "nbconvert_exporter": "python",
   "pygments_lexer": "ipython3",
   "version": "3.7.3"
  }
 },
 "nbformat": 4,
 "nbformat_minor": 5
}
