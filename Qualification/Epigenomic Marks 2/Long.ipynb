{
 "cells": [
  {
   "cell_type": "code",
   "execution_count": 1,
   "id": "e878f428-0544-4a40-9a12-0ae153e7bb6e",
   "metadata": {},
   "outputs": [],
   "source": [
    "# import\n",
    "with open('2.txt') as f:\n",
    "    lines = f.readlines()"
   ]
  },
  {
   "cell_type": "code",
   "execution_count": 2,
   "id": "4423398a-8364-482b-8777-d7c7acd4cb2f",
   "metadata": {},
   "outputs": [],
   "source": [
    "# get the number of tests\n",
    "maxim = int(lines.pop(0).rstrip())\n",
    "\n",
    "# default variables\n",
    "n = 1\n",
    "i = 0\n",
    "result = []\n",
    "\n",
    "# loop\n",
    "\n",
    "while n <=maxim:\n",
    "    question = lines[i].rstrip().split(' ')\n",
    "    n_rows = int(question[0])\n",
    "    n_cols = int(question[-1])\n",
    "    test = [l.rstrip() for l in lines[i+1:i+1+n_rows]]\n",
    "    \n",
    "    if n_rows == 1:\n",
    "        cols = list(''.join(test))\n",
    "    else:\n",
    "        cols = [''.join(s) for s in zip(*test)]\n",
    "        \n",
    "    unique_lst = []\n",
    "    num_list = []\n",
    "    \n",
    "    for j in cols:\n",
    "        if j not in unique_lst:\n",
    "            unique_lst.append(j)\n",
    "            num_list.append(unique_lst.index(j)+1)\n",
    "        else:\n",
    "            num_list.append(unique_lst.index(j)+1)\n",
    "    \n",
    "    result.append(str(len(unique_lst)) + '\\n')\n",
    "    result.append(' '.join(str(m) for m in num_list) + '\\n')\n",
    "    \n",
    "    i = i+1+n_rows\n",
    "    n+=1"
   ]
  },
  {
   "cell_type": "code",
   "execution_count": 5,
   "id": "62242954-4ab9-4e87-8383-ef68d36b4556",
   "metadata": {},
   "outputs": [],
   "source": [
    "# export\n",
    "\n",
    "with open('result_long.txt','w') as f:\n",
    "    f.writelines(result)"
   ]
  },
  {
   "cell_type": "code",
   "execution_count": null,
   "id": "8b018578-341a-4e17-9d6c-bbb57b84304d",
   "metadata": {},
   "outputs": [],
   "source": []
  }
 ],
 "metadata": {
  "kernelspec": {
   "display_name": "Python 3",
   "language": "python",
   "name": "python3"
  },
  "language_info": {
   "codemirror_mode": {
    "name": "ipython",
    "version": 3
   },
   "file_extension": ".py",
   "mimetype": "text/x-python",
   "name": "python",
   "nbconvert_exporter": "python",
   "pygments_lexer": "ipython3",
   "version": "3.7.3"
  }
 },
 "nbformat": 4,
 "nbformat_minor": 5
}
