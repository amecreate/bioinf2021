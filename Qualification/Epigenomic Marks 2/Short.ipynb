{
 "cells": [
  {
   "cell_type": "markdown",
   "id": "5994cbb2-725b-45fa-a8ca-6bc20dcff6b3",
   "metadata": {},
   "source": [
    "# Import file"
   ]
  },
  {
   "cell_type": "code",
   "execution_count": 75,
   "id": "cc71080f-2cb5-4615-8be2-94206891f13b",
   "metadata": {},
   "outputs": [],
   "source": [
    "with open('1.txt') as f:\n",
    "    lines = f.readlines()"
   ]
  },
  {
   "cell_type": "code",
   "execution_count": 4,
   "id": "c0e71391-d2d0-4541-972d-f754307ddbb7",
   "metadata": {},
   "outputs": [
    {
     "data": {
      "text/plain": [
       "'28\\n'"
      ]
     },
     "execution_count": 4,
     "metadata": {},
     "output_type": "execute_result"
    }
   ],
   "source": [
    "lines[0] # 28 tests"
   ]
  },
  {
   "cell_type": "code",
   "execution_count": 57,
   "id": "a4ba419b-8add-48d1-bb9d-cc682c986d77",
   "metadata": {},
   "outputs": [
    {
     "data": {
      "text/plain": [
       "['1', '2']"
      ]
     },
     "execution_count": 57,
     "metadata": {},
     "output_type": "execute_result"
    }
   ],
   "source": [
    "lines[1].rstrip().split(' ') # First question: 1 row 2 cols"
   ]
  },
  {
   "cell_type": "code",
   "execution_count": 117,
   "id": "22a90167-d558-4a75-a01d-653fd3aea7f4",
   "metadata": {},
   "outputs": [
    {
     "data": {
      "text/plain": [
       "['0', '1']"
      ]
     },
     "execution_count": 117,
     "metadata": {},
     "output_type": "execute_result"
    }
   ],
   "source": [
    "# if it's 1 row, the next line should be the test\n",
    "test=list(lines[2].rstrip())\n",
    "test"
   ]
  },
  {
   "cell_type": "code",
   "execution_count": null,
   "id": "47b0ea37-9bbf-4d97-b998-b47677e41054",
   "metadata": {},
   "outputs": [],
   "source": [
    "\n",
    "for i in test:\n",
    "    "
   ]
  },
  {
   "cell_type": "code",
   "execution_count": 10,
   "id": "aa0fb71d-2cc7-4520-9599-806a4623ccbf",
   "metadata": {},
   "outputs": [
    {
     "data": {
      "text/plain": [
       "'2 4\\n'"
      ]
     },
     "execution_count": 10,
     "metadata": {},
     "output_type": "execute_result"
    }
   ],
   "source": [
    "lines[3] # Second question: 2 rows, 4 cols"
   ]
  },
  {
   "cell_type": "code",
   "execution_count": 13,
   "id": "757d2a7d-dbc3-4006-a881-f348e2014a77",
   "metadata": {},
   "outputs": [
    {
     "data": {
      "text/plain": [
       "['1100\\n', '1010\\n']"
      ]
     },
     "execution_count": 13,
     "metadata": {},
     "output_type": "execute_result"
    }
   ],
   "source": [
    "# 2 rows meaning the next two lines are the test\n",
    "lines[3+1:3+1+2]"
   ]
  },
  {
   "cell_type": "code",
   "execution_count": 14,
   "id": "10d69e01-14e7-4e7e-a25c-5e8c0ed7b102",
   "metadata": {},
   "outputs": [
    {
     "data": {
      "text/plain": [
       "['28\\n',\n",
       " '1 2\\n',\n",
       " '01\\n',\n",
       " '2 4\\n',\n",
       " '1100\\n',\n",
       " '1010\\n',\n",
       " '3 8\\n',\n",
       " '00001111\\n',\n",
       " '11001010\\n',\n",
       " '10010011\\n']"
      ]
     },
     "execution_count": 14,
     "metadata": {},
     "output_type": "execute_result"
    }
   ],
   "source": [
    "lines[0:10]"
   ]
  },
  {
   "cell_type": "markdown",
   "id": "bf84e69f-ff8a-4f6c-bb94-70c3bfa28b40",
   "metadata": {},
   "source": [
    "# Attempt 1"
   ]
  },
  {
   "cell_type": "code",
   "execution_count": 19,
   "id": "23d4af21-1380-4b27-bb80-413aeff9bf4e",
   "metadata": {},
   "outputs": [
    {
     "data": {
      "text/plain": [
       "['00001111', '11001010', '10010011']"
      ]
     },
     "execution_count": 19,
     "metadata": {},
     "output_type": "execute_result"
    }
   ],
   "source": [
    "test = [i.rstrip() for i in lines[7:10]]\n",
    "test"
   ]
  },
  {
   "cell_type": "code",
   "execution_count": 39,
   "id": "a37c9f77-068f-466b-a437-c3ab4db6f3fa",
   "metadata": {},
   "outputs": [
    {
     "data": {
      "text/plain": [
       "['011', '010', '000', '001', '110', '100', '111', '101']"
      ]
     },
     "execution_count": 39,
     "metadata": {},
     "output_type": "execute_result"
    }
   ],
   "source": [
    "# Look at each row\n",
    "# use zip()\n",
    "\n",
    "cols = [''.join(s) for s in zip(*test)]\n",
    "cols"
   ]
  },
  {
   "cell_type": "code",
   "execution_count": 40,
   "id": "b5ef8a45-789f-4ce7-8430-b83f982552bc",
   "metadata": {},
   "outputs": [
    {
     "data": {
      "text/plain": [
       "{'000', '001', '010', '011', '100', '101', '110', '111'}"
      ]
     },
     "execution_count": 40,
     "metadata": {},
     "output_type": "execute_result"
    }
   ],
   "source": [
    "# get unique value \n",
    "# set() will sort the value\n",
    "\n",
    "set(cols)"
   ]
  },
  {
   "cell_type": "code",
   "execution_count": 41,
   "id": "578701f1-06da-4a04-99bc-8879ba72ad74",
   "metadata": {},
   "outputs": [],
   "source": [
    "unique_lst = []\n",
    "num_list = []"
   ]
  },
  {
   "cell_type": "code",
   "execution_count": 42,
   "id": "8d5b2b8f-693f-42ba-9946-c392047195ed",
   "metadata": {},
   "outputs": [],
   "source": [
    "for i in cols:\n",
    "    if i not in unique_lst:\n",
    "        unique_lst.append(i)\n",
    "        num_list.append(unique_lst.index(i)+1)\n",
    "    else:\n",
    "        num_list.append(unique_lst.index(i)+1)"
   ]
  },
  {
   "cell_type": "code",
   "execution_count": 43,
   "id": "56f6785c-4abf-44c6-aaf6-8a6c0921487c",
   "metadata": {},
   "outputs": [
    {
     "data": {
      "text/plain": [
       "['011', '010', '000', '001', '110', '100', '111', '101']"
      ]
     },
     "execution_count": 43,
     "metadata": {},
     "output_type": "execute_result"
    }
   ],
   "source": [
    "unique_lst"
   ]
  },
  {
   "cell_type": "code",
   "execution_count": 45,
   "id": "c7147440-b822-4b46-a9dd-7423eebf82e4",
   "metadata": {},
   "outputs": [
    {
     "data": {
      "text/plain": [
       "[1, 2, 3, 4, 5, 6, 7, 8]"
      ]
     },
     "execution_count": 45,
     "metadata": {},
     "output_type": "execute_result"
    }
   ],
   "source": [
    "num_list"
   ]
  },
  {
   "cell_type": "markdown",
   "id": "0e70cb27-bbca-48a1-9e4c-fd3ca1ffacef",
   "metadata": {},
   "source": [
    "# Attempt 2"
   ]
  },
  {
   "cell_type": "code",
   "execution_count": 86,
   "id": "cc216e14-7644-43fd-b924-b93fd27c7976",
   "metadata": {},
   "outputs": [],
   "source": [
    "test2 = ['0010001000','1001000001','0101010001','0010001100']"
   ]
  },
  {
   "cell_type": "code",
   "execution_count": 87,
   "id": "40383993-8fc0-4cf9-86c1-d9a14c347b83",
   "metadata": {},
   "outputs": [
    {
     "data": {
      "text/plain": [
       "['0100',\n",
       " '0010',\n",
       " '1001',\n",
       " '0110',\n",
       " '0000',\n",
       " '0010',\n",
       " '1001',\n",
       " '0001',\n",
       " '0000',\n",
       " '0110']"
      ]
     },
     "execution_count": 87,
     "metadata": {},
     "output_type": "execute_result"
    }
   ],
   "source": [
    "cols2 = [''.join(s) for s in zip(*test2)]\n",
    "cols2"
   ]
  },
  {
   "cell_type": "code",
   "execution_count": 88,
   "id": "85dc38cf-070b-4a54-ae70-fad8c0c37ee7",
   "metadata": {},
   "outputs": [],
   "source": [
    "unique_lst = []\n",
    "num_list = []"
   ]
  },
  {
   "cell_type": "code",
   "execution_count": 89,
   "id": "8c15e5af-b2db-4232-ad24-1a2c6193bfed",
   "metadata": {},
   "outputs": [],
   "source": [
    "for i in cols2:\n",
    "    if i not in unique_lst:\n",
    "        unique_lst.append(i)\n",
    "        num_list.append(unique_lst.index(i)+1)\n",
    "    else:\n",
    "        num_list.append(unique_lst.index(i)+1)"
   ]
  },
  {
   "cell_type": "code",
   "execution_count": 92,
   "id": "2bbfd813-17da-46f7-bb81-efa15bd9f833",
   "metadata": {},
   "outputs": [
    {
     "data": {
      "text/plain": [
       "['0100', '0010', '1001', '0110', '0000', '0001']"
      ]
     },
     "execution_count": 92,
     "metadata": {},
     "output_type": "execute_result"
    }
   ],
   "source": [
    "unique_lst"
   ]
  },
  {
   "cell_type": "code",
   "execution_count": 52,
   "id": "9cbe149c-e6fd-4fc9-8e69-27d94185af41",
   "metadata": {},
   "outputs": [
    {
     "data": {
      "text/plain": [
       "[1, 2, 3, 4, 5, 2, 3, 6, 5, 4]"
      ]
     },
     "execution_count": 52,
     "metadata": {},
     "output_type": "execute_result"
    }
   ],
   "source": [
    "num_list"
   ]
  },
  {
   "cell_type": "markdown",
   "id": "a7ab59fa-e312-4c06-8426-1b8c1f927578",
   "metadata": {},
   "source": [
    "# Actual problem"
   ]
  },
  {
   "cell_type": "code",
   "execution_count": 79,
   "id": "ea04dc39-89cf-4d3d-9a0a-72115900c446",
   "metadata": {},
   "outputs": [],
   "source": [
    "lines2 = lines.copy()"
   ]
  },
  {
   "cell_type": "code",
   "execution_count": 80,
   "id": "29b7dce5-c28b-4c40-bbf6-56fed2ed8d1f",
   "metadata": {},
   "outputs": [
    {
     "data": {
      "text/plain": [
       "28"
      ]
     },
     "execution_count": 80,
     "metadata": {},
     "output_type": "execute_result"
    }
   ],
   "source": [
    "maxim = int(lines2.pop(0).rstrip())\n",
    "maxim"
   ]
  },
  {
   "cell_type": "code",
   "execution_count": 124,
   "id": "f32ae2fb-5540-4d30-b110-3ba30e6ed4db",
   "metadata": {},
   "outputs": [
    {
     "data": {
      "text/plain": [
       "['1 2\\n',\n",
       " '01\\n',\n",
       " '2 4\\n',\n",
       " '1100\\n',\n",
       " '1010\\n',\n",
       " '3 8\\n',\n",
       " '00001111\\n',\n",
       " '11001010\\n',\n",
       " '10010011\\n',\n",
       " '4 16\\n',\n",
       " '0110101110000101\\n',\n",
       " '0010000111111100\\n',\n",
       " '0010011100110011\\n',\n",
       " '0001101111010010\\n',\n",
       " '1 100\\n',\n",
       " '1111111111111111111111111111111111111111111111111111111111111111111111111111111111111111111111111111\\n',\n",
       " '2 100\\n',\n",
       " '1111111111111111111111111111111111111111111111111111111111111111111111111111111111111111111111111111\\n',\n",
       " '1111111111111111111111111111111111111111111111111111111111111111111111111111111111111111111111111111\\n',\n",
       " '3 100\\n',\n",
       " '0000000000000000000000000000000000000000000000000000000000000000000000000000000000000000000000000000\\n',\n",
       " '0000000000000000000000000000000000000000000000000000000000000000000000000000000000000000000000000000\\n',\n",
       " '1111111111111111111111111111111111111111111111111111111111111111111111111111111111111111111111111111\\n',\n",
       " '4 100\\n',\n",
       " '1111111111111111111111111111111111111111111111111111111111111111111111111111111111111111111111111111\\n',\n",
       " '1111111111111111111111111111111111111111111111111111111111111111111111111111111111111111111111111111\\n',\n",
       " '0000000000000000000000000000000000000000000000000000000000000000000000000000000000000000000000000000\\n',\n",
       " '0000000000000000000000000000000000000000000000000000000000000000000000000000000000000000000000000000\\n',\n",
       " '1 100\\n',\n",
       " '0000010010001110001111001000011000110100011000010101000010100101000001000010000001001000100000110001\\n',\n",
       " '2 100\\n',\n",
       " '1110011111011110011011111100000011101101111111000111110100010000111111101001001011110111111111111011\\n',\n",
       " '1111111111111111111111111110001111111111111111111111111111111111110111111101111101011110110111101111\\n',\n",
       " '3 100\\n',\n",
       " '0000000001000000000010110000000010000100000000000000100001000000000100000000000000000000000000000100\\n',\n",
       " '0000000000000000000000000000010000001010100000010000100000100011100000000000000000001000000011010000\\n',\n",
       " '0001000001000000000010110000010010000100001011100000101001000100000110001000000011000110000010000001\\n',\n",
       " '4 100\\n',\n",
       " '0011011000100110011000110000110010000100111001010000111101010001111001101011010110000000111110011011\\n',\n",
       " '0011011101101110011010111100110110001110010001011100010111010101111001100011110110000110111110011011\\n',\n",
       " '1100100010010001100101000011000001110001001110100010000000101010110110010100001101011001001001100110\\n',\n",
       " '0001001000100110011000110000111010000100110001010001111101010001101011100011110010100110010110010011\\n',\n",
       " '1 100\\n',\n",
       " '1111001010111100101001111011011100111111001011001010010000011000100111011101000110100011111000011110\\n',\n",
       " '2 100\\n',\n",
       " '1111111111111101011111110111111101111111011011101111101111110111011010110101110011111100111111100000\\n',\n",
       " '1111111111111111011111111110010101111111011010001101100110100110111000111001111011111111000111001101\\n',\n",
       " '3 100\\n',\n",
       " '0000110111011100010101010101100111010110010101001000001100110110101101110111110111101001110000101101\\n',\n",
       " '1111001010100011111111101010111000101001101000111011110111011000011010000111011000100111011111011010\\n']"
      ]
     },
     "execution_count": 124,
     "metadata": {},
     "output_type": "execute_result"
    }
   ],
   "source": [
    "lines2[:50]"
   ]
  },
  {
   "cell_type": "code",
   "execution_count": 68,
   "id": "70444825-b011-4e36-a43f-997651cf6b8b",
   "metadata": {},
   "outputs": [
    {
     "data": {
      "text/plain": [
       "['01']"
      ]
     },
     "execution_count": 68,
     "metadata": {},
     "output_type": "execute_result"
    }
   ],
   "source": [
    "[i.rstrip() for i in lines2[0+1:0+1+1]]"
   ]
  },
  {
   "cell_type": "code",
   "execution_count": 126,
   "id": "b4b61a9f-d75b-4fab-a045-4ab002142020",
   "metadata": {},
   "outputs": [],
   "source": [
    "n = 1\n",
    "i = 0\n",
    "result = []"
   ]
  },
  {
   "cell_type": "code",
   "execution_count": 127,
   "id": "b937c40d-47ad-46f9-a35f-d3cac6a7f821",
   "metadata": {},
   "outputs": [],
   "source": [
    "while n <=maxim:\n",
    "    question = lines2[i].rstrip().split(' ')\n",
    "    n_rows = int(question[0])\n",
    "    n_cols = int(question[-1])\n",
    "    test = [l.rstrip() for l in lines2[i+1:i+1+n_rows]]\n",
    "    \n",
    "    if n_rows == 1:\n",
    "        cols = list(''.join(test))\n",
    "    else:\n",
    "        cols = [''.join(s) for s in zip(*test)]\n",
    "        \n",
    "    unique_lst = []\n",
    "    num_list = []\n",
    "    \n",
    "    for j in cols:\n",
    "        if j not in unique_lst:\n",
    "            unique_lst.append(j)\n",
    "            num_list.append(unique_lst.index(j)+1)\n",
    "        else:\n",
    "            num_list.append(unique_lst.index(j)+1)\n",
    "    \n",
    "    result.append(str(len(unique_lst)) + '\\n')\n",
    "    result.append(' '.join(str(m) for m in num_list) + '\\n')\n",
    "    \n",
    "    i = i+1+n_rows\n",
    "    n+=1"
   ]
  },
  {
   "cell_type": "code",
   "execution_count": 128,
   "id": "b7fb8a35-a78c-4391-a33b-c0e3eb57d8ec",
   "metadata": {},
   "outputs": [
    {
     "data": {
      "text/plain": [
       "['2\\n',\n",
       " '1 2\\n',\n",
       " '4\\n',\n",
       " '1 2 3 4\\n',\n",
       " '8\\n',\n",
       " '1 2 3 4 5 6 7 8\\n',\n",
       " '16\\n',\n",
       " '1 2 3 4 5 6 7 8 9 10 11 12 13 14 15 16\\n',\n",
       " '1\\n',\n",
       " '1 1 1 1 1 1 1 1 1 1 1 1 1 1 1 1 1 1 1 1 1 1 1 1 1 1 1 1 1 1 1 1 1 1 1 1 1 1 1 1 1 1 1 1 1 1 1 1 1 1 1 1 1 1 1 1 1 1 1 1 1 1 1 1 1 1 1 1 1 1 1 1 1 1 1 1 1 1 1 1 1 1 1 1 1 1 1 1 1 1 1 1 1 1 1 1 1 1 1 1\\n',\n",
       " '1\\n',\n",
       " '1 1 1 1 1 1 1 1 1 1 1 1 1 1 1 1 1 1 1 1 1 1 1 1 1 1 1 1 1 1 1 1 1 1 1 1 1 1 1 1 1 1 1 1 1 1 1 1 1 1 1 1 1 1 1 1 1 1 1 1 1 1 1 1 1 1 1 1 1 1 1 1 1 1 1 1 1 1 1 1 1 1 1 1 1 1 1 1 1 1 1 1 1 1 1 1 1 1 1 1\\n',\n",
       " '1\\n',\n",
       " '1 1 1 1 1 1 1 1 1 1 1 1 1 1 1 1 1 1 1 1 1 1 1 1 1 1 1 1 1 1 1 1 1 1 1 1 1 1 1 1 1 1 1 1 1 1 1 1 1 1 1 1 1 1 1 1 1 1 1 1 1 1 1 1 1 1 1 1 1 1 1 1 1 1 1 1 1 1 1 1 1 1 1 1 1 1 1 1 1 1 1 1 1 1 1 1 1 1 1 1\\n',\n",
       " '1\\n',\n",
       " '1 1 1 1 1 1 1 1 1 1 1 1 1 1 1 1 1 1 1 1 1 1 1 1 1 1 1 1 1 1 1 1 1 1 1 1 1 1 1 1 1 1 1 1 1 1 1 1 1 1 1 1 1 1 1 1 1 1 1 1 1 1 1 1 1 1 1 1 1 1 1 1 1 1 1 1 1 1 1 1 1 1 1 1 1 1 1 1 1 1 1 1 1 1 1 1 1 1 1 1\\n',\n",
       " '2\\n',\n",
       " '1 1 1 1 1 2 1 1 2 1 1 1 2 2 2 1 1 1 2 2 2 2 1 1 2 1 1 1 1 2 2 1 1 1 2 2 1 2 1 1 1 2 2 1 1 1 1 2 1 2 1 2 1 1 1 1 2 1 2 1 1 2 1 2 1 1 1 1 1 2 1 1 1 1 2 1 1 1 1 1 1 2 1 1 2 1 1 1 2 1 1 1 1 1 2 2 1 1 1 2\\n',\n",
       " '4\\n',\n",
       " '1 1 1 2 2 1 1 1 1 1 2 1 1 1 1 2 2 1 1 2 1 1 1 1 1 1 2 3 3 3 2 2 1 1 1 2 1 1 2 1 1 1 1 1 1 1 2 2 2 1 1 1 1 1 2 1 2 2 2 1 2 2 2 2 1 1 4 1 1 1 1 2 1 2 3 1 2 2 1 2 4 1 4 1 2 1 1 4 1 1 4 1 1 1 1 4 1 2 1 1\\n',\n",
       " '7\\n',\n",
       " '1 1 1 2 1 1 1 1 1 3 1 1 1 1 1 1 1 1 1 1 3 1 3 3 1 1 1 1 1 4 1 1 3 1 1 1 5 3 5 1 5 1 2 1 2 2 2 5 1 1 1 1 6 1 2 1 1 3 5 1 1 2 5 5 5 1 1 3 2 1 1 1 2 1 1 1 1 1 1 1 2 2 1 1 5 2 2 1 1 1 1 1 4 5 1 5 1 7 1 2\\n',\n",
       " '12\\n',\n",
       " '1 1 2 3 1 2 3 4 1 4 3 1 4 3 3 1 1 3 3 1 4 1 3 3 4 4 1 1 3 3 5 4 3 1 1 1 4 3 4 1 6 3 7 1 1 3 1 3 4 4 1 5 6 3 6 3 4 3 1 3 1 4 1 3 8 9 3 1 10 3 3 1 11 1 3 3 12 3 1 9 3 1 5 1 1 12 12 1 2 3 9 3 3 1 1 3 2 1 8 3\\n',\n",
       " '2\\n',\n",
       " '1 1 1 1 2 2 1 2 1 2 1 1 1 1 2 2 1 2 1 2 2 1 1 1 1 2 1 1 2 1 1 1 2 2 1 1 1 1 1 1 2 2 1 2 1 1 2 2 1 2 1 2 2 1 2 2 2 2 2 1 1 2 2 2 1 2 2 1 1 1 2 1 1 1 2 1 2 2 2 1 1 2 1 2 2 2 1 1 1 1 1 2 2 2 2 1 1 1 1 2\\n',\n",
       " '4\\n',\n",
       " '1 1 1 1 1 1 1 1 1 1 1 1 1 1 2 1 3 1 1 1 1 1 1 1 2 1 1 4 4 1 4 1 3 1 1 1 1 1 1 1 3 1 1 3 1 4 4 3 1 1 4 1 1 3 4 1 1 4 1 4 3 1 1 4 2 1 1 3 4 3 1 1 2 4 3 1 1 1 2 3 1 1 1 1 1 1 2 2 4 4 4 1 1 1 4 3 2 2 3 2\\n',\n",
       " '8\\n',\n",
       " '1 1 1 1 2 2 1 2 3 2 1 2 2 2 1 1 1 3 1 3 4 3 1 2 1 2 1 2 5 1 1 2 2 2 4 2 4 2 2 1 4 2 1 2 6 7 1 1 3 6 1 1 1 1 7 3 1 4 2 3 4 2 2 6 2 1 5 2 4 2 2 2 6 3 5 5 2 5 1 2 2 2 5 8 2 1 1 3 2 5 1 1 4 4 2 1 3 2 4 2\\n',\n",
       " '15\\n',\n",
       " '1 1 1 1 1 2 1 3 1 4 3 5 1 1 1 1 6 7 8 9 1 1 1 1 7 1 1 9 10 2 5 1 1 11 8 1 3 6 1 1 1 5 7 7 1 6 3 1 1 7 1 1 1 9 1 3 1 6 4 10 12 13 1 8 2 8 1 14 14 5 4 1 11 12 12 8 15 5 1 12 8 5 1 1 5 1 10 12 8 6 8 9 15 8 8 1 4 4 5 2\\n',\n",
       " '2\\n',\n",
       " '1 1 2 2 1 2 2 1 2 2 2 1 1 1 1 2 2 1 1 2 1 2 1 1 1 1 2 2 1 1 1 2 1 2 2 2 1 1 2 1 2 1 2 1 1 2 2 1 1 1 1 1 1 1 1 1 2 1 2 2 1 1 1 1 1 1 1 1 2 2 2 1 1 1 2 1 1 1 2 2 2 2 1 1 2 1 2 2 1 1 2 2 1 1 1 1 1 2 1 1\\n',\n",
       " '4\\n',\n",
       " '1 1 1 2 3 1 3 1 4 1 4 1 4 1 2 1 1 1 3 1 4 4 2 1 3 1 3 2 3 2 4 3 2 2 3 4 1 1 1 1 1 3 2 1 1 4 4 3 4 1 3 1 1 3 3 4 4 1 3 2 2 3 2 1 1 3 2 2 3 1 4 4 4 4 1 1 2 3 1 1 2 2 3 1 2 1 4 2 4 4 1 1 3 4 3 3 3 4 2 1\\n',\n",
       " '8\\n',\n",
       " '1 1 1 2 3 1 4 5 6 5 3 3 2 1 7 5 4 1 1 4 4 8 6 1 7 2 4 3 8 5 4 3 3 6 3 1 1 6 4 6 2 7 3 5 7 5 4 8 6 1 1 7 1 2 6 8 1 1 7 7 2 5 1 7 4 8 4 6 7 2 2 4 2 2 5 5 8 6 4 5 4 2 2 2 3 6 3 8 7 2 4 3 4 3 5 7 4 2 2 7\\n',\n",
       " '16\\n',\n",
       " '1 1 2 1 1 1 2 2 3 1 4 1 4 5 2 6 1 1 1 6 1 5 7 3 1 1 8 9 2 4 6 10 9 11 12 3 1 11 13 11 1 6 10 1 14 1 15 1 4 2 8 7 1 7 5 10 14 7 15 1 2 8 11 6 2 3 1 1 2 5 9 15 4 16 1 11 1 1 9 2 4 7 15 1 1 3 16 2 1 7 5 11 1 16 6 1 11 10 4 2\\n',\n",
       " '2\\n',\n",
       " '1 1 2 2 1 2 2 1 1 2 2 2 2 2 1 2 1 1 1 1 1 2 1 2 2 2 1 1 1 2 1 1 2 2 2 2 1 1 1 2 1 2 1 1 2 1 1 1 1 2 1 1 1 1 2 1 1 2 1 1 2 2 2 1 2 2 2 1 1 2 2 2 2 1 1 2 2 2 1 1 1 1 2 1 2 2 1 1 2 2 1 2 1 2 2 2 2 1 1 1\\n',\n",
       " '4\\n',\n",
       " '1 1 2 2 3 2 4 1 1 1 2 2 2 1 1 4 4 2 1 4 1 1 2 2 3 3 4 3 2 3 1 2 4 2 2 1 2 2 4 1 3 4 2 1 1 3 2 4 2 2 2 4 1 1 2 1 1 2 4 2 1 1 1 1 4 4 2 3 2 4 2 1 4 3 1 3 1 3 2 3 2 2 4 1 1 4 3 1 3 3 3 4 2 2 2 2 2 2 2 2\\n',\n",
       " '8\\n',\n",
       " '1 2 2 1 1 2 1 3 4 1 5 3 6 5 7 5 4 3 6 1 3 4 2 4 2 5 6 5 5 3 3 3 6 2 5 4 4 6 8 5 4 7 6 8 8 8 5 6 1 1 4 8 1 4 7 3 5 5 2 3 6 8 7 3 4 7 7 5 2 8 8 2 6 6 6 1 6 1 6 1 8 4 5 1 3 4 5 5 1 5 3 3 3 7 6 2 4 3 5 7\\n',\n",
       " '16\\n',\n",
       " '1 1 1 2 3 4 5 6 1 7 8 4 3 5 3 1 3 5 7 5 9 1 10 10 6 6 11 1 2 2 3 10 2 1 6 12 12 13 5 6 4 6 12 14 6 3 1 3 14 11 11 1 12 6 15 10 12 10 4 9 6 1 7 10 1 8 3 5 2 1 12 11 15 4 1 5 16 11 2 3 14 14 16 9 12 4 3 3 10 12 2 9 16 4 11 11 12 14 2 11\\n',\n",
       " '2\\n',\n",
       " '1 1 1 1 2 1 2 2 1 1 1 2 2 1 2 1 2 2 1 1 2 2 2 2 1 2 1 2 2 2 1 2 1 2 2 1 2 1 2 1 2 1 2 1 2 2 1 2 1 2 1 2 2 1 1 1 2 2 1 2 1 2 2 2 1 1 2 1 1 1 2 1 1 2 1 1 1 2 1 2 2 1 2 2 2 1 2 2 2 1 2 1 2 1 1 1 1 1 2 1\\n']"
      ]
     },
     "execution_count": 128,
     "metadata": {},
     "output_type": "execute_result"
    }
   ],
   "source": [
    "result[:50]"
   ]
  },
  {
   "cell_type": "markdown",
   "id": "8eaaa0df-69a1-4b29-9c44-a7320a67dd93",
   "metadata": {},
   "source": [
    "# Export"
   ]
  },
  {
   "cell_type": "code",
   "execution_count": 129,
   "id": "c9992cce-e385-4c49-a38a-563b9fc35725",
   "metadata": {},
   "outputs": [],
   "source": [
    "with open('result.txt', 'w') as f:\n",
    "    f.writelines(result)"
   ]
  },
  {
   "cell_type": "code",
   "execution_count": 130,
   "id": "c222b200-786f-45df-aa50-8d35fc438fc1",
   "metadata": {},
   "outputs": [
    {
     "data": {
      "text/plain": [
       "56"
      ]
     },
     "execution_count": 130,
     "metadata": {},
     "output_type": "execute_result"
    }
   ],
   "source": [
    "len(result)"
   ]
  },
  {
   "cell_type": "code",
   "execution_count": null,
   "id": "fbdd475e-01d5-462d-a24a-a8d97cd42932",
   "metadata": {},
   "outputs": [],
   "source": []
  }
 ],
 "metadata": {
  "kernelspec": {
   "display_name": "Python 3",
   "language": "python",
   "name": "python3"
  },
  "language_info": {
   "codemirror_mode": {
    "name": "ipython",
    "version": 3
   },
   "file_extension": ".py",
   "mimetype": "text/x-python",
   "name": "python",
   "nbconvert_exporter": "python",
   "pygments_lexer": "ipython3",
   "version": "3.7.3"
  }
 },
 "nbformat": 4,
 "nbformat_minor": 5
}
