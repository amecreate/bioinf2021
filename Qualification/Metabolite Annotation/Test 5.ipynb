{
 "cells": [
  {
   "cell_type": "code",
   "execution_count": 1,
   "id": "b21685d9-53ef-4836-92e6-2917eeddc7a5",
   "metadata": {},
   "outputs": [],
   "source": [
    "with open('5.txt') as f:\n",
    "    lines = f.readlines()"
   ]
  },
  {
   "cell_type": "code",
   "execution_count": 2,
   "id": "65c726c9-9616-46ee-b968-cc83b5f0aa7d",
   "metadata": {},
   "outputs": [
    {
     "data": {
      "text/plain": [
       "'1\\n'"
      ]
     },
     "execution_count": 2,
     "metadata": {},
     "output_type": "execute_result"
    }
   ],
   "source": [
    "lines[0]"
   ]
  },
  {
   "cell_type": "code",
   "execution_count": 3,
   "id": "8d8dfbbf-201e-4901-8179-04b985b5e74d",
   "metadata": {},
   "outputs": [
    {
     "data": {
      "text/plain": [
       "5"
      ]
     },
     "execution_count": 3,
     "metadata": {},
     "output_type": "execute_result"
    }
   ],
   "source": [
    "len(lines)"
   ]
  },
  {
   "cell_type": "code",
   "execution_count": 4,
   "id": "327d4e04-c5a9-42d7-af80-ac4728020f54",
   "metadata": {},
   "outputs": [],
   "source": [
    "title = lines.pop(0)"
   ]
  },
  {
   "cell_type": "code",
   "execution_count": 9,
   "id": "b19a1553-9f28-4fb8-9030-c401aeb90af9",
   "metadata": {},
   "outputs": [
    {
     "name": "stdout",
     "output_type": "stream",
     "text": [
      "CPU times: user 28.4 ms, sys: 9.82 ms, total: 38.2 ms\n",
      "Wall time: 41.3 ms\n"
     ]
    }
   ],
   "source": [
    "%%time\n",
    "\n",
    "a = [float(j) for j in lines[0+1].rstrip().split(' ')]\n",
    "b = [float(j) for j in lines[0+2].rstrip().split(' ')]\n",
    "c = [float(j) for j in lines[0+3].rstrip().split(' ')]"
   ]
  },
  {
   "cell_type": "code",
   "execution_count": 10,
   "id": "0f938bb3-6cc9-41f5-bf0c-cdd30e9ecbee",
   "metadata": {},
   "outputs": [
    {
     "data": {
      "text/plain": [
       "(10000, 10000, 10000)"
      ]
     },
     "execution_count": 10,
     "metadata": {},
     "output_type": "execute_result"
    }
   ],
   "source": [
    "len(a), len(b), len(c)"
   ]
  },
  {
   "cell_type": "code",
   "execution_count": 14,
   "id": "76c3ee16-ea74-4a74-90ca-bdbfae5b6ca9",
   "metadata": {},
   "outputs": [],
   "source": [
    "a2 = sorted(a)\n",
    "b2 = sorted(b)"
   ]
  },
  {
   "cell_type": "code",
   "execution_count": 15,
   "id": "1efa4de1-eac2-4259-8640-1677ecc06183",
   "metadata": {},
   "outputs": [],
   "source": [
    "result = []"
   ]
  },
  {
   "cell_type": "code",
   "execution_count": 16,
   "id": "e4389c59-cc0a-4f1e-bc14-b94f940edd8c",
   "metadata": {},
   "outputs": [],
   "source": [
    "max_val = 100000000"
   ]
  },
  {
   "cell_type": "code",
   "execution_count": 17,
   "id": "9799262e-45f6-46e7-a47e-c1c6a123b4e6",
   "metadata": {},
   "outputs": [
    {
     "name": "stdout",
     "output_type": "stream",
     "text": [
      "CPU times: user 5min 20s, sys: 173 ms, total: 5min 20s\n",
      "Wall time: 5min 21s\n"
     ]
    }
   ],
   "source": [
    "%%time\n",
    "\n",
    "for c_ in c:\n",
    "    l, r, delta = 0, len(b)-1, max_val\n",
    "    while l < len(a2) and r >= 0:\n",
    "        if abs(a2[l] + b2[r] - c_) < delta:\n",
    "            res_l = l\n",
    "            res_r = r\n",
    "            delta = abs(a2[l] + b2[r] - c_)\n",
    "\n",
    "        if a2[l] + b2[r] > c_:\n",
    "            r = r-1\n",
    "        else:\n",
    "            l = l+1\n",
    "    result.append(str(a.index(a2[res_l])+1) + ' ' + str(b.index(b2[res_r])+1) + '\\n')"
   ]
  },
  {
   "cell_type": "code",
   "execution_count": 18,
   "id": "dcabb181-79c9-45ae-900f-2e154205b21e",
   "metadata": {},
   "outputs": [
    {
     "data": {
      "text/plain": [
       "10000"
      ]
     },
     "execution_count": 18,
     "metadata": {},
     "output_type": "execute_result"
    }
   ],
   "source": [
    "len(result)"
   ]
  },
  {
   "cell_type": "code",
   "execution_count": 19,
   "id": "f6b83a15-0411-41f2-ab5c-59ff827545e2",
   "metadata": {},
   "outputs": [],
   "source": [
    "with open('result5.txt','w') as f:\n",
    "    f.writelines(result)"
   ]
  },
  {
   "cell_type": "code",
   "execution_count": null,
   "id": "2fd60cc6-974e-48f5-aff1-0e51c13d0f98",
   "metadata": {},
   "outputs": [],
   "source": []
  }
 ],
 "metadata": {
  "kernelspec": {
   "display_name": "Python 3",
   "language": "python",
   "name": "python3"
  },
  "language_info": {
   "codemirror_mode": {
    "name": "ipython",
    "version": 3
   },
   "file_extension": ".py",
   "mimetype": "text/x-python",
   "name": "python",
   "nbconvert_exporter": "python",
   "pygments_lexer": "ipython3",
   "version": "3.7.3"
  }
 },
 "nbformat": 4,
 "nbformat_minor": 5
}
