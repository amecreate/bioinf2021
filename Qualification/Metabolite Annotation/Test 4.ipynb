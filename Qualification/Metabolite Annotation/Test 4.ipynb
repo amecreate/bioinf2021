{
 "cells": [
  {
   "cell_type": "code",
   "execution_count": 3,
   "id": "4ff39535-35d9-4db3-b583-76796631346c",
   "metadata": {},
   "outputs": [],
   "source": [
    "with open('4.txt') as f:\n",
    "    lines = f.readlines()"
   ]
  },
  {
   "cell_type": "code",
   "execution_count": 4,
   "id": "4289ad74-e71b-495c-995e-522e02968162",
   "metadata": {},
   "outputs": [
    {
     "data": {
      "text/plain": [
       "'2\\n'"
      ]
     },
     "execution_count": 4,
     "metadata": {},
     "output_type": "execute_result"
    }
   ],
   "source": [
    "lines[0]"
   ]
  },
  {
   "cell_type": "code",
   "execution_count": 5,
   "id": "210a8b90-3cd8-4c61-bf89-60fbbde934c7",
   "metadata": {},
   "outputs": [],
   "source": [
    "title = lines.pop(0)"
   ]
  },
  {
   "cell_type": "code",
   "execution_count": 6,
   "id": "033c7c76-68d8-4bf6-8716-40cdd61964b0",
   "metadata": {},
   "outputs": [
    {
     "data": {
      "text/plain": [
       "8"
      ]
     },
     "execution_count": 6,
     "metadata": {},
     "output_type": "execute_result"
    }
   ],
   "source": [
    "len(lines)"
   ]
  },
  {
   "cell_type": "markdown",
   "id": "ab473449-b880-451c-a027-52ea33d2d46a",
   "metadata": {},
   "source": [
    "# First Set"
   ]
  },
  {
   "cell_type": "code",
   "execution_count": 7,
   "id": "41b63d92-6280-4ac3-8e97-f91d48d528bf",
   "metadata": {},
   "outputs": [],
   "source": [
    "a = [float(j) for j in lines[0+1].rstrip().split(' ')]\n",
    "b = [float(j) for j in lines[0+2].rstrip().split(' ')]\n",
    "c = [float(j) for j in lines[0+3].rstrip().split(' ')]"
   ]
  },
  {
   "cell_type": "code",
   "execution_count": 8,
   "id": "f7228570-5e18-49dc-99b2-63bd861c0d05",
   "metadata": {},
   "outputs": [
    {
     "data": {
      "text/plain": [
       "(997478, 998, 992)"
      ]
     },
     "execution_count": 8,
     "metadata": {},
     "output_type": "execute_result"
    }
   ],
   "source": [
    "len(a), len(b), len(c)"
   ]
  },
  {
   "cell_type": "code",
   "execution_count": 9,
   "id": "b1786281-25fc-4ad1-8bcc-257de0797e2a",
   "metadata": {},
   "outputs": [],
   "source": [
    "a2 = sorted(a)\n",
    "b2 = sorted(b)"
   ]
  },
  {
   "cell_type": "code",
   "execution_count": 10,
   "id": "fde76b80-48aa-4fbb-ab12-6b1540a16fe6",
   "metadata": {},
   "outputs": [],
   "source": [
    "result = []"
   ]
  },
  {
   "cell_type": "code",
   "execution_count": 11,
   "id": "7bf84213-9a73-458a-b79a-ddaca6b78a31",
   "metadata": {},
   "outputs": [],
   "source": [
    "max_val = 100000000"
   ]
  },
  {
   "cell_type": "code",
   "execution_count": 12,
   "id": "40a41df7-f63a-4169-a93b-d777fbc5eb7a",
   "metadata": {},
   "outputs": [],
   "source": [
    "for c_ in c:\n",
    "    l, r, delta = 0, len(b)-1, max_val\n",
    "    while l < len(a2) and r >= 0:\n",
    "        if abs(a2[l] + b2[r] - c_) < delta:\n",
    "            res_l = l\n",
    "            res_r = r\n",
    "            delta = abs(a2[l] + b2[r] - c_)\n",
    "\n",
    "        if a2[l] + b2[r] > c_:\n",
    "            r = r-1\n",
    "        else:\n",
    "            l = l+1\n",
    "    result.append(str(a.index(a2[res_l])+1) + ' ' + str(b.index(b2[res_r])+1) + '\\n')"
   ]
  },
  {
   "cell_type": "code",
   "execution_count": 13,
   "id": "a75cc04d-e04d-43c6-b55d-27e32d1d823b",
   "metadata": {},
   "outputs": [
    {
     "data": {
      "text/plain": [
       "992"
      ]
     },
     "execution_count": 13,
     "metadata": {},
     "output_type": "execute_result"
    }
   ],
   "source": [
    "len(result)"
   ]
  },
  {
   "cell_type": "code",
   "execution_count": 14,
   "id": "68874230-b0b3-4d7f-8cb2-7080492e0ac3",
   "metadata": {},
   "outputs": [],
   "source": [
    "with open('result4.txt', 'a') as f:\n",
    "    f.writelines(result)"
   ]
  },
  {
   "cell_type": "markdown",
   "id": "9c3df39b-7d3c-40d6-8b7b-6e6e43ca43df",
   "metadata": {},
   "source": [
    "# Second Set"
   ]
  },
  {
   "cell_type": "code",
   "execution_count": 15,
   "id": "ac4d5fcf-2510-469c-adbc-df6245e0a459",
   "metadata": {},
   "outputs": [],
   "source": [
    "a = [float(j) for j in lines[4+1].rstrip().split(' ')]\n",
    "b = [float(j) for j in lines[4+2].rstrip().split(' ')]\n",
    "c = [float(j) for j in lines[4+3].rstrip().split(' ')]"
   ]
  },
  {
   "cell_type": "code",
   "execution_count": 16,
   "id": "f7541e8d-1438-4b2b-896d-831b91f3f52a",
   "metadata": {},
   "outputs": [
    {
     "data": {
      "text/plain": [
       "(998681, 994, 996)"
      ]
     },
     "execution_count": 16,
     "metadata": {},
     "output_type": "execute_result"
    }
   ],
   "source": [
    "len(a), len(b), len(c)"
   ]
  },
  {
   "cell_type": "code",
   "execution_count": 17,
   "id": "e6bd4823-aee1-43bf-aecf-ce4b4213b200",
   "metadata": {},
   "outputs": [],
   "source": [
    "a2 = sorted(a)\n",
    "b2 = sorted(b)"
   ]
  },
  {
   "cell_type": "code",
   "execution_count": 18,
   "id": "36b93f9f-0eb3-4052-8bb9-54a8588f4892",
   "metadata": {},
   "outputs": [],
   "source": [
    "result2 = []"
   ]
  },
  {
   "cell_type": "code",
   "execution_count": 19,
   "id": "32993f6a-27d3-43a6-9017-396ca835e003",
   "metadata": {},
   "outputs": [],
   "source": [
    "max_val = 100000000"
   ]
  },
  {
   "cell_type": "code",
   "execution_count": 20,
   "id": "5d4aa6db-ad59-440a-8ff2-2a306ff7ed7d",
   "metadata": {},
   "outputs": [],
   "source": [
    "for c_ in c:\n",
    "    l, r, delta = 0, len(b)-1, max_val\n",
    "    while l < len(a2) and r >= 0:\n",
    "        if abs(a2[l] + b2[r] - c_) < delta:\n",
    "            res_l = l\n",
    "            res_r = r\n",
    "            delta = abs(a2[l] + b2[r] - c_)\n",
    "\n",
    "        if a2[l] + b2[r] > c_:\n",
    "            r = r-1\n",
    "        else:\n",
    "            l = l+1\n",
    "    result2.append(str(a.index(a2[res_l])+1) + ' ' + str(b.index(b2[res_r])+1) + '\\n')"
   ]
  },
  {
   "cell_type": "code",
   "execution_count": 21,
   "id": "b1932866-4520-43b6-94e8-a0d986c2e291",
   "metadata": {},
   "outputs": [
    {
     "data": {
      "text/plain": [
       "996"
      ]
     },
     "execution_count": 21,
     "metadata": {},
     "output_type": "execute_result"
    }
   ],
   "source": [
    "len(result2)"
   ]
  },
  {
   "cell_type": "code",
   "execution_count": 22,
   "id": "95140fe4-19a8-4a43-87f6-2420d869fe2d",
   "metadata": {},
   "outputs": [],
   "source": [
    "with open('result4.txt', 'a') as f:\n",
    "    f.writelines(result2)"
   ]
  },
  {
   "cell_type": "code",
   "execution_count": null,
   "id": "64c8fe46-46a5-4aa6-a307-5f6580fc7de8",
   "metadata": {},
   "outputs": [],
   "source": []
  }
 ],
 "metadata": {
  "kernelspec": {
   "display_name": "Python 3",
   "language": "python",
   "name": "python3"
  },
  "language_info": {
   "codemirror_mode": {
    "name": "ipython",
    "version": 3
   },
   "file_extension": ".py",
   "mimetype": "text/x-python",
   "name": "python",
   "nbconvert_exporter": "python",
   "pygments_lexer": "ipython3",
   "version": "3.7.3"
  }
 },
 "nbformat": 4,
 "nbformat_minor": 5
}
