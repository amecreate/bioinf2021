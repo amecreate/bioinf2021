{
 "cells": [
  {
   "cell_type": "code",
   "execution_count": 1,
   "id": "6deaf296-41e6-4426-a699-13643a50038e",
   "metadata": {},
   "outputs": [],
   "source": [
    "# import\n",
    "with open('2.txt') as f:\n",
    "    lines = f.readlines()"
   ]
  },
  {
   "cell_type": "code",
   "execution_count": 13,
   "id": "37408a96-7abd-4968-8fea-d8502c0100f9",
   "metadata": {},
   "outputs": [
    {
     "data": {
      "text/plain": [
       "'479 484 460\\n'"
      ]
     },
     "execution_count": 13,
     "metadata": {},
     "output_type": "execute_result"
    }
   ],
   "source": [
    "lines[0]"
   ]
  },
  {
   "cell_type": "code",
   "execution_count": 16,
   "id": "01509c74-f1bf-4bc3-9058-7b48dc724989",
   "metadata": {},
   "outputs": [
    {
     "data": {
      "text/plain": [
       "'475 469 468\\n'"
      ]
     },
     "execution_count": 16,
     "metadata": {},
     "output_type": "execute_result"
    }
   ],
   "source": [
    "lines[4]"
   ]
  },
  {
   "cell_type": "code",
   "execution_count": null,
   "id": "2689aaac-d8f2-416c-8ae9-d38937698af1",
   "metadata": {},
   "outputs": [],
   "source": [
    "title = lines.pop(0)"
   ]
  },
  {
   "cell_type": "code",
   "execution_count": 34,
   "id": "f89b8e88-b3ae-48a1-a510-0241c85f91d3",
   "metadata": {},
   "outputs": [],
   "source": [
    "result = []"
   ]
  },
  {
   "cell_type": "code",
   "execution_count": 35,
   "id": "962bf620-44e4-47e4-85ef-f2fd487f3475",
   "metadata": {},
   "outputs": [],
   "source": [
    "max_val = 100000000"
   ]
  },
  {
   "cell_type": "code",
   "execution_count": 36,
   "id": "0eeabade-30b9-4c25-9a44-2e0f357a26da",
   "metadata": {},
   "outputs": [],
   "source": [
    "for i in range(0,len(lines),4):\n",
    "    a = [float(j) for j in lines[i+1].rstrip().split(' ')]\n",
    "    b = [float(j) for j in lines[i+2].rstrip().split(' ')]\n",
    "    c = [float(j) for j in lines[i+3].rstrip().split(' ')]\n",
    "\n",
    "    a2 = sorted(a)\n",
    "    b2 = sorted(b)\n",
    "\n",
    "    for c_ in c:\n",
    "        l, r, delta = 0, len(b)-1, max_val\n",
    "        while l < len(a2) and r >= 0:\n",
    "            if abs(a2[l] + b2[r] - c_) < delta:\n",
    "                res_l = l\n",
    "                res_r = r\n",
    "                delta = abs(a2[l] + b2[r] - c_)\n",
    "\n",
    "            if a2[l] + b2[r] > c_:\n",
    "                r = r-1\n",
    "            else:\n",
    "                l = l+1\n",
    "        result.append(str(a.index(a2[res_l])+1) + ' ' + str(b.index(b2[res_r])+1) + '\\n')"
   ]
  },
  {
   "cell_type": "code",
   "execution_count": 39,
   "id": "c97e7291-2cb3-47da-b9d7-a5fbb57d0707",
   "metadata": {},
   "outputs": [],
   "source": [
    "with open('result2.txt', 'w') as f:\n",
    "    f.writelines(result)"
   ]
  }
 ],
 "metadata": {
  "kernelspec": {
   "display_name": "Python 3",
   "language": "python",
   "name": "python3"
  },
  "language_info": {
   "codemirror_mode": {
    "name": "ipython",
    "version": 3
   },
   "file_extension": ".py",
   "mimetype": "text/x-python",
   "name": "python",
   "nbconvert_exporter": "python",
   "pygments_lexer": "ipython3",
   "version": "3.7.3"
  }
 },
 "nbformat": 4,
 "nbformat_minor": 5
}
