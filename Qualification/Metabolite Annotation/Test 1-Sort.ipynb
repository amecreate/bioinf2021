{
 "cells": [
  {
   "cell_type": "markdown",
   "id": "f6078f9e-b9ca-484d-a792-9aa7820e6730",
   "metadata": {},
   "source": [
    "# Import\n"
   ]
  },
  {
   "cell_type": "code",
   "execution_count": 1,
   "id": "a2cd34f0-9326-4980-a902-634591a18805",
   "metadata": {},
   "outputs": [],
   "source": [
    "with open ('1.txt') as f:\n",
    "    lines = f.readlines()"
   ]
  },
  {
   "cell_type": "code",
   "execution_count": 2,
   "id": "c18f8018-57e0-4113-9023-6999f6a9539e",
   "metadata": {},
   "outputs": [
    {
     "data": {
      "text/plain": [
       "['1\\n',\n",
       " '9 10 8\\n',\n",
       " '0.000003 0.000012 0.000081 0.000099 0.000076 0.000045 0.000092 0.000068 0.000047 \\n',\n",
       " '0.000002 0.000045 -0.000063 -0.000009 -0.000050 0.000048 0.000070 -0.000037 0.000056 -0.000008 \\n',\n",
       " '0.000079 0.000094 0.000084 0.000052 0.000064 0.000055 0.000070 0.000079\\n']"
      ]
     },
     "execution_count": 2,
     "metadata": {},
     "output_type": "execute_result"
    }
   ],
   "source": [
    "lines[:5]"
   ]
  },
  {
   "cell_type": "markdown",
   "id": "b28f55aa-9dd5-4f56-8912-6b86c0adbe52",
   "metadata": {},
   "source": [
    "# Sorted List"
   ]
  },
  {
   "cell_type": "code",
   "execution_count": 14,
   "id": "a168b34c-5dcc-401e-863b-6da26b539ea3",
   "metadata": {},
   "outputs": [],
   "source": [
    "a = [float(i) for i in lines[2].rstrip().split(' ')]\n",
    "b = [float(i) for i in lines[3].rstrip().split(' ')]\n",
    "c = [float(i) for i in lines[4].rstrip().split(' ')]"
   ]
  },
  {
   "cell_type": "code",
   "execution_count": 15,
   "id": "17bfa4bd-c108-408b-b496-d8e08b551432",
   "metadata": {},
   "outputs": [
    {
     "data": {
      "text/plain": [
       "[3e-06, 1.2e-05, 8.1e-05, 9.9e-05, 7.6e-05, 4.5e-05, 9.2e-05, 6.8e-05, 4.7e-05]"
      ]
     },
     "execution_count": 15,
     "metadata": {},
     "output_type": "execute_result"
    }
   ],
   "source": [
    "a"
   ]
  },
  {
   "cell_type": "code",
   "execution_count": 16,
   "id": "00fe39cf-312b-4bbf-947b-3d153caca2bc",
   "metadata": {},
   "outputs": [],
   "source": [
    "max_val = 100000000"
   ]
  },
  {
   "cell_type": "code",
   "execution_count": 17,
   "id": "056ba569-d66f-4fe0-bbf7-1708a661da26",
   "metadata": {},
   "outputs": [
    {
     "name": "stdout",
     "output_type": "stream",
     "text": [
      "[3e-06, 1.2e-05, 8.1e-05, 9.9e-05, 7.6e-05, 4.5e-05, 9.2e-05, 6.8e-05, 4.7e-05]\n",
      "[3e-06, 1.2e-05, 4.5e-05, 4.7e-05, 6.8e-05, 7.6e-05, 8.1e-05, 9.2e-05, 9.9e-05]\n"
     ]
    }
   ],
   "source": [
    "a2 = sorted(a)\n",
    "b2 = sorted(b)\n",
    "print(a)\n",
    "print(a2)"
   ]
  },
  {
   "cell_type": "code",
   "execution_count": 11,
   "id": "bc9a2f05-e2ca-4202-83bd-14c5cce34d76",
   "metadata": {},
   "outputs": [],
   "source": [
    "res_l, res_r = 0, 0"
   ]
  },
  {
   "cell_type": "code",
   "execution_count": 12,
   "id": "6f819943-be4a-43ab-80e8-2883c87b5984",
   "metadata": {},
   "outputs": [],
   "source": []
  },
  {
   "cell_type": "code",
   "execution_count": 22,
   "id": "f0cd9713-12cf-4c86-8fd6-97355dd906c7",
   "metadata": {},
   "outputs": [
    {
     "name": "stdout",
     "output_type": "stream",
     "text": [
      "5 1\n",
      "7 1\n",
      "7 10\n",
      "1 6\n",
      "4 8\n",
      "7 8\n",
      "8 1\n",
      "5 1\n"
     ]
    }
   ],
   "source": [
    "for c_ in c:\n",
    "    l, r, delta = 0, len(b)-1, max_val\n",
    "    while l < len(a2) and r >= 0:\n",
    "        if abs(a2[l] + b2[r] - c_) < delta:\n",
    "            res_l = l\n",
    "            res_r = r\n",
    "            delta = abs(a2[l] + b2[r] - c_)\n",
    "        \n",
    "        if a2[l] + b2[r] > c_:\n",
    "            r = r-1\n",
    "        else:\n",
    "            l = l+1\n",
    "    print(a.index(a2[res_l])+1,b.index(b2[res_r])+1)"
   ]
  },
  {
   "cell_type": "code",
   "execution_count": 23,
   "id": "a5d01c55-da0b-4002-8637-05d619f01133",
   "metadata": {},
   "outputs": [
    {
     "data": {
      "text/plain": [
       "8"
      ]
     },
     "execution_count": 23,
     "metadata": {},
     "output_type": "execute_result"
    }
   ],
   "source": [
    "len(c)"
   ]
  },
  {
   "cell_type": "code",
   "execution_count": 24,
   "id": "b096fa29-8a33-4983-86ce-441190c55f5b",
   "metadata": {},
   "outputs": [
    {
     "data": {
      "text/plain": [
       "0"
      ]
     },
     "execution_count": 24,
     "metadata": {},
     "output_type": "execute_result"
    }
   ],
   "source": [
    "len(result)"
   ]
  },
  {
   "cell_type": "code",
   "execution_count": null,
   "id": "fdd8a3b3-bb23-4e81-ac10-e7026013915b",
   "metadata": {},
   "outputs": [],
   "source": []
  }
 ],
 "metadata": {
  "kernelspec": {
   "display_name": "Python 3",
   "language": "python",
   "name": "python3"
  },
  "language_info": {
   "codemirror_mode": {
    "name": "ipython",
    "version": 3
   },
   "file_extension": ".py",
   "mimetype": "text/x-python",
   "name": "python",
   "nbconvert_exporter": "python",
   "pygments_lexer": "ipython3",
   "version": "3.7.3"
  }
 },
 "nbformat": 4,
 "nbformat_minor": 5
}
