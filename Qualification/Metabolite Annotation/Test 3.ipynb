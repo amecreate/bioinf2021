{
 "cells": [
  {
   "cell_type": "code",
   "execution_count": 1,
   "id": "e7583aa7-3dd6-4e91-a6f1-85a99a043996",
   "metadata": {},
   "outputs": [],
   "source": [
    "# load\n",
    "with open('3.txt') as f:\n",
    "    lines = f.readlines()"
   ]
  },
  {
   "cell_type": "code",
   "execution_count": 2,
   "id": "17d663e4-c6d9-4fdf-aaa7-a85a3e70ac02",
   "metadata": {},
   "outputs": [
    {
     "data": {
      "text/plain": [
       "'2\\n'"
      ]
     },
     "execution_count": 2,
     "metadata": {},
     "output_type": "execute_result"
    }
   ],
   "source": [
    "lines[0]"
   ]
  },
  {
   "cell_type": "code",
   "execution_count": 3,
   "id": "55f2ec00-2299-4563-88fb-2857f10c0066",
   "metadata": {},
   "outputs": [
    {
     "data": {
      "text/plain": [
       "9"
      ]
     },
     "execution_count": 3,
     "metadata": {},
     "output_type": "execute_result"
    }
   ],
   "source": [
    "len(lines)"
   ]
  },
  {
   "cell_type": "code",
   "execution_count": 2,
   "id": "36847588-fc60-4ed6-b143-26b2e1d95745",
   "metadata": {},
   "outputs": [],
   "source": [
    "title = lines.pop(0)"
   ]
  },
  {
   "cell_type": "code",
   "execution_count": 18,
   "id": "05909770-e9c6-468f-b575-76439a1cad9a",
   "metadata": {},
   "outputs": [],
   "source": [
    "result = []\n",
    "max_val = 100000000"
   ]
  },
  {
   "cell_type": "markdown",
   "id": "c3385ffa-cc30-42cd-94fc-351dc3c849cd",
   "metadata": {},
   "source": [
    "# First Set"
   ]
  },
  {
   "cell_type": "code",
   "execution_count": 27,
   "id": "12aa7b33-b8de-4470-b8e4-0a961b83bb81",
   "metadata": {},
   "outputs": [],
   "source": [
    "a = [float(j) for j in lines[4+1].rstrip().split(' ')]\n",
    "b = [float(j) for j in lines[4+2].rstrip().split(' ')]\n",
    "c = [float(j) for j in lines[4+3].rstrip().split(' ')]"
   ]
  },
  {
   "cell_type": "code",
   "execution_count": 28,
   "id": "a1b85454-87a3-44ea-aa38-6370719e5662",
   "metadata": {},
   "outputs": [],
   "source": [
    "a2 = sorted(a)\n",
    "b2 = sorted(b)"
   ]
  },
  {
   "cell_type": "code",
   "execution_count": 29,
   "id": "10d335a6-7c2d-492c-9d8b-aafc133ee345",
   "metadata": {},
   "outputs": [
    {
     "data": {
      "text/plain": [
       "(99762, 995, 994)"
      ]
     },
     "execution_count": 29,
     "metadata": {},
     "output_type": "execute_result"
    }
   ],
   "source": [
    "len(c), len(a), len(b)"
   ]
  },
  {
   "cell_type": "code",
   "execution_count": 31,
   "id": "61416de8-165d-455d-bd75-93b909b83d35",
   "metadata": {},
   "outputs": [],
   "source": [
    "result2 = []"
   ]
  },
  {
   "cell_type": "code",
   "execution_count": 32,
   "id": "15765ad7-a492-4896-9a39-7ff18df7056b",
   "metadata": {},
   "outputs": [],
   "source": [
    "for c_ in c:\n",
    "    l, r, delta = 0, len(b)-1, max_val\n",
    "    while l < len(a2) and r >= 0:\n",
    "        if abs(a2[l] + b2[r] - c_) < delta:\n",
    "            res_l = l\n",
    "            res_r = r\n",
    "            delta = abs(a2[l] + b2[r] - c_)\n",
    "\n",
    "        if a2[l] + b2[r] > c_:\n",
    "            r = r-1\n",
    "        else:\n",
    "            l = l+1\n",
    "    result2.append(str(a.index(a2[res_l])+1) + ' ' + str(b.index(b2[res_r])+1) + '\\n')"
   ]
  },
  {
   "cell_type": "code",
   "execution_count": 33,
   "id": "a7700ee5-eb38-4c00-8077-ed64df1f6802",
   "metadata": {},
   "outputs": [
    {
     "data": {
      "text/plain": [
       "(99171, 99762)"
      ]
     },
     "execution_count": 33,
     "metadata": {},
     "output_type": "execute_result"
    }
   ],
   "source": [
    "len(result),len(result2)"
   ]
  },
  {
   "cell_type": "code",
   "execution_count": 34,
   "id": "300bf21e-d7f9-4c0c-aff2-1e327fc4d07b",
   "metadata": {},
   "outputs": [],
   "source": [
    "with open('result3.txt','a') as f:\n",
    "    f.writelines(result2)"
   ]
  },
  {
   "cell_type": "code",
   "execution_count": 4,
   "id": "cf26da6f-cb13-4930-8bc0-a7edd21494df",
   "metadata": {},
   "outputs": [],
   "source": [
    "import numpy as np"
   ]
  },
  {
   "cell_type": "code",
   "execution_count": 10,
   "id": "26a01b36-b2b6-4ae2-a9d8-98f0ce5afbea",
   "metadata": {},
   "outputs": [
    {
     "ename": "KeyboardInterrupt",
     "evalue": "",
     "output_type": "error",
     "traceback": [
      "\u001b[0;31m---------------------------------------------------------------------------\u001b[0m",
      "\u001b[0;31mKeyboardInterrupt\u001b[0m                         Traceback (most recent call last)",
      "\u001b[0;32m<ipython-input-10-475dc7be569c>\u001b[0m in \u001b[0;36m<module>\u001b[0;34m\u001b[0m\n\u001b[1;32m     15\u001b[0m                 \u001b[0mdelta\u001b[0m \u001b[0;34m=\u001b[0m \u001b[0mabs\u001b[0m\u001b[0;34m(\u001b[0m\u001b[0ma2\u001b[0m\u001b[0;34m[\u001b[0m\u001b[0ml\u001b[0m\u001b[0;34m]\u001b[0m \u001b[0;34m+\u001b[0m \u001b[0mb2\u001b[0m\u001b[0;34m[\u001b[0m\u001b[0mr\u001b[0m\u001b[0;34m]\u001b[0m \u001b[0;34m-\u001b[0m \u001b[0mc_\u001b[0m\u001b[0;34m)\u001b[0m\u001b[0;34m\u001b[0m\u001b[0;34m\u001b[0m\u001b[0m\n\u001b[1;32m     16\u001b[0m \u001b[0;34m\u001b[0m\u001b[0m\n\u001b[0;32m---> 17\u001b[0;31m             \u001b[0;32mif\u001b[0m \u001b[0ma2\u001b[0m\u001b[0;34m[\u001b[0m\u001b[0ml\u001b[0m\u001b[0;34m]\u001b[0m \u001b[0;34m+\u001b[0m \u001b[0mb2\u001b[0m\u001b[0;34m[\u001b[0m\u001b[0mr\u001b[0m\u001b[0;34m]\u001b[0m \u001b[0;34m>\u001b[0m \u001b[0mc_\u001b[0m\u001b[0;34m:\u001b[0m\u001b[0;34m\u001b[0m\u001b[0;34m\u001b[0m\u001b[0m\n\u001b[0m\u001b[1;32m     18\u001b[0m                 \u001b[0mr\u001b[0m \u001b[0;34m=\u001b[0m \u001b[0mr\u001b[0m\u001b[0;34m-\u001b[0m\u001b[0;36m1\u001b[0m\u001b[0;34m\u001b[0m\u001b[0;34m\u001b[0m\u001b[0m\n\u001b[1;32m     19\u001b[0m             \u001b[0;32melse\u001b[0m\u001b[0;34m:\u001b[0m\u001b[0;34m\u001b[0m\u001b[0;34m\u001b[0m\u001b[0m\n",
      "\u001b[0;31mKeyboardInterrupt\u001b[0m: "
     ]
    }
   ],
   "source": [
    "for i in range(0,len(lines),4):\n",
    "    a = [float(j) for j in lines[i+1].rstrip().split(' ')]\n",
    "    b = [float(j) for j in lines[i+2].rstrip().split(' ')]\n",
    "    c = [float(j) for j in lines[i+3].rstrip().split(' ')]\n",
    "\n",
    "    a2 = sorted(a)\n",
    "    b2 = sorted(b)\n",
    "\n",
    "    for c_ in c:\n",
    "        l, r, delta = 0, len(b)-1, max_val\n",
    "        while l < len(a2) and r >= 0:\n",
    "            if abs(a2[l] + b2[r] - c_) < delta:\n",
    "                res_l = l\n",
    "                res_r = r\n",
    "                delta = abs(a2[l] + b2[r] - c_)\n",
    "\n",
    "            if a2[l] + b2[r] > c_:\n",
    "                r = r-1\n",
    "            else:\n",
    "                l = l+1\n",
    "        result.append(str(np.where(a == a2[res_l])[0]+1) + ' ' + str(np.where(a == b2[res_r])[0]+1) + '\\n')"
   ]
  },
  {
   "cell_type": "code",
   "execution_count": null,
   "id": "05ee000a-d194-4ab6-9d37-560cb6ede89a",
   "metadata": {},
   "outputs": [],
   "source": [
    "with open('result3.txt', 'w') as f:\n",
    "    f.writelines(result)"
   ]
  },
  {
   "cell_type": "code",
   "execution_count": 11,
   "id": "c7e0964b-b820-44b4-a95e-6c3f1b17ca5b",
   "metadata": {},
   "outputs": [],
   "source": [
    "import gc"
   ]
  },
  {
   "cell_type": "code",
   "execution_count": 26,
   "id": "7d91128c-2984-4c38-8b09-88d78d252327",
   "metadata": {},
   "outputs": [
    {
     "data": {
      "text/plain": [
       "154"
      ]
     },
     "execution_count": 26,
     "metadata": {},
     "output_type": "execute_result"
    }
   ],
   "source": [
    "gc.collect()"
   ]
  },
  {
   "cell_type": "code",
   "execution_count": null,
   "id": "df72a6dd-04dc-4441-a662-1ddd596b529e",
   "metadata": {},
   "outputs": [],
   "source": []
  }
 ],
 "metadata": {
  "kernelspec": {
   "display_name": "Python 3",
   "language": "python",
   "name": "python3"
  },
  "language_info": {
   "codemirror_mode": {
    "name": "ipython",
    "version": 3
   },
   "file_extension": ".py",
   "mimetype": "text/x-python",
   "name": "python",
   "nbconvert_exporter": "python",
   "pygments_lexer": "ipython3",
   "version": "3.7.3"
  }
 },
 "nbformat": 4,
 "nbformat_minor": 5
}
