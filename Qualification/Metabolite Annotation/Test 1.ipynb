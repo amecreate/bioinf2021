{
 "cells": [
  {
   "cell_type": "markdown",
   "id": "f6078f9e-b9ca-484d-a792-9aa7820e6730",
   "metadata": {},
   "source": [
    "# Import\n"
   ]
  },
  {
   "cell_type": "code",
   "execution_count": 1,
   "id": "a2cd34f0-9326-4980-a902-634591a18805",
   "metadata": {},
   "outputs": [],
   "source": [
    "with open ('1.txt') as f:\n",
    "    lines = f.readlines()"
   ]
  },
  {
   "cell_type": "code",
   "execution_count": 2,
   "id": "c18f8018-57e0-4113-9023-6999f6a9539e",
   "metadata": {},
   "outputs": [
    {
     "data": {
      "text/plain": [
       "['1\\n',\n",
       " '9 10 8\\n',\n",
       " '0.000003 0.000012 0.000081 0.000099 0.000076 0.000045 0.000092 0.000068 0.000047 \\n',\n",
       " '0.000002 0.000045 -0.000063 -0.000009 -0.000050 0.000048 0.000070 -0.000037 0.000056 -0.000008 \\n',\n",
       " '0.000079 0.000094 0.000084 0.000052 0.000064 0.000055 0.000070 0.000079\\n']"
      ]
     },
     "execution_count": 2,
     "metadata": {},
     "output_type": "execute_result"
    }
   ],
   "source": [
    "lines[:5]"
   ]
  },
  {
   "cell_type": "code",
   "execution_count": 3,
   "id": "a42de07e-db9b-4a6b-aca0-23ee59a11536",
   "metadata": {},
   "outputs": [
    {
     "data": {
      "text/plain": [
       "5"
      ]
     },
     "execution_count": 3,
     "metadata": {},
     "output_type": "execute_result"
    }
   ],
   "source": [
    "len(lines)"
   ]
  },
  {
   "cell_type": "markdown",
   "id": "9ca748bf-6c45-4575-ae66-317954e3df11",
   "metadata": {},
   "source": [
    "# Analysis"
   ]
  },
  {
   "cell_type": "markdown",
   "id": "c05a9046-7622-4bf8-ae1e-4f7ce720c198",
   "metadata": {},
   "source": [
    "- subset sum problem: dynamic programing\n",
    "\n",
    "- recurssion\n",
    "\n",
    "- itertools combination\n",
    "\n",
    "- for loop"
   ]
  },
  {
   "cell_type": "markdown",
   "id": "b28f55aa-9dd5-4f56-8912-6b86c0adbe52",
   "metadata": {},
   "source": [
    "# Ugly For Loop"
   ]
  },
  {
   "cell_type": "code",
   "execution_count": 93,
   "id": "ff0b5052-b83d-4bec-a2ac-f1284370c072",
   "metadata": {},
   "outputs": [],
   "source": [
    "a = [0.000001, 0.000002, 0.000003, 0.000004, 0.000005]\n",
    "b = [0.000002, 0.000010, 0.000001, -0.000001]\n",
    "c = [0.000001, 0.000002, 0.000100, 0.000005, 0.000020, 0.000010, 0.000003]"
   ]
  },
  {
   "cell_type": "code",
   "execution_count": 81,
   "id": "dfbfd38d-b9de-4d1f-bbd6-4f410fccebbc",
   "metadata": {},
   "outputs": [
    {
     "data": {
      "text/plain": [
       "[1e-06, 2e-06, 3e-06, 4e-06, 5e-06]"
      ]
     },
     "execution_count": 81,
     "metadata": {},
     "output_type": "execute_result"
    }
   ],
   "source": [
    "a"
   ]
  },
  {
   "cell_type": "code",
   "execution_count": 94,
   "id": "f43287b7-6849-413d-8fe5-0e4a25d0c329",
   "metadata": {},
   "outputs": [],
   "source": [
    "# using generator\n",
    "\n",
    "def pro_sum(a,b):\n",
    "    for i in a:\n",
    "        for j in b:\n",
    "            yield i,j,i+j"
   ]
  },
  {
   "cell_type": "code",
   "execution_count": 95,
   "id": "35709132-95f8-452b-a5ea-6b1f88694bf3",
   "metadata": {},
   "outputs": [],
   "source": [
    "sum_gen = pro_sum(a,b)"
   ]
  },
  {
   "cell_type": "code",
   "execution_count": 96,
   "id": "2f405388-c147-4a02-8049-cbd164ee506a",
   "metadata": {},
   "outputs": [
    {
     "data": {
      "text/plain": [
       "(1e-06, 2e-06, 3e-06)"
      ]
     },
     "execution_count": 96,
     "metadata": {},
     "output_type": "execute_result"
    }
   ],
   "source": [
    "next(sum_gen)"
   ]
  },
  {
   "cell_type": "code",
   "execution_count": 97,
   "id": "85b2709f-ad55-49b6-b034-726ec2a9c658",
   "metadata": {},
   "outputs": [
    {
     "data": {
      "text/plain": [
       "[(1e-06, 2e-06, 3e-06),\n",
       " (1e-06, 1e-05, 1.1000000000000001e-05),\n",
       " (1e-06, 1e-06, 2e-06),\n",
       " (1e-06, -1e-06, 0.0),\n",
       " (2e-06, 2e-06, 4e-06),\n",
       " (2e-06, 1e-05, 1.2e-05),\n",
       " (2e-06, 1e-06, 3e-06),\n",
       " (2e-06, -1e-06, 1e-06),\n",
       " (3e-06, 2e-06, 4.9999999999999996e-06),\n",
       " (3e-06, 1e-05, 1.3000000000000001e-05),\n",
       " (3e-06, 1e-06, 4e-06),\n",
       " (3e-06, -1e-06, 2.0000000000000003e-06),\n",
       " (4e-06, 2e-06, 6e-06),\n",
       " (4e-06, 1e-05, 1.4000000000000001e-05),\n",
       " (4e-06, 1e-06, 4.9999999999999996e-06),\n",
       " (4e-06, -1e-06, 3e-06),\n",
       " (5e-06, 2e-06, 7.000000000000001e-06),\n",
       " (5e-06, 1e-05, 1.5000000000000002e-05),\n",
       " (5e-06, 1e-06, 6e-06),\n",
       " (5e-06, -1e-06, 4.000000000000001e-06)]"
      ]
     },
     "execution_count": 97,
     "metadata": {},
     "output_type": "execute_result"
    }
   ],
   "source": [
    "list(pro_sum(a,b))"
   ]
  },
  {
   "cell_type": "code",
   "execution_count": 103,
   "id": "0b8e2405-5f10-4129-a4c5-a54f2b53f046",
   "metadata": {},
   "outputs": [
    {
     "name": "stdout",
     "output_type": "stream",
     "text": [
      "2 4\n",
      "1 3\n",
      "5 2\n",
      "4 3\n",
      "5 2\n",
      "1 2\n",
      "4 4\n"
     ]
    }
   ],
   "source": [
    "for c_ in c:\n",
    "    delta = c_ - (a[0] + b[0])\n",
    "    for m,n,k in pro_sum(a,b):\n",
    "        if k < 0: # sum must be greater than zero\n",
    "            pass\n",
    "        else:\n",
    "            delta_ = abs(c_ - k) # k plus delta equals c_\n",
    "            if abs(delta_) > abs(delta):# dynamic computing, find least delta_\n",
    "                pass\n",
    "            else:\n",
    "                a_ = m\n",
    "                b_ = n\n",
    "                delta = delta_\n",
    "    print(a.index(a_)+1,b.index(b_)+1)"
   ]
  },
  {
   "cell_type": "code",
   "execution_count": null,
   "id": "00ecb5a5-aad0-4c3d-a846-bbcdffaeab65",
   "metadata": {},
   "outputs": [],
   "source": [
    "for m,n,k in pro_sum(a,b):\n",
    "    if k < 0: # sum must be greater than zero\n",
    "        pass\n",
    "    else:\n",
    "        "
   ]
  },
  {
   "cell_type": "markdown",
   "id": "5aa36155-da04-4dd1-9114-93a471bd8bd3",
   "metadata": {},
   "source": [
    "# Actual Problem"
   ]
  },
  {
   "cell_type": "code",
   "execution_count": 104,
   "id": "2edd60e9-2702-4ae0-9be5-26b394460976",
   "metadata": {},
   "outputs": [
    {
     "data": {
      "text/plain": [
       "187"
      ]
     },
     "execution_count": 104,
     "metadata": {},
     "output_type": "execute_result"
    }
   ],
   "source": [
    "import gc\n",
    "gc.collect()"
   ]
  },
  {
   "cell_type": "code",
   "execution_count": 105,
   "id": "a168b34c-5dcc-401e-863b-6da26b539ea3",
   "metadata": {},
   "outputs": [],
   "source": [
    "a = [float(i) for i in lines[2].rstrip().split(' ')]\n",
    "b = [float(i) for i in lines[3].rstrip().split(' ')]\n",
    "c = [float(i) for i in lines[4].rstrip().split(' ')]"
   ]
  },
  {
   "cell_type": "code",
   "execution_count": 106,
   "id": "17bfa4bd-c108-408b-b496-d8e08b551432",
   "metadata": {},
   "outputs": [
    {
     "data": {
      "text/plain": [
       "[3e-06, 1.2e-05, 8.1e-05, 9.9e-05, 7.6e-05, 4.5e-05, 9.2e-05, 6.8e-05, 4.7e-05]"
      ]
     },
     "execution_count": 106,
     "metadata": {},
     "output_type": "execute_result"
    }
   ],
   "source": [
    "a"
   ]
  },
  {
   "cell_type": "code",
   "execution_count": null,
   "id": "f68ad477-4b3b-413e-bb59-3076364f94ee",
   "metadata": {},
   "outputs": [],
   "source": [
    "result = [] "
   ]
  },
  {
   "cell_type": "code",
   "execution_count": 107,
   "id": "7753c16d-6070-48f9-8826-d704e185d00e",
   "metadata": {},
   "outputs": [
    {
     "name": "stdout",
     "output_type": "stream",
     "text": [
      "5 1\n",
      "7 1\n",
      "7 10\n",
      "1 6\n",
      "4 8\n",
      "7 8\n",
      "8 1\n",
      "5 1\n"
     ]
    }
   ],
   "source": [
    "for c_ in c:\n",
    "    delta = c_ - (a[0] + b[0])\n",
    "    for m,n,k in pro_sum(a,b):\n",
    "        if k < 0: # sum must be greater than zero\n",
    "            pass\n",
    "        else:\n",
    "            delta_ = abs(c_ - k) # k plus delta equals c_\n",
    "            if abs(delta_) > abs(delta):# dynamic computing, find least delta_\n",
    "                pass\n",
    "            else:\n",
    "                a_ = m\n",
    "                b_ = n\n",
    "                delta = delta_\n",
    "    print(a.index(a_)+1,b.index(b_)+1)\n",
    "    result.append(str(a.index(a_)+1) + ' ' + str(b.index(b_)+1) + '\\n')"
   ]
  },
  {
   "cell_type": "code",
   "execution_count": 108,
   "id": "6cb97465-c0fa-4add-92a8-b53a5c985570",
   "metadata": {},
   "outputs": [
    {
     "data": {
      "text/plain": [
       "['5 1\\n', '7 1\\n', '7 10\\n', '1 6\\n', '4 8\\n', '7 8\\n', '8 1\\n', '5 1\\n']"
      ]
     },
     "execution_count": 108,
     "metadata": {},
     "output_type": "execute_result"
    }
   ],
   "source": [
    "result"
   ]
  },
  {
   "cell_type": "markdown",
   "id": "451d75f9-b263-4762-b446-7a304cdd0fa2",
   "metadata": {},
   "source": [
    "# Export"
   ]
  },
  {
   "cell_type": "code",
   "execution_count": 109,
   "id": "f45e9c6c-f9b4-4a6a-9963-1e5e11ffd553",
   "metadata": {},
   "outputs": [],
   "source": [
    "with open('result1.txt', 'w') as f:\n",
    "    f.writelines(result)"
   ]
  }
 ],
 "metadata": {
  "kernelspec": {
   "display_name": "Python 3",
   "language": "python",
   "name": "python3"
  },
  "language_info": {
   "codemirror_mode": {
    "name": "ipython",
    "version": 3
   },
   "file_extension": ".py",
   "mimetype": "text/x-python",
   "name": "python",
   "nbconvert_exporter": "python",
   "pygments_lexer": "ipython3",
   "version": "3.7.3"
  }
 },
 "nbformat": 4,
 "nbformat_minor": 5
}
